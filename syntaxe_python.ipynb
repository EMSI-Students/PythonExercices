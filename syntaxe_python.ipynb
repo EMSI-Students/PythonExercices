{
 "cells": [
  {
   "cell_type": "markdown",
   "metadata": {},
   "source": [
    "# Syntaxe de base de Python\n",
    "## Commentaires en Python\n",
    "Les commentaires servent généralement à documenter le code : ils vont être ignorés lors de l’exécution du code et vont donc être totalement transparents pour l’utilisateur final. En Python, on utilise le signe ```#``` pour écrire un commentaire dans notre code."
   ]
  },
  {
   "cell_type": "code",
   "execution_count": 1,
   "metadata": {},
   "outputs": [
    {
     "name": "stdout",
     "output_type": "stream",
     "text": [
      "Hello World\n"
     ]
    }
   ],
   "source": [
    "# this function will return Hello World\n",
    "print(\"Hello World\")"
   ]
  },
  {
   "cell_type": "markdown",
   "metadata": {},
   "source": [
    "\n",
    "Puisque Python ignore les chaînes de caractères littérales qui ne sont pas affectées à une variable, vous pouvez ajouter une chaîne de caractères multiligne (guillemets triples) dans votre code, et y placer votre commentaire."
   ]
  },
  {
   "cell_type": "code",
   "execution_count": 2,
   "metadata": {},
   "outputs": [
    {
     "name": "stdout",
     "output_type": "stream",
     "text": [
      "Hello World again\n"
     ]
    }
   ],
   "source": [
    "\"\"\"\n",
    "this is a comment on\n",
    "multiple lines.\n",
    "Here we show just a message\n",
    "using print() function\n",
    "\"\"\"\n",
    "print(\"Hello World again\")"
   ]
  },
  {
   "cell_type": "markdown",
   "metadata": {},
   "source": [
    "\n",
    "## L’indentation en Python\n",
    "Dans la grande majorité des langages, l’indentation n’a qu’une visée esthétique : elle permet à un script d’être plus lisible pour un développeur.\n",
    "En Python est utilisée pour définir des blocs de code, c’est-à-dire pour indiquer à l’interpréteur quelle instruction appartient à quelle autre. Dès qu’il y a une relation de dépendance, il faudra ajouter une tabulation. Si on indente mal notre code Python, celui-ci ne s’exécutera tout simplement pas et Python renverra une erreur."
   ]
  },
  {
   "cell_type": "code",
   "execution_count": 3,
   "metadata": {},
   "outputs": [
    {
     "name": "stdout",
     "output_type": "stream",
     "text": [
      "x equals 2\n",
      "0\n",
      "1\n",
      "2\n",
      "3\n"
     ]
    }
   ],
   "source": [
    "x = 2\n",
    "if x==2:\n",
    "    print(\"x equals 2\")\n",
    "elif x==3:\n",
    "    print(\"x equals 3\")\n",
    "else:\n",
    "    print(\"autre chose\")\n",
    "for i in range(4):\n",
    "    print(i)"
   ]
  },
  {
   "cell_type": "code",
   "execution_count": 4,
   "metadata": {},
   "outputs": [
    {
     "ename": "IndentationError",
     "evalue": "expected an indented block (<ipython-input-4-06cd5c847251>, line 3)",
     "output_type": "error",
     "traceback": [
      "\u001b[0;36m  File \u001b[0;32m\"<ipython-input-4-06cd5c847251>\"\u001b[0;36m, line \u001b[0;32m3\u001b[0m\n\u001b[0;31m    print(\"x equals 2\")\u001b[0m\n\u001b[0m    ^\u001b[0m\n\u001b[0;31mIndentationError\u001b[0m\u001b[0;31m:\u001b[0m expected an indented block\n"
     ]
    }
   ],
   "source": [
    "x = 2\n",
    "if x == 2:\n",
    "print(\"x equals 2\")"
   ]
  },
  {
   "cell_type": "markdown",
   "metadata": {},
   "source": [
    "## Identificateurs\n",
    "Python utilise des identificateurs pour nommer ses objets y parmis les variables, fonctions, class ... mais il faut respecter les règles usuelles suivantes pour le choix des identificateurs:\n",
    "\n",
    "- L'identificateurs doit commencer par une lettre ou par un underscore.\n",
    "- L'identificateurs ne doit contenir que des caractères alphanumériques courants (pas d’espace dans l'identificateurs ni de caractères spéciaux comme des caractères accentués ou tout autre signe).\n",
    "- On ne peut pas utiliser certains mots qui possèdent déjà une signification spéciale pour le langage (on parle de mots “réservés”).\n",
    "\n",
    "<table>\n",
    "<thead>\n",
    "<tr>\n",
    "<th>Mots réservés en Python</th>\n",
    "<th>&nbsp;</th>\n",
    "<th>&nbsp;</th>\n",
    "<th>&nbsp;</th>\n",
    "</tr>\n",
    "</thead>\n",
    "<tbody>\n",
    "<tr>\n",
    "<td><code>False</code></td>\n",
    "<td><code>def</code></td>\n",
    "<td><code>if</code></td>\n",
    "<td><code>raise</code></td>\n",
    "</tr>\n",
    "<tr>\n",
    "<td><code>None</code></td>\n",
    "<td><code>del</code></td>\n",
    "<td><code>import</code></td>\n",
    "<td><code>return</code></td>\n",
    "</tr>\n",
    "<tr>\n",
    "<td><code>True</code></td>\n",
    "<td><code>elif</code></td>\n",
    "<td><code>in</code></td>\n",
    "<td><code>try</code></td>\n",
    "</tr>\n",
    "<tr>\n",
    "<td><code>and</code></td>\n",
    "<td><code>else</code></td>\n",
    "<td><code>is</code></td>\n",
    "<td><code>while</code></td>\n",
    "</tr>\n",
    "<tr>\n",
    "<td><code>as</code></td>\n",
    "<td><code>except</code></td>\n",
    "<td><code>lambda</code></td>\n",
    "<td><code>with</code></td>\n",
    "</tr>\n",
    "<tr>\n",
    "<td><code>assert</code></td>\n",
    "<td><code>finally</code></td>\n",
    "<td><code>nonlocal</code></td>\n",
    "<td><code>yield</code></td>\n",
    "</tr>\n",
    "<tr>\n",
    "<td><code>break</code></td>\n",
    "<td><code>for</code></td>\n",
    "<td><code>not</code></td>\n",
    "<td></td>\n",
    "</tr>\n",
    "<tr>\n",
    "<td><code>class</code></td>\n",
    "<td><code>from</code></td>\n",
    "<td><code>or</code></td>\n",
    "<td></td>\n",
    "</tr>\n",
    "<tr>\n",
    "<td><code>continue</code></td>\n",
    "<td><code>global</code></td>\n",
    "<td><code>pass</code></td>\n",
    "<td></td>\n",
    "</tr>\n",
    "</tbody>\n",
    "</table>\n"
   ]
  },
  {
   "cell_type": "code",
   "execution_count": 5,
   "metadata": {},
   "outputs": [
    {
     "ename": "SyntaxError",
     "evalue": "invalid syntax (<ipython-input-5-dcb1ccafc56c>, line 5)",
     "output_type": "error",
     "traceback": [
      "\u001b[0;36m  File \u001b[0;32m\"<ipython-input-5-dcb1ccafc56c>\"\u001b[0;36m, line \u001b[0;32m5\u001b[0m\n\u001b[0;31m    global = montant_ht + montant_tva\u001b[0m\n\u001b[0m           ^\u001b[0m\n\u001b[0;31mSyntaxError\u001b[0m\u001b[0;31m:\u001b[0m invalid syntax\n"
     ]
    }
   ],
   "source": [
    "# Prenons le paiement d'une facture online\n",
    "montant_ht = 132.50\n",
    "taux_tva = 0.14\n",
    "montant_tva = montant_ht * taux_tva\n",
    "global = montant_ht + montant_tva\n"
   ]
  },
  {
   "cell_type": "markdown",
   "metadata": {},
   "source": [
    "Prenez l'habitude de lire attentivement les messages d'erreur. Ce message d'erreur indique que l'instruction *global = montant_ht + montant_tva* a une syntaxe non valide, et c'est tout à fait correct.\n",
    "\n",
    "Vous n'avez pas besoin de mémoriser cette liste. Dans la plupart des environnements de développement (comme VS Code), les mots-clés sont affichés dans une couleur différente (vous avez remarqué que *global* était en bleu), si vous essayez d'en utiliser un comme nom de variable, vous le saurez.\n",
    "\n",
    "Donc reprenons notre exemple :"
   ]
  },
  {
   "cell_type": "code",
   "execution_count": 6,
   "metadata": {
    "collapsed": true
   },
   "outputs": [],
   "source": [
    "# Utilisons cette fois le nom \"montant_ttc\"\n",
    "montant_ht = 132.50\n",
    "taux_tva = 0.14\n",
    "montant_tva = montant_ht * taux_tva\n",
    "montant_ttc = montant_ht + montant_tva"
   ]
  },
  {
   "cell_type": "code",
   "execution_count": 7,
   "metadata": {
    "collapsed": true
   },
   "outputs": [
    {
     "name": "stdout",
     "output_type": "stream",
     "text": [
      "151.05\n"
     ]
    }
   ],
   "source": [
    "# Afficher la somme d'argent à payer (\"montant_TTC\") en dirhams\n",
    "print(montant_ttc)"
   ]
  },
  {
   "cell_type": "markdown",
   "metadata": {},
   "source": [
    "\n",
    "Notez que les identificateurs en Python sont sensibles à la casse, ce qui signifie qu’on va faire une différence entre l’emploi de majuscules et de minuscules : un même identificateur écrit en majuscules ou en minuscules créera deux éléments totalement différentes.\n",
    "\n",
    "Il est important d’utiliser une politique cohérente de nommage des identificateurs. Voici un style de nommage utilisé:\n",
    "\n",
    "- nom_de_ma_variable pour les variables.\n",
    "\n",
    "- NOM_DE_MA_CONSTANTE pour les constantes.\n",
    "\n",
    "- maFonction, maMethode pour les fonctions et les méthodes.\n",
    "\n",
    "- MaClasse pour les classes.\n",
    "\n",
    "- UneExceptionError pour les exceptions.\n",
    "\n",
    "- nom_de_module pour les modules et pour tous les autres identificateurs."
   ]
  },
  {
   "cell_type": "markdown",
   "metadata": {},
   "source": [
    "## Variables\n",
    "Une variable est une zone de la mémoire de l'ordinateur dans laquelle une valeur est stockée. Pour créer une variable en Python, on va donc devoir choisir un identificateur et affecter une valeur à cet identificateur, c’est-à-dire stocker une valeur dans notre variable."
   ]
  },
  {
   "cell_type": "code",
   "execution_count": 8,
   "metadata": {},
   "outputs": [
    {
     "name": "stdout",
     "output_type": "stream",
     "text": [
      "2 3 4\n"
     ]
    }
   ],
   "source": [
    "var_1 = 2\n",
    "var_2 = 3\n",
    "# ou bien\n",
    "var_1, var_2 = 2, 3\n",
    "print(var_1, var_2, 4)"
   ]
  },
  {
   "cell_type": "markdown",
   "metadata": {},
   "source": [
    "## Exercice\n",
    "- Saisir un nom et un âge en utilisant l’instruction ```input()```. Les afficher.\n",
    "- Saisir une valeur en utilisant l’instruction ```input()```, et afficher est ce qu'elle est paire ou impaire.\n"
   ]
  },
  {
   "cell_type": "code",
   "execution_count": 11,
   "metadata": {},
   "outputs": [
    {
     "name": "stdout",
     "output_type": "stream",
     "text": [
      "3\n"
     ]
    }
   ],
   "source": [
    "x = input(\"Entrez une valeur\")\n",
    "print(x)"
   ]
  },
  {
   "cell_type": "code",
   "execution_count": 12,
   "metadata": {},
   "outputs": [
    {
     "name": "stdout",
     "output_type": "stream",
     "text": [
      "valeur impaire\n"
     ]
    }
   ],
   "source": [
    "x = 3\n",
    "if x%2 == 0:\n",
    "    print(\"valeur paire\")\n",
    "else:\n",
    "    print(\"valeur impaire\")"
   ]
  },
  {
   "cell_type": "markdown",
   "metadata": {},
   "source": [
    "## Correction"
   ]
  },
  {
   "cell_type": "code",
   "execution_count": 13,
   "metadata": {},
   "outputs": [
    {
     "name": "stdout",
     "output_type": "stream",
     "text": [
      "votre nom est nom hamza votre age est 25\n"
     ]
    }
   ],
   "source": [
    "nom = input(\"Entrez votre nom\")\n",
    "age = input(\"Entrez votre age\")\n",
    "print(\"votre nom est nom \"+nom+\" votre age est \"+age)"
   ]
  },
  {
   "cell_type": "code",
   "execution_count": 14,
   "metadata": {},
   "outputs": [
    {
     "name": "stdout",
     "output_type": "stream",
     "text": [
      "valeur paire\n"
     ]
    }
   ],
   "source": [
    "valeur = int(input(\"Entrez une valeur\"))\n",
    "if valeur%2 == 0:\n",
    "    print(\"valeur paire\")\n",
    "else:\n",
    "    print(\"valeur impaire\")"
   ]
  },
  {
   "cell_type": "markdown",
   "metadata": {},
   "source": [
    "## Type de données\n",
    "Python définit de nombreux types de données qu’on va pouvoir stocker dans nos variables et manipuler ensuite : nombres entiers, décimaux, complexes, chaines de caractères, booléens, listes, tuples, dictionnaires ...\n",
    "\n",
    "Dans ce cours, nous allons apprendre les principaux types de données en Python et comment les utiliser.\n",
    "\n",
    "Nous allons voir :\n",
    "\n",
    "    1. Les nombres\n",
    "    2. Les chaînes de caractèrres\n",
    "    3. Les listes\n",
    "    4. Les tuples\n",
    "    5. Les dictionnaires\n",
    "    6. Les ensembles et les booléens\n",
    "    7. None\n",
    "    8. Et finalement la conversion de type\n",
    "\n",
    "### Nombres\n",
    "#### Types des nombres\n",
    "\n",
    "Python a différents types de nombres. Nous nous concentrerons principalement sur les **nombres entiers (integers)** et les **nombres flottants (floats)**.\n",
    "\n",
    "Les nombres entiers sont simplement les nombres sans point décimal, que ça soit positifs ou bien négatifs. Par exemple : 2 et -1 sont des exemples d'entiers."
   ]
  },
  {
   "cell_type": "code",
   "execution_count": 15,
   "metadata": {},
   "outputs": [],
   "source": [
    "var_dec = 2022  # décimal (base 10)\n",
    "var_bin = 0b11111100110  # binaire (base 2)\n",
    "var_oct = 0o3746  # octal (base 8)\n",
    "var_hex = 0x7E6  # hexadecimal (base 16)"
   ]
  },
  {
   "cell_type": "code",
   "execution_count": 16,
   "metadata": {},
   "outputs": [
    {
     "name": "stdout",
     "output_type": "stream",
     "text": [
      "2022\n",
      "2022\n",
      "2022\n",
      "2022\n"
     ]
    }
   ],
   "source": [
    "print(var_dec)\n",
    "print(var_bin)\n",
    "print(var_oct)\n",
    "print(var_hex)"
   ]
  },
  {
   "cell_type": "markdown",
   "metadata": {},
   "source": [
    "\n",
    "Les nombres flottants (à virgule flottante) en Python sont notables parce qu'ils ont un point décimal en eux, ou utilisent un exponentiel (e) pour définir le nombre. Par exemple 2.0 et -3.14 sont des exemples de nombres flottants. 4E2 (ou bien 4e2, égale à 4 fois 10 à la puissance de 2) est aussi un nombre flottant en Python."
   ]
  },
  {
   "cell_type": "code",
   "execution_count": 17,
   "metadata": {},
   "outputs": [],
   "source": [
    "var_float_1 = 20.0\n",
    "var_float_2 = 2e1\n",
    "var_float_3 = -314e-2"
   ]
  },
  {
   "cell_type": "code",
   "execution_count": 18,
   "metadata": {},
   "outputs": [
    {
     "name": "stdout",
     "output_type": "stream",
     "text": [
      "20.0\n",
      "20.0\n",
      "-3.14\n"
     ]
    }
   ],
   "source": [
    "print(var_float_1)\n",
    "print(var_float_2)\n",
    "print(var_float_3)"
   ]
  },
  {
   "cell_type": "markdown",
   "metadata": {},
   "source": [
    "Commençons maintenant avec un peu d'arithmétique de base :\n",
    "\n",
    "#### Arithmétique de base"
   ]
  },
  {
   "cell_type": "code",
   "execution_count": 19,
   "metadata": {},
   "outputs": [
    {
     "data": {
      "text/plain": [
       "3"
      ]
     },
     "execution_count": 19,
     "metadata": {},
     "output_type": "execute_result"
    }
   ],
   "source": [
    "# Addition\n",
    "2+1"
   ]
  },
  {
   "cell_type": "code",
   "execution_count": 20,
   "metadata": {},
   "outputs": [
    {
     "data": {
      "text/plain": [
       "1"
      ]
     },
     "execution_count": 20,
     "metadata": {},
     "output_type": "execute_result"
    }
   ],
   "source": [
    "# Soustraction\n",
    "2-1"
   ]
  },
  {
   "cell_type": "code",
   "execution_count": 21,
   "metadata": {},
   "outputs": [
    {
     "data": {
      "text/plain": [
       "4"
      ]
     },
     "execution_count": 21,
     "metadata": {},
     "output_type": "execute_result"
    }
   ],
   "source": [
    "# Multiplication\n",
    "2*2"
   ]
  },
  {
   "cell_type": "code",
   "execution_count": 22,
   "metadata": {},
   "outputs": [
    {
     "data": {
      "text/plain": [
       "0.5"
      ]
     },
     "execution_count": 22,
     "metadata": {},
     "output_type": "execute_result"
    }
   ],
   "source": [
    "# Division décimale\n",
    "1/2"
   ]
  },
  {
   "cell_type": "code",
   "execution_count": 23,
   "metadata": {},
   "outputs": [
    {
     "data": {
      "text/plain": [
       "0"
      ]
     },
     "execution_count": 23,
     "metadata": {},
     "output_type": "execute_result"
    }
   ],
   "source": [
    "# Division entière\n",
    "1//2"
   ]
  },
  {
   "cell_type": "code",
   "execution_count": 24,
   "metadata": {},
   "outputs": [
    {
     "data": {
      "text/plain": [
       "1"
      ]
     },
     "execution_count": 24,
     "metadata": {},
     "output_type": "execute_result"
    }
   ],
   "source": [
    "# Reste de la division entière\n",
    "1%2"
   ]
  },
  {
   "cell_type": "code",
   "execution_count": 25,
   "metadata": {},
   "outputs": [
    {
     "data": {
      "text/plain": [
       "8"
      ]
     },
     "execution_count": 25,
     "metadata": {},
     "output_type": "execute_result"
    }
   ],
   "source": [
    "# Puissance\n",
    "2**3"
   ]
  },
  {
   "cell_type": "code",
   "execution_count": 26,
   "metadata": {},
   "outputs": [
    {
     "data": {
      "text/plain": [
       "2.0"
      ]
     },
     "execution_count": 26,
     "metadata": {},
     "output_type": "execute_result"
    }
   ],
   "source": [
    "# Faire la racine de la même façons\n",
    "8**(1/3) # 1/3 est le racine cubique"
   ]
  },
  {
   "cell_type": "markdown",
   "metadata": {
    "collapsed": true
   },
   "source": [
    "### Chaîne de caractères\n",
    "Les chaînes de caractères sont utilisées en Python pour enregistrer des informations textuelles, comme les noms. Les chaînes de caractères en Python sont en fait des **séquence**, ce qui signifie que nous pourrons utiliser l'**indexation** pour récupérer des lettres particulières (par exemple la première lettre) à partir d'une chaîne de caractères.\n",
    "\n",
    "Cette idée d'une **séquence** est importante en Python et nous y reviendrons plus tard.\n",
    "\n",
    "#### Création d'une chaîne de caractères\n",
    "\n",
    "Pour créer une chaîne de caractères en Python, vous devez utiliser des **guillemets simples** (' ') ou des **guillemets doubles** (\" \"). Par exemple :"
   ]
  },
  {
   "cell_type": "code",
   "execution_count": 27,
   "metadata": {
    "collapsed": true
   },
   "outputs": [
    {
     "data": {
      "text/plain": [
       "'Bonjour tout le monde'"
      ]
     },
     "execution_count": 27,
     "metadata": {},
     "output_type": "execute_result"
    }
   ],
   "source": [
    "# Une chaîne de caractères \n",
    "'Bonjour tout le monde'"
   ]
  },
  {
   "cell_type": "code",
   "execution_count": 28,
   "metadata": {
    "collapsed": true
   },
   "outputs": [
    {
     "data": {
      "text/plain": [
       "'Bonjour tout le monde'"
      ]
     },
     "execution_count": 28,
     "metadata": {},
     "output_type": "execute_result"
    }
   ],
   "source": [
    "# Ou bien\n",
    "\"Bonjour tout le monde\""
   ]
  },
  {
   "cell_type": "code",
   "execution_count": 29,
   "metadata": {
    "collapsed": true
   },
   "outputs": [
    {
     "ename": "SyntaxError",
     "evalue": "invalid syntax (<ipython-input-29-633d1909c85c>, line 2)",
     "output_type": "error",
     "traceback": [
      "\u001b[0;36m  File \u001b[0;32m\"<ipython-input-29-633d1909c85c>\"\u001b[0;36m, line \u001b[0;32m2\u001b[0m\n\u001b[0;31m    'c'est une chaîne de caractères malle défini'\u001b[0m\n\u001b[0m       ^\u001b[0m\n\u001b[0;31mSyntaxError\u001b[0m\u001b[0;31m:\u001b[0m invalid syntax\n"
     ]
    }
   ],
   "source": [
    "# Faites attention aux guillemets!\n",
    "'c'est une chaîne de caractères malle défini'"
   ]
  },
  {
   "cell_type": "markdown",
   "metadata": {},
   "source": [
    "La raison de l'erreur ci-dessus est que le deuxième simple guillemet (l'apostrophe de *c'est*) ce compte comme la fin de notre chaîne de caractères.\n",
    "\n",
    "Vous pouvez utiliser une des solutions suivantes :\n",
    "- Utiliser des combinaisons de guillemets simples et doubles :"
   ]
  },
  {
   "cell_type": "code",
   "execution_count": 30,
   "metadata": {
    "collapsed": true
   },
   "outputs": [
    {
     "data": {
      "text/plain": [
       "\"c'est une chaîne de caractères bien défini\""
      ]
     },
     "execution_count": 30,
     "metadata": {},
     "output_type": "execute_result"
    }
   ],
   "source": [
    "# Une chaîne de caractères correcte\n",
    "\"c'est une chaîne de caractères bien défini\""
   ]
  },
  {
   "cell_type": "code",
   "execution_count": 31,
   "metadata": {},
   "outputs": [
    {
     "data": {
      "text/plain": [
       "\"La langue 'Python' est nommée d'après Monty Python, et non pas d'après le serpent\""
      ]
     },
     "execution_count": 31,
     "metadata": {},
     "output_type": "execute_result"
    }
   ],
   "source": [
    "\"La langue 'Python' est nommée d'après Monty Python, et non pas d'après le serpent\""
   ]
  },
  {
   "cell_type": "markdown",
   "metadata": {},
   "source": [
    "- Utiliser les symbole **\\'** et **\\\"** avec n'import quel type de guillemets :"
   ]
  },
  {
   "cell_type": "code",
   "execution_count": 32,
   "metadata": {
    "collapsed": true
   },
   "outputs": [
    {
     "data": {
      "text/plain": [
       "\"c'est une chaîne de caractères bien défini\""
      ]
     },
     "execution_count": 32,
     "metadata": {},
     "output_type": "execute_result"
    }
   ],
   "source": [
    "# Une chaîne de caractères correcte\n",
    "'c\\'est une chaîne de caractères bien défini'"
   ]
  },
  {
   "cell_type": "code",
   "execution_count": 33,
   "metadata": {
    "collapsed": true
   },
   "outputs": [
    {
     "data": {
      "text/plain": [
       "'une \"deuxième\" chaîne de caractères bien défini'"
      ]
     },
     "execution_count": 33,
     "metadata": {},
     "output_type": "execute_result"
    }
   ],
   "source": [
    "# Une deuxième chaîne de caractères correcte\n",
    "'une \\\"deuxième\\\" chaîne de caractères bien défini'"
   ]
  },
  {
   "cell_type": "markdown",
   "metadata": {},
   "source": [
    "#### Affichage d'une chaîne de caractères"
   ]
  },
  {
   "cell_type": "code",
   "execution_count": 34,
   "metadata": {
    "collapsed": true
   },
   "outputs": [
    {
     "name": "stdout",
     "output_type": "stream",
     "text": [
      "Bonjour tout le monde 1\n",
      "Bonjour tout le monde 2\n",
      "Utilisez \n",
      " pour afficher une nouvelle ligne\n",
      "\n",
      "\n",
      "Utilisez \t pour afficher une tabulation: 1 \t 2 \t 3 \n"
     ]
    }
   ],
   "source": [
    "print(\"Bonjour tout le monde 1\")\n",
    "print(\"Bonjour tout le monde 2\")\n",
    "print(\"Utilisez \\n pour afficher une nouvelle ligne\")\n",
    "print('\\n')\n",
    "print('Utilisez \\t pour afficher une tabulation: 1 \\t 2 \\t 3 ')"
   ]
  },
  {
   "cell_type": "markdown",
   "metadata": {},
   "source": [
    "Si vous ne voulez pas que les caractères préfacés par **\\\\** soient interprétés comme des caractères spéciaux, vous pouvez utiliser des chaînes de caractères brutes (**raw strings**) en ajoutant un **r** avant le premier guillemet, prenons le même code ci-dessus :"
   ]
  },
  {
   "cell_type": "code",
   "execution_count": 35,
   "metadata": {
    "collapsed": true
   },
   "outputs": [
    {
     "name": "stdout",
     "output_type": "stream",
     "text": [
      "Bonjour tout le monde 1\n",
      "Bonjour tout le monde 2\n",
      "Utilisez \\n pour afficher une nouvelle ligne\n",
      "\\n\n",
      "Utilisez \\t pour afficher une tabulation: 1 \\t 2 \\t 3 \n"
     ]
    }
   ],
   "source": [
    "print(\"Bonjour tout le monde 1\")\n",
    "print(\"Bonjour tout le monde 2\")\n",
    "print(r\"Utilisez \\n pour afficher une nouvelle ligne\")\n",
    "print(r'\\n')\n",
    "print(r'Utilisez \\t pour afficher une tabulation: 1 \\t 2 \\t 3 ')"
   ]
  },
  {
   "cell_type": "markdown",
   "metadata": {},
   "source": [
    "Les chaînes de caractères littérales (**string literals**) peuvent s'étendre sur plusieurs lignes, cela ce fait de deux façons :\n",
    "- La première consiste à utiliser des guillemets triples (\" \" \"...\" \" \" ou ' ' '...' ' ').\n",
    "- La deuxième est en ajoutant un **\\\\** à la fin de la ligne.\n",
    "\n",
    "Par exemple :"
   ]
  },
  {
   "cell_type": "code",
   "execution_count": 36,
   "metadata": {},
   "outputs": [
    {
     "name": "stdout",
     "output_type": "stream",
     "text": [
      "py\n",
      "thon est:\n",
      "\t \t simple\n"
     ]
    }
   ],
   "source": [
    "s = '''py\n",
    "thon est:\n",
    "\\t \\t simple'''\n",
    "print(s)"
   ]
  },
  {
   "cell_type": "code",
   "execution_count": 37,
   "metadata": {
    "collapsed": true
   },
   "outputs": [
    {
     "name": "stdout",
     "output_type": "stream",
     "text": [
      "py\n",
      "thon est:\n",
      "\t \t simple\n",
      "\n"
     ]
    }
   ],
   "source": [
    "print('''py\n",
    "thon est:\n",
    "\\t \\t simple\n",
    "''')"
   ]
  },
  {
   "cell_type": "code",
   "execution_count": 38,
   "metadata": {},
   "outputs": [
    {
     "name": "stdout",
     "output_type": "stream",
     "text": [
      "python est:\t \t simple\n"
     ]
    }
   ],
   "source": [
    "s = \"py\\\n",
    "thon est:\\\n",
    "\\t \\t simple\\\n",
    "\"\n",
    "print(s)"
   ]
  },
  {
   "cell_type": "code",
   "execution_count": 39,
   "metadata": {
    "collapsed": true
   },
   "outputs": [
    {
     "name": "stdout",
     "output_type": "stream",
     "text": [
      "python est:\t \t simple\n"
     ]
    }
   ],
   "source": [
    "print(\"py\\\n",
    "thon est:\\\n",
    "\\t \\t simple\\\n",
    "\")"
   ]
  },
  {
   "cell_type": "markdown",
   "metadata": {},
   "source": [
    "Notez que les triples guillemets affichent le retour à la ligne où il existe, alors que l'ajout de **\\\\** ne le prix pas en considération à la sortie."
   ]
  },
  {
   "cell_type": "markdown",
   "metadata": {},
   "source": [
    "#### Indexation des chaînes de caractères\n",
    "Nous savons que les chaînes de caractères sont des **séquences**, ce qui signifie que Python peut utiliser des indices pour appeler des parties de la séquence.\n",
    "\n",
    "En Python, nous utilisons des parenthèses **[]** après un objet pour appeler son indice. Notons également que l'**indexation** commence à 0 pour Python.\n",
    "\n",
    "Créons un nouvel objet appelé:"
   ]
  },
  {
   "cell_type": "code",
   "execution_count": 40,
   "metadata": {
    "collapsed": true
   },
   "outputs": [],
   "source": [
    "# Assigner \"s\" comme chaîne de caractères\n",
    "s = 'Python3.10'"
   ]
  },
  {
   "cell_type": "code",
   "execution_count": 41,
   "metadata": {
    "collapsed": true
   },
   "outputs": [
    {
     "name": "stdout",
     "output_type": "stream",
     "text": [
      "Python3.10\n"
     ]
    }
   ],
   "source": [
    "# Afficher \"s\"\n",
    "print(s) "
   ]
  },
  {
   "cell_type": "markdown",
   "metadata": {},
   "source": [
    "Commençons l'**indexation** !\n",
    "\n",
    "Prenons la chaîne de caractères *s*, elle est indexée comme suit:"
   ]
  },
  {
   "cell_type": "markdown",
   "metadata": {},
   "source": [
    "<table>\n",
    "<tr>\n",
    "    <th>P</th> \n",
    "    <th>y</th>\n",
    "    <th>t</th>\n",
    "    <th>h</th>\n",
    "    <th>o</th>\n",
    "    <th>n</th>\n",
    "    <th>3</th>\n",
    "    <th>.</th>\n",
    "    <th>1</th>\n",
    "    <th>0</th>\n",
    "</tr>\n",
    "\n",
    "<tr>\n",
    "    <td>0</td>\n",
    "    <td>1</td>\n",
    "    <td>2</td>\n",
    "    <td>3</td>\n",
    "    <td>4</td>\n",
    "    <td>5</td>\n",
    "    <td>6</td>\n",
    "    <td>7</td>\n",
    "    <td>8</td>\n",
    "    <td>9</td>\n",
    "</tr>\n",
    "\n",
    "<tr>\n",
    "    <td>-10</td>\n",
    "    <td>-9</td>\n",
    "    <td>-8</td>\n",
    "    <td>-7</td>\n",
    "    <td>-6</td>\n",
    "    <td>-5</td>\n",
    "    <td>-4</td>\n",
    "    <td>-3</td>\n",
    "    <td>-2</td>\n",
    "    <td>-1</td>\n",
    "</tr>\n",
    " </table>"
   ]
  },
  {
   "cell_type": "code",
   "execution_count": 42,
   "metadata": {
    "collapsed": true
   },
   "outputs": [
    {
     "name": "stdout",
     "output_type": "stream",
     "text": [
      "P\n"
     ]
    }
   ],
   "source": [
    "# Afficher le premier élément\n",
    "print(s[0])"
   ]
  },
  {
   "cell_type": "code",
   "execution_count": 43,
   "metadata": {
    "collapsed": true
   },
   "outputs": [
    {
     "name": "stdout",
     "output_type": "stream",
     "text": [
      "t\n"
     ]
    }
   ],
   "source": [
    "# Afficher le troisème élément\n",
    "print(s[2])"
   ]
  },
  {
   "cell_type": "markdown",
   "metadata": {},
   "source": [
    "Nous pouvons utiliser **:** pour effectuer un **tranchage (slicing)** qui récupère tout jusqu'à un point désigné. Par exemple :"
   ]
  },
  {
   "cell_type": "code",
   "execution_count": 44,
   "metadata": {
    "collapsed": true
   },
   "outputs": [
    {
     "name": "stdout",
     "output_type": "stream",
     "text": [
      "ython3.10\n"
     ]
    }
   ],
   "source": [
    "# Récupérer tout ce qui dépasse le premier élément (1er élément est inclus) jusqu'à la fin.\n",
    "print(s[1:])"
   ]
  },
  {
   "cell_type": "code",
   "execution_count": 45,
   "metadata": {
    "collapsed": true
   },
   "outputs": [
    {
     "name": "stdout",
     "output_type": "stream",
     "text": [
      "Python3.10\n"
     ]
    }
   ],
   "source": [
    "# Notez qu'il n'y a pas de changement à \"s\"\n",
    "print(s)"
   ]
  },
  {
   "cell_type": "code",
   "execution_count": 46,
   "metadata": {
    "collapsed": true
   },
   "outputs": [
    {
     "name": "stdout",
     "output_type": "stream",
     "text": [
      "Pyt\n"
     ]
    }
   ],
   "source": [
    "# Récupérer le tout jusqu'au 3ème indice\n",
    "print(s[:3])"
   ]
  },
  {
   "cell_type": "code",
   "execution_count": 47,
   "metadata": {
    "collapsed": true
   },
   "outputs": [
    {
     "name": "stdout",
     "output_type": "stream",
     "text": [
      "h\n"
     ]
    }
   ],
   "source": [
    "# Notez que le 3ème élément est exclus.\n",
    "# Vous le remarquerez beaucoup en Python, où les instructions sont généralement\n",
    "# dans le contexte de \"jusqu'à, mais pas inclus\".\n",
    "print(s[3])"
   ]
  },
  {
   "cell_type": "code",
   "execution_count": 48,
   "metadata": {
    "collapsed": true
   },
   "outputs": [
    {
     "name": "stdout",
     "output_type": "stream",
     "text": [
      "langage_programmation: Python\n",
      "version: 3.10\n"
     ]
    }
   ],
   "source": [
    "# Assigner des chaînes de caractéres à partir de \"s\"\n",
    "langage_programmation = s[:6]\n",
    "version = s[6:10]\n",
    "print(\"langage_programmation:\", langage_programmation)\n",
    "print(\"version:\", version)"
   ]
  },
  {
   "cell_type": "markdown",
   "metadata": {},
   "source": [
    "Notez que la virgule (,) qu'on a utilisé dans la fonction <font color='blue'>**print()**</font> fait une concaténation en ajoutant un espace entre les chaînes de caractères."
   ]
  },
  {
   "cell_type": "code",
   "execution_count": 49,
   "metadata": {
    "collapsed": true
   },
   "outputs": [
    {
     "name": "stdout",
     "output_type": "stream",
     "text": [
      "Bonjour tout le monde\n"
     ]
    }
   ],
   "source": [
    "# Concaténer 4 chaînes de caractéres\n",
    "print(\"Bonjour\",'tout',\"le\",'monde')"
   ]
  },
  {
   "cell_type": "markdown",
   "metadata": {},
   "source": [
    "Vous ne pouvez pas concacténer des chaines de caractères par une virgule sans utiliser la fonction <font color='blue'>**print()**</font>. Par exemple :"
   ]
  },
  {
   "cell_type": "code",
   "execution_count": 50,
   "metadata": {
    "collapsed": true
   },
   "outputs": [
    {
     "data": {
      "text/plain": [
       "('Bonjour', 'tout', 'le', 'monde')"
      ]
     },
     "execution_count": 50,
     "metadata": {},
     "output_type": "execute_result"
    }
   ],
   "source": [
    "\"Bonjour\",'tout',\"le\",'monde'"
   ]
  },
  {
   "cell_type": "markdown",
   "metadata": {},
   "source": [
    "Le résultat n'est pas une chaîne de caractéres bien sûr. On va voir comment faire la concaténation plus tard. "
   ]
  },
  {
   "cell_type": "code",
   "execution_count": 51,
   "metadata": {
    "collapsed": true
   },
   "outputs": [
    {
     "name": "stdout",
     "output_type": "stream",
     "text": [
      "Python3.10\n"
     ]
    }
   ],
   "source": [
    "# Récupérer tout\n",
    "print(s[:])"
   ]
  },
  {
   "cell_type": "markdown",
   "metadata": {},
   "source": [
    "On peut aussi utiliser l'**indexation négative**."
   ]
  },
  {
   "cell_type": "code",
   "execution_count": 52,
   "metadata": {
    "collapsed": true
   },
   "outputs": [
    {
     "name": "stdout",
     "output_type": "stream",
     "text": [
      "0\n"
     ]
    }
   ],
   "source": [
    "# Dernière lettre\n",
    "print(s[-1])"
   ]
  },
  {
   "cell_type": "code",
   "execution_count": 53,
   "metadata": {
    "collapsed": true
   },
   "outputs": [
    {
     "name": "stdout",
     "output_type": "stream",
     "text": [
      "Python3.1\n"
     ]
    }
   ],
   "source": [
    "# Récupère tout sauf la dernière lettre\n",
    "print(s[:-1])"
   ]
  },
  {
   "cell_type": "markdown",
   "metadata": {},
   "source": [
    "On peut aussi utiliser l'indexation et le tranchage en spécifiant un *pas* (la valeur par défaut est 1). Par exemple:"
   ]
  },
  {
   "cell_type": "code",
   "execution_count": 54,
   "metadata": {
    "collapsed": true
   },
   "outputs": [
    {
     "name": "stdout",
     "output_type": "stream",
     "text": [
      "Python3.10\n"
     ]
    }
   ],
   "source": [
    "# Récupérer tout, mais aller par un pas de taille de 1\n",
    "print(s[::1])"
   ]
  },
  {
   "cell_type": "code",
   "execution_count": 55,
   "metadata": {
    "collapsed": true
   },
   "outputs": [
    {
     "name": "stdout",
     "output_type": "stream",
     "text": [
      "Pto31\n"
     ]
    }
   ],
   "source": [
    "# Récupérer tout, mais aller par un pas de taille de 2\n",
    "print(s[::2])"
   ]
  },
  {
   "cell_type": "code",
   "execution_count": 56,
   "metadata": {
    "collapsed": true
   },
   "outputs": [
    {
     "name": "stdout",
     "output_type": "stream",
     "text": [
      "yh\n"
     ]
    }
   ],
   "source": [
    "# Récupérer les éléments d'indices de 1 jusqu'à 5 (5 est exclus), avec un pas de taille de 2\n",
    "print(s[1:5:2])"
   ]
  },
  {
   "cell_type": "markdown",
   "metadata": {},
   "source": [
    "La forme générale de **tranchage** est :\n",
    "<table>\n",
    "<tr>\n",
    "    <th>s[</th>\n",
    "    <th>Début</th> \n",
    "    <th>:</th>\n",
    "    <th>Fin (exclus)</th>\n",
    "    <th>:</th>\n",
    "    <th>Pas</th>\n",
    "    <th>]</th>\n",
    "</tr>\n",
    "<table>"
   ]
  },
  {
   "cell_type": "code",
   "execution_count": 57,
   "metadata": {
    "collapsed": true
   },
   "outputs": [
    {
     "name": "stdout",
     "output_type": "stream",
     "text": [
      "01.3nohtyP\n",
      "Python3.10\n"
     ]
    }
   ],
   "source": [
    "# Nous pouvons utiliser ce \"pas\" pour imprimer une chaîne de caractères à l'envers.\n",
    "# \"s_enverse\" est l'envers de \"s\" :\n",
    "s_enverse = s[::-1]\n",
    "# \"s_enverse_enverse\" est l'envers de \"s_enverse\", et donc à la même valeurs que \"s\" :\n",
    "s_inverse_enverse = s_enverse[::-1]\n",
    "print(s_enverse)\n",
    "print(s_inverse_enverse)\n"
   ]
  },
  {
   "cell_type": "markdown",
   "metadata": {
    "collapsed": true
   },
   "source": [
    "#### Propriétés des chaînes de caractères\n",
    "Il est important de noter que les chaînes de caractères ont une propriété importante connue sous le nom d'**immutabilité** (immutability). Cela signifie qu'une fois qu'une chaîne de caractères est créée, les éléments qu'elle contient ne peuvent pas être modifiés ou remplacés. Par exemple :"
   ]
  },
  {
   "cell_type": "code",
   "execution_count": 58,
   "metadata": {
    "collapsed": true
   },
   "outputs": [
    {
     "name": "stdout",
     "output_type": "stream",
     "text": [
      "Python3.10\n"
     ]
    }
   ],
   "source": [
    "# Vérifier\n",
    "print(s)"
   ]
  },
  {
   "cell_type": "code",
   "execution_count": 59,
   "metadata": {
    "collapsed": true
   },
   "outputs": [
    {
     "ename": "TypeError",
     "evalue": "'str' object does not support item assignment",
     "output_type": "error",
     "traceback": [
      "\u001b[0;31m---------------------------------------------------------------------------\u001b[0m",
      "\u001b[0;31mTypeError\u001b[0m                                 Traceback (most recent call last)",
      "\u001b[0;32m<ipython-input-59-a8745b7c1da3>\u001b[0m in \u001b[0;36m<module>\u001b[0;34m\u001b[0m\n\u001b[1;32m      1\u001b[0m \u001b[0;31m# Essayons de changer la première lettre en 'p'\u001b[0m\u001b[0;34m\u001b[0m\u001b[0;34m\u001b[0m\u001b[0;34m\u001b[0m\u001b[0m\n\u001b[0;32m----> 2\u001b[0;31m \u001b[0ms\u001b[0m\u001b[0;34m[\u001b[0m\u001b[0;36m0\u001b[0m\u001b[0;34m]\u001b[0m \u001b[0;34m=\u001b[0m \u001b[0;34m'p'\u001b[0m\u001b[0;34m\u001b[0m\u001b[0;34m\u001b[0m\u001b[0m\n\u001b[0m",
      "\u001b[0;31mTypeError\u001b[0m: 'str' object does not support item assignment"
     ]
    }
   ],
   "source": [
    "# Essayons de changer la première lettre en 'p'\n",
    "s[0] = 'p'"
   ]
  },
  {
   "cell_type": "markdown",
   "metadata": {},
   "source": [
    "Remarquez comment l'erreur nous dit directement ce que nous ne pouvons pas faire : *'str' object does not support item assignment* (l'objet 'str' - la chaîne de caractère s - ne supporte pas l'affectation à un élément).\n",
    "\n",
    "Ce que nous pouvons faire, c'est de **concaténer** les chaînes de caractères :"
   ]
  },
  {
   "cell_type": "code",
   "execution_count": 60,
   "metadata": {
    "collapsed": true
   },
   "outputs": [
    {
     "name": "stdout",
     "output_type": "stream",
     "text": [
      "Python3.10\n"
     ]
    }
   ],
   "source": [
    "# Vérifier\n",
    "print(s)"
   ]
  },
  {
   "cell_type": "code",
   "execution_count": 61,
   "metadata": {
    "collapsed": true
   },
   "outputs": [
    {
     "data": {
      "text/plain": [
       "'Python3.10 est simple'"
      ]
     },
     "execution_count": 61,
     "metadata": {},
     "output_type": "execute_result"
    }
   ],
   "source": [
    "# Concaténer les chaînes de caractères\n",
    "s + ' est simple'"
   ]
  },
  {
   "cell_type": "code",
   "execution_count": 62,
   "metadata": {
    "collapsed": true
   },
   "outputs": [],
   "source": [
    "# Nous pouvons cependant réassigner \"s\"\n",
    "s = s + ' est simple'\n",
    "s += ' et amusant'"
   ]
  },
  {
   "cell_type": "code",
   "execution_count": 63,
   "metadata": {},
   "outputs": [
    {
     "name": "stdout",
     "output_type": "stream",
     "text": [
      "Python3.10 est simple et amusant\n"
     ]
    }
   ],
   "source": [
    "# Vérifier\n",
    "print(s)"
   ]
  },
  {
   "cell_type": "markdown",
   "metadata": {},
   "source": [
    "Notez bien que vous ne pouvez pas concaténer une chaîne de caractère avec un autre type (comme un nombre). Par exemple :"
   ]
  },
  {
   "cell_type": "code",
   "execution_count": 64,
   "metadata": {},
   "outputs": [
    {
     "ename": "TypeError",
     "evalue": "can only concatenate str (not \"int\") to str",
     "output_type": "error",
     "traceback": [
      "\u001b[0;31m---------------------------------------------------------------------------\u001b[0m",
      "\u001b[0;31mTypeError\u001b[0m                                 Traceback (most recent call last)",
      "\u001b[0;32m<ipython-input-64-e0f51cb73c2d>\u001b[0m in \u001b[0;36m<module>\u001b[0;34m\u001b[0m\n\u001b[0;32m----> 1\u001b[0;31m \u001b[0ms\u001b[0m \u001b[0;34m+\u001b[0m \u001b[0;36m12\u001b[0m\u001b[0;34m\u001b[0m\u001b[0;34m\u001b[0m\u001b[0m\n\u001b[0m",
      "\u001b[0;31mTypeError\u001b[0m: can only concatenate str (not \"int\") to str"
     ]
    }
   ],
   "source": [
    "s + 12"
   ]
  },
  {
   "cell_type": "markdown",
   "metadata": {},
   "source": [
    "Nous pouvons utiliser le symbole de multiplication pour créer des **répétitions** :"
   ]
  },
  {
   "cell_type": "code",
   "execution_count": 65,
   "metadata": {
    "collapsed": true
   },
   "outputs": [],
   "source": [
    "letter = 'h'"
   ]
  },
  {
   "cell_type": "code",
   "execution_count": 66,
   "metadata": {
    "collapsed": true
   },
   "outputs": [
    {
     "name": "stdout",
     "output_type": "stream",
     "text": [
      "hhhhhhhhhhhhhhhhhh\n"
     ]
    }
   ],
   "source": [
    "letter_repeated_18 = letter*18\n",
    "print(letter_repeated_18)"
   ]
  },
  {
   "cell_type": "markdown",
   "metadata": {},
   "source": [
    "#### Méthodes/Fonctions de base intégrées (built-in) de chaînes de caractères\n",
    "\n",
    "Les objets en Python ont généralement des **méthodes et des fonction intégrées**, qui peuvent effectuer des actions ou des commandes sur l'objet lui-même.\n",
    "\n",
    "Ne vous inquiétez pas! nous passerons par les méthodes en détail plus tard, vous devez juste savoir qu'une méthode en Python, est une fonction accessible par un point (.) .\n",
    "\n",
    "Voici quelques exemples des méthodes/fonctions intégrées dans les chaînes de caractères :"
   ]
  },
  {
   "cell_type": "code",
   "execution_count": 67,
   "metadata": {
    "collapsed": true
   },
   "outputs": [
    {
     "data": {
      "text/plain": [
       "'Python3.10 est simple et amusant'"
      ]
     },
     "execution_count": 67,
     "metadata": {},
     "output_type": "execute_result"
    }
   ],
   "source": [
    "# Vérifier\n",
    "s"
   ]
  },
  {
   "cell_type": "code",
   "execution_count": 68,
   "metadata": {
    "collapsed": true
   },
   "outputs": [
    {
     "name": "stdout",
     "output_type": "stream",
     "text": [
      "32\n"
     ]
    }
   ],
   "source": [
    "# Récupérer la longueur de \"s\" à l'aide de la fonction \"len()\"\n",
    "print(len(s))"
   ]
  },
  {
   "cell_type": "code",
   "execution_count": 69,
   "metadata": {
    "collapsed": true
   },
   "outputs": [
    {
     "name": "stdout",
     "output_type": "stream",
     "text": [
      "PYTHON3.10 EST SIMPLE ET AMUSANT\n"
     ]
    }
   ],
   "source": [
    "# Mettre \"s\" en MAJUSCULE\n",
    "s_upper = s.upper()\n",
    "print(s_upper)"
   ]
  },
  {
   "cell_type": "code",
   "execution_count": 70,
   "metadata": {
    "collapsed": true
   },
   "outputs": [
    {
     "name": "stdout",
     "output_type": "stream",
     "text": [
      "python3.10 est simple et amusant\n"
     ]
    }
   ],
   "source": [
    "# Mettre \"s\" en majuscule\n",
    "s_lower = s.lower()\n",
    "print(s_lower)"
   ]
  },
  {
   "cell_type": "code",
   "execution_count": 71,
   "metadata": {
    "collapsed": true
   },
   "outputs": [
    {
     "name": "stdout",
     "output_type": "stream",
     "text": [
      "['Python3.10', 'est', 'simple', 'et', 'amusant']\n"
     ]
    }
   ],
   "source": [
    "# Découper \"s\" selon les espaces blancs (c'est la valeur par défaut)\n",
    "s_split_space_list = s.split()\n",
    "print(s_split_space_list)"
   ]
  },
  {
   "cell_type": "code",
   "execution_count": 72,
   "metadata": {
    "collapsed": true
   },
   "outputs": [
    {
     "name": "stdout",
     "output_type": "stream",
     "text": [
      "['Py', 'hon3.10 es', ' simple e', ' amusan', '']\n"
     ]
    }
   ],
   "source": [
    "# Découper \"s\" selon un élément spécifique\n",
    "s_split_t_list = s.split('t')\n",
    "print(s_split_t_list)"
   ]
  },
  {
   "cell_type": "markdown",
   "metadata": {},
   "source": [
    "Il y a beaucoup plus de méthodes/fonctions que celles qui sont couvertes ici, et qu'on va les étudier plus tard.\n",
    "\n",
    "#### F-strings\n",
    "Pour insérer la valeur d'une variable dans une chaîne de caractères, placez la lettre *f* immédiatement avant les guillemets. Placez des accolades autour du ou des noms de toutes les variables que vous souhaitez utiliser à l'intérieur de la chaîne. Python remplacera chaque variable par sa valeur lorsque la chaîne sera affichée. Ces chaînes de caractères sont appelées *f-strings*. Le *f* est pour format, car Python formate la chaîne en remplaçant le nom de toute variable entre accolades par sa valeur. Prenons les examples suivants :"
   ]
  },
  {
   "cell_type": "code",
   "execution_count": 73,
   "metadata": {},
   "outputs": [
    {
     "name": "stdout",
     "output_type": "stream",
     "text": [
      "Bonjour Hamza Jamal\n"
     ]
    }
   ],
   "source": [
    "prenom = \"Hamza\"\n",
    "nom = \"Jamal\"\n",
    "message = f\"Bonjour {prenom} {nom}\"\n",
    "print(message)"
   ]
  },
  {
   "cell_type": "markdown",
   "metadata": {},
   "source": [
    "Les f-strings ont été introduites pour la première fois dans Python 3.6. La méthode *format()* été le seul moyen utilisé dans Python 3.5 et les versions antérieures pour faire la même chose. Pour utiliser la méthode *format()*, énumérez les variables que vous souhaitez utiliser dans la chaîne de caractères à l'intérieur des parenthèses qui suivent *format*. Chaque variable est désignée par un ensemble d'accolades, les accolades seront remplies par les valeurs énumérées entre parenthèses dans l'ordre indiqué :"
   ]
  },
  {
   "cell_type": "code",
   "execution_count": 74,
   "metadata": {},
   "outputs": [
    {
     "name": "stdout",
     "output_type": "stream",
     "text": [
      "Bonjour Hamza Jamal\n"
     ]
    }
   ],
   "source": [
    "prenom = \"Hamza\"\n",
    "nom = \"Jamal\"\n",
    "message = \"Bonjour {} {}\".format(prenom, nom)\n",
    "print(message)"
   ]
  },
  {
   "cell_type": "markdown",
   "metadata": {},
   "source": [
    "### Listes\n",
    "\n",
    "Plus tôt dans les chaînes de caractères, nous avons introduit le concept d'une **séquence** en Python. Les listes peuvent être pensées de la version la plus générale d'une séquence en Python. Contrairement aux chaînes de caractères, elles sont **mutables**, ce qui signifie que les éléments à l'intérieur d'une liste peuvent être modifiés.\n",
    "\n",
    "Dans cette section, nous en apprendrons davantage sur :\n",
    "    \n",
    "    1. La création de listes\n",
    "    2. L'indexation et tranchage des listes\n",
    "    3. Les méthodes de liste de base\n",
    "    4. L'imbrication des listes\n",
    "\n",
    "#### Construire des listes\n",
    "\n",
    "Les listes sont construites avec des crochets **[]** et des virgules séparant chaque élément de la liste.\n",
    "\n",
    "Allons de l'avant et voyons comment nous pouvons construire des listes :"
   ]
  },
  {
   "cell_type": "code",
   "execution_count": null,
   "metadata": {
    "collapsed": true
   },
   "outputs": [],
   "source": [
    "# Affecter une liste à une variable nommée l\n",
    "l = [1,2,3]"
   ]
  },
  {
   "cell_type": "markdown",
   "metadata": {},
   "source": [
    "Nous venons de créer une liste d'entiers, mais les listes peuvent contenir différents types d'objets. Par exemple :"
   ]
  },
  {
   "cell_type": "code",
   "execution_count": null,
   "metadata": {
    "collapsed": true
   },
   "outputs": [],
   "source": [
    "# Réaffecter une liste à l\n",
    "l = ['un',2,3.0,\"quatre\"]"
   ]
  },
  {
   "cell_type": "markdown",
   "metadata": {},
   "source": [
    "Tout comme les chaînes de caractères, la fonction <font color='blue'>**len()**</font> vous indiquera combien d'éléments se trouvent dans la séquence de la liste."
   ]
  },
  {
   "cell_type": "code",
   "execution_count": null,
   "metadata": {
    "collapsed": true
   },
   "outputs": [],
   "source": [
    "# Longueur de l\n",
    "len(l)"
   ]
  },
  {
   "cell_type": "markdown",
   "metadata": {},
   "source": [
    "#### Indexation et tranchage\n",
    "L'**indexation** et le **tranchage** fonctionnent comme dans les chaînes de caractères. Faisons un exemple pour nous rappeler comment cela fonctionne :"
   ]
  },
  {
   "cell_type": "code",
   "execution_count": null,
   "metadata": {
    "collapsed": true
   },
   "outputs": [],
   "source": [
    "# Récupérer les éléments aux indices 0 et -3\n",
    "print(l[0])\n",
    "# Rappelez que l'élément au indice -3 peut être récupérer à partir de l'indice 1\n",
    "print(l[-3])\n",
    "print(l[1])"
   ]
  },
  {
   "cell_type": "code",
   "execution_count": null,
   "metadata": {},
   "outputs": [],
   "source": [
    "# Changer l'élément à l'indice 3\n",
    "l[3] = 4\n",
    "print(l)"
   ]
  },
  {
   "cell_type": "code",
   "execution_count": null,
   "metadata": {
    "collapsed": true
   },
   "outputs": [],
   "source": [
    "# Récupérer tout ce qui dépasse le premier élément jusqu'à la fin\n",
    "print(l[1:])"
   ]
  },
  {
   "cell_type": "code",
   "execution_count": null,
   "metadata": {
    "collapsed": true
   },
   "outputs": [],
   "source": [
    "# Récupérer les deux derniers éléments\n",
    "print(l[-2:])"
   ]
  },
  {
   "cell_type": "code",
   "execution_count": null,
   "metadata": {
    "collapsed": true
   },
   "outputs": [],
   "source": [
    "# Récupérer tout jusqu'à l'élément d'indice 3\n",
    "print(l[:3])"
   ]
  },
  {
   "cell_type": "markdown",
   "metadata": {},
   "source": [
    "Il faut également noter que l'**indexation** des listes retournera une erreur s'il n'y a pas d'élément à cet indice. Par exemple :"
   ]
  },
  {
   "cell_type": "code",
   "execution_count": null,
   "metadata": {
    "collapsed": true
   },
   "outputs": [],
   "source": [
    "print(l[100])"
   ]
  },
  {
   "cell_type": "markdown",
   "metadata": {},
   "source": [
    "Nous pouvons aussi utiliser le **+** pour **concaténer** des listes, comme nous l'avons fait pour les chaînes de caractères."
   ]
  },
  {
   "cell_type": "code",
   "execution_count": null,
   "metadata": {
    "collapsed": true
   },
   "outputs": [],
   "source": [
    "l + ['cinq']"
   ]
  },
  {
   "cell_type": "markdown",
   "metadata": {},
   "source": [
    "Notez que cela ne change pas la liste originale"
   ]
  },
  {
   "cell_type": "code",
   "execution_count": null,
   "metadata": {
    "collapsed": true
   },
   "outputs": [],
   "source": [
    "# Vérifier\n",
    "print(l)"
   ]
  },
  {
   "cell_type": "markdown",
   "metadata": {},
   "source": [
    "Vous devrez réassigner la liste pour rendre le changement permanent."
   ]
  },
  {
   "cell_type": "code",
   "execution_count": null,
   "metadata": {
    "collapsed": true
   },
   "outputs": [],
   "source": [
    "# Réassigner \"l\"\n",
    "l = l + ['cinq']"
   ]
  },
  {
   "cell_type": "code",
   "execution_count": null,
   "metadata": {
    "collapsed": true
   },
   "outputs": [],
   "source": [
    "# Vérifier\n",
    "print(l)"
   ]
  },
  {
   "cell_type": "markdown",
   "metadata": {},
   "source": [
    "Nous pouvons aussi utiliser l'astérisque (\\*) pour la **duplication**, comme nous l'avons fait pour les chaînes de caractères :"
   ]
  },
  {
   "cell_type": "code",
   "execution_count": null,
   "metadata": {
    "collapsed": true
   },
   "outputs": [],
   "source": [
    "# Faire doubler \"l\"\n",
    "print(l * 2)"
   ]
  },
  {
   "cell_type": "code",
   "execution_count": null,
   "metadata": {
    "collapsed": true
   },
   "outputs": [],
   "source": [
    "# Encore une fois, la duplication n'est pas permanent\n",
    "print(l)"
   ]
  },
  {
   "cell_type": "markdown",
   "metadata": {},
   "source": [
    "#### Méthodes de base des listes\n",
    "\n",
    "Si vous êtes familier avec un autre langage de programmation, vous pouvez commencer à établir des parallèles entre les **tableaux** dans un autre langage et les listes en Python. Les **listes** en Python ont cependant tendance à être plus flexibles que les tableaux dans d'autres langues pour deux bonnes raisons : \n",
    "- Elles n'ont pas de taille fixe (ce qui signifie que nous n'avons pas à spécifier la taille d'une liste).\n",
    "- Elles n'ont pas de contrainte de type fixe (comme nous l'avons vu plus haut).\n",
    "\n",
    "Allons donc explorer des méthodes spéciales pour les listes :"
   ]
  },
  {
   "cell_type": "code",
   "execution_count": null,
   "metadata": {
    "collapsed": true
   },
   "outputs": [],
   "source": [
    "# Créer une nouvelle liste\n",
    "liste = [1,2,3]"
   ]
  },
  {
   "cell_type": "markdown",
   "metadata": {},
   "source": [
    "Utilisez la méthode <font color='blue'>**append()**</font> pour ajouter de façon permanente un élément à la fin d'une liste :"
   ]
  },
  {
   "cell_type": "code",
   "execution_count": null,
   "metadata": {
    "collapsed": true
   },
   "outputs": [],
   "source": [
    "# Append\n",
    "liste.append('cinq')"
   ]
  },
  {
   "cell_type": "code",
   "execution_count": null,
   "metadata": {},
   "outputs": [],
   "source": [
    "# Vérifier\n",
    "print(liste)"
   ]
  },
  {
   "cell_type": "markdown",
   "metadata": {},
   "source": [
    "J'ai oublié d'ajouter le quatre et je peux qu'ajouter des éléments à la fin avec la méthode <font color='blue'>**append()**</font> !!\n",
    "\n",
    "Heureusement on peut utiliser la méthode <font color='blue'>**insert()**</font> pour placer un élément à l'indice indiqué. Par exemple :"
   ]
  },
  {
   "cell_type": "code",
   "execution_count": null,
   "metadata": {
    "collapsed": true
   },
   "outputs": [],
   "source": [
    "# Placer \"quatre\" à l'indice 3\n",
    "liste.insert(3,\"quatre\")"
   ]
  },
  {
   "cell_type": "code",
   "execution_count": null,
   "metadata": {},
   "outputs": [],
   "source": [
    "# Vérifier\n",
    "print(liste)"
   ]
  },
  {
   "cell_type": "markdown",
   "metadata": {},
   "source": [
    "Utilisez <font color='blue'>**pop()**</font> pour faire supprimer (\"pop off\") un élément de la liste. Par défaut, pop enlève le dernier indice, mais vous pouvez aussi spécifier l'indice à enlever. Voyons un exemple :"
   ]
  },
  {
   "cell_type": "code",
   "execution_count": null,
   "metadata": {},
   "outputs": [],
   "source": [
    "# Supprimer l'élément d'indice 0\n",
    "liste.pop(0)"
   ]
  },
  {
   "cell_type": "code",
   "execution_count": null,
   "metadata": {},
   "outputs": [],
   "source": [
    "# Vérifier\n",
    "print(liste)"
   ]
  },
  {
   "cell_type": "code",
   "execution_count": null,
   "metadata": {
    "collapsed": true
   },
   "outputs": [],
   "source": [
    "# Récupérer l'élément supprimé, rappelez que l'élément à supprimer par défault est d'indice -1\n",
    "popped_item = liste.pop()"
   ]
  },
  {
   "cell_type": "code",
   "execution_count": null,
   "metadata": {},
   "outputs": [],
   "source": [
    "# Vérifier\n",
    "print(popped_item)"
   ]
  },
  {
   "cell_type": "code",
   "execution_count": null,
   "metadata": {},
   "outputs": [],
   "source": [
    "# Afficher la liste restante\n",
    "print(liste)"
   ]
  },
  {
   "cell_type": "markdown",
   "metadata": {},
   "source": [
    "Utilisez la méthode <font color='blue'>**remove()**</font> pour supprimer la première occurrence d'une valeur. Par exemple :"
   ]
  },
  {
   "cell_type": "code",
   "execution_count": null,
   "metadata": {
    "collapsed": true
   },
   "outputs": [],
   "source": [
    "# Supprimer l'élément \"quatre\"\n",
    "liste.remove('quatre')"
   ]
  },
  {
   "cell_type": "code",
   "execution_count": null,
   "metadata": {},
   "outputs": [],
   "source": [
    "# Vérifier\n",
    "print(liste)"
   ]
  },
  {
   "cell_type": "markdown",
   "metadata": {},
   "source": [
    "Ajoutons des nouveaux éléments à *liste* :"
   ]
  },
  {
   "cell_type": "code",
   "execution_count": null,
   "metadata": {
    "collapsed": true
   },
   "outputs": [],
   "source": [
    "# Ajouter des élément à \"liste\"\n",
    "liste.append(2)\n",
    "liste.insert(0,3)"
   ]
  },
  {
   "cell_type": "code",
   "execution_count": null,
   "metadata": {
    "collapsed": true
   },
   "outputs": [],
   "source": [
    "# Supprimer la première 3 à \"liste\"\n",
    "liste.remove(3)"
   ]
  },
  {
   "cell_type": "code",
   "execution_count": null,
   "metadata": {
    "scrolled": true
   },
   "outputs": [],
   "source": [
    "# Vérifier\n",
    "print(liste)"
   ]
  },
  {
   "cell_type": "code",
   "execution_count": null,
   "metadata": {
    "collapsed": true
   },
   "outputs": [],
   "source": [
    "# Supprimer la première 2 à \"liste\"\n",
    "liste.remove(2)"
   ]
  },
  {
   "cell_type": "code",
   "execution_count": null,
   "metadata": {},
   "outputs": [],
   "source": [
    "# Vérifier\n",
    "print(liste)"
   ]
  },
  {
   "cell_type": "markdown",
   "metadata": {},
   "source": [
    "Nous pouvons utiliser la méthode <font color='blue'>**sort()**</font> et les méthodes <font color='blue'>**reverse()**</font> pour trier et inverser une liste :"
   ]
  },
  {
   "cell_type": "code",
   "execution_count": null,
   "metadata": {
    "collapsed": true
   },
   "outputs": [],
   "source": [
    "new_list = ['P','y','t','h','o','n']"
   ]
  },
  {
   "cell_type": "code",
   "execution_count": null,
   "metadata": {
    "collapsed": true
   },
   "outputs": [],
   "source": [
    "# Afficher\n",
    "print(new_list)"
   ]
  },
  {
   "cell_type": "code",
   "execution_count": null,
   "metadata": {
    "collapsed": true
   },
   "outputs": [],
   "source": [
    "# Utilisez la méthode \"reverse()\" pour inverser l'ordre (c'est permanent)\n",
    "new_list.reverse()"
   ]
  },
  {
   "cell_type": "code",
   "execution_count": null,
   "metadata": {
    "collapsed": true
   },
   "outputs": [],
   "source": [
    "# Afficher\n",
    "print(new_list)"
   ]
  },
  {
   "cell_type": "code",
   "execution_count": null,
   "metadata": {
    "collapsed": true
   },
   "outputs": [],
   "source": [
    "# Utilisez la méthode \"sort()\" pour trier la liste (dans ce cas, l'ordre alphabétique)\n",
    "new_list.sort()"
   ]
  },
  {
   "cell_type": "code",
   "execution_count": null,
   "metadata": {
    "collapsed": true
   },
   "outputs": [],
   "source": [
    "# Afficher\n",
    "print(new_list)"
   ]
  },
  {
   "cell_type": "code",
   "execution_count": null,
   "metadata": {
    "collapsed": true
   },
   "outputs": [],
   "source": [
    "# Utilisation de la méthode \"sort()\" sur une liste des numéros fait le triage selon un ordre ascendante\n",
    "l_num = [1,4,5,3,2]\n",
    "l_num.sort()"
   ]
  },
  {
   "cell_type": "code",
   "execution_count": null,
   "metadata": {
    "collapsed": true
   },
   "outputs": [],
   "source": [
    "# Afficher\n",
    "print(l_num)"
   ]
  },
  {
   "cell_type": "markdown",
   "metadata": {},
   "source": [
    "#### Listes imbriquées\n",
    "Une grande caractéristique des structures de données Python est qu'elles supportent l'**imbrication**. Cela signifie que nous pouvons avoir des structures de données à l'intérieur des structures de données. Par exemple : Une liste à l'intérieur d'une liste."
   ]
  },
  {
   "cell_type": "code",
   "execution_count": null,
   "metadata": {
    "collapsed": true
   },
   "outputs": [],
   "source": [
    "# Créer une matrice à partir des listes\n",
    "m = [[0,1,2],[3,4,5],[6,7,8]]"
   ]
  },
  {
   "cell_type": "code",
   "execution_count": null,
   "metadata": {
    "collapsed": true
   },
   "outputs": [],
   "source": [
    "# Afficher\n",
    "print(m)"
   ]
  },
  {
   "cell_type": "markdown",
   "metadata": {},
   "source": [
    "Maintenant, nous pouvons à nouveau utiliser l'indexation pour récupérer des éléments, mais il y a maintenant deux niveaux d'indices. Les éléments dans l'objet *m* (la liste *m*), puis les éléments des listes intérieures."
   ]
  },
  {
   "cell_type": "code",
   "execution_count": null,
   "metadata": {
    "collapsed": true
   },
   "outputs": [],
   "source": [
    "# Récupérer le premier élément de la matrice \"m\"\n",
    "print(m[0])"
   ]
  },
  {
   "cell_type": "code",
   "execution_count": null,
   "metadata": {
    "collapsed": true
   },
   "outputs": [],
   "source": [
    "# Récupérer le premier élément (un nombre) du premier élément (une liste) de la matrice \"m\"\n",
    "print(m[0][0])"
   ]
  },
  {
   "cell_type": "markdown",
   "metadata": {},
   "source": [
    "#### Fonctions sur les listes des nombres"
   ]
  },
  {
   "cell_type": "code",
   "execution_count": null,
   "metadata": {},
   "outputs": [],
   "source": [
    "nombres = [1, 2, 3, 4, 5, 6, 7, 8, 9, 0]\n",
    "min_nb = min(nombres)\n",
    "max_nb = max(nombres)\n",
    "sum_nb = sum(nombres)\n",
    "\n",
    "print(min_nb)\n",
    "print(max_nb)\n",
    "print(sum_nb)"
   ]
  },
  {
   "cell_type": "markdown",
   "metadata": {},
   "source": [
    "### Tuples\n",
    "\n",
    "En Python, les tuples sont très similaires aux listes, mais contrairement aux listes, ils sont **immutables**, ce qui signifie qu'ils ne peuvent pas être modifiés. Vous utiliseriez les tuples pour présenter des choses qui ne devraient pas être changées, comme les jours de la semaine ou les dates sur un calendrier. \n",
    "\n",
    "Dans cette section, nous aurons un bref aperçu de ce qui suit :\n",
    "\n",
    "    1. La création des tuples\n",
    "    2. Les méthodes de base du tuple\n",
    "    3. L'immutabilité des tuples\n",
    "    4. Quand utiliser les tuples\n",
    "\n",
    "Vous aurez une intuition de la façon d'utiliser les tuples en fonction de ce que vous avez appris sur les listes. Nous pouvons les traiter de façon très similaire, la principale distinction étant que les tuples sont immuables.\n",
    "\n",
    "#### Construire des tuples\n",
    "\n",
    "Les tuples sont construits avec des parenthèses **()** avec des éléments séparés par des virgules. Par exemple :"
   ]
  },
  {
   "cell_type": "code",
   "execution_count": null,
   "metadata": {
    "collapsed": true
   },
   "outputs": [],
   "source": [
    "# Créer un tuple\n",
    "t = (1,2,\"trois\")"
   ]
  },
  {
   "cell_type": "code",
   "execution_count": null,
   "metadata": {
    "collapsed": true
   },
   "outputs": [],
   "source": [
    "# Obtenir la longueur comme ce qu'on a fait pour une liste\n",
    "print(len(t))"
   ]
  },
  {
   "cell_type": "code",
   "execution_count": null,
   "metadata": {
    "collapsed": true
   },
   "outputs": [],
   "source": [
    "# Utiliser l'indexation comme ce qu'on a fait pour une liste\n",
    "print(t[0])"
   ]
  },
  {
   "cell_type": "code",
   "execution_count": null,
   "metadata": {
    "collapsed": true
   },
   "outputs": [],
   "source": [
    "# le tranchage est aussi comme pour les listes\n",
    "print(t[1:])"
   ]
  },
  {
   "cell_type": "markdown",
   "metadata": {},
   "source": [
    "#### Méthodes de base du tuple\n",
    "\n",
    "Les tuples ont des **méthodes intégrées**, mais pas autant que les listes. Regardons deux d'entre eux :"
   ]
  },
  {
   "cell_type": "code",
   "execution_count": null,
   "metadata": {
    "collapsed": true
   },
   "outputs": [],
   "source": [
    "# Utiliser la méthode \"index()\" pour récupérer l'indice d'un élément\n",
    "print(t.index('trois'))"
   ]
  },
  {
   "cell_type": "code",
   "execution_count": null,
   "metadata": {
    "collapsed": true
   },
   "outputs": [],
   "source": [
    "# Soyez sûr que cet élément existe, sinon vous obtenez une erreur\n",
    "print(t.index('un'))"
   ]
  },
  {
   "cell_type": "code",
   "execution_count": null,
   "metadata": {
    "collapsed": true
   },
   "outputs": [],
   "source": [
    "# Utilisez la méthode \"count()\" pour compter le nombre de fois qu'une valeur apparaît.\n",
    "print(t.count(2))"
   ]
  },
  {
   "cell_type": "code",
   "execution_count": null,
   "metadata": {
    "collapsed": true
   },
   "outputs": [],
   "source": [
    "print(t.count('un'))"
   ]
  },
  {
   "cell_type": "markdown",
   "metadata": {},
   "source": [
    "#### Immutabilité\n",
    "Soyez Attention! les tuples sont **immutable**, vous ne pouvez pas les modifier :"
   ]
  },
  {
   "cell_type": "code",
   "execution_count": null,
   "metadata": {
    "collapsed": true
   },
   "outputs": [],
   "source": [
    "t[0]= 'un'"
   ]
  },
  {
   "cell_type": "markdown",
   "metadata": {},
   "source": [
    "Bien sûr en raison de cette immutabilité, les tuples ne peuvent pas grandir. Une fois qu'un tuple est fait, nous ne pouvons pas l'**ajouter d'autres éléments**."
   ]
  },
  {
   "cell_type": "code",
   "execution_count": null,
   "metadata": {
    "collapsed": true
   },
   "outputs": [],
   "source": [
    "t.append('quatre')"
   ]
  },
  {
   "cell_type": "markdown",
   "metadata": {},
   "source": [
    "#### Quand utiliser Tuples\n",
    "\n",
    "Vous vous demandez peut-être : \"Pourquoi utiliser des tuples alors qu'ils ont moins de méthodes disponibles ?\" Pour être honnête, les tuples ne sont pas utilisés aussi souvent que les listes dans la programmation, mais sont utilisés **lorsque l'immutabilité est nécessaire**. Si dans votre programme vous faites circuler un objet et que vous devez vous assurer qu'il n'est pas modifié, alors tuple devient votre solution.\n",
    "\n",
    "Vous devriez maintenant être capable de créer et d'utiliser des tuples dans votre code ainsi que d'avoir une compréhension de leur immuabilité."
   ]
  },
  {
   "cell_type": "markdown",
   "metadata": {},
   "source": [
    "### Dictionnaires\n",
    "\n",
    "Nous avons appris les **séquences** en Python mais maintenant nous allons changer de vitesse et apprendre les **mappings** en Python. Si vous connaissez d'autres langues, vous pouvez considérer ces dictionnaires comme des **tables de hachage**. \n",
    "\n",
    "Cette section servira de brève introduction aux dictionnaires et se compose de :\n",
    "\n",
    "    1. La création d'un dictionnaire\n",
    "    2. L'accès aux objets d'un dictionnaire\n",
    "    3. Les dictionnaires imbriqués\n",
    "    4. Les méthodes de base du dictionnaire\n",
    "\n",
    "Qu'est-ce qu'une **mappings** ? Les mappings sont une collection d'objets qui sont stockés par une **clé**, contrairement à une séquence qui stocke les objets par leur position relative. Il s'agit d'une distinction importante, car les mappings ne conserveront pas l'ordre puisqu'ils ont des objets définis par une clé.\n",
    "\n",
    "Un dictionnaire Python est constitué d'une clé puis d'une valeur associée. Cette valeur peut être presque n'importe quel objet Python.\n",
    "\n",
    "\n",
    "#### Construire un dictionnaire\n",
    "Voyons comment nous pouvons construire des dictionnaires pour mieux comprendre leur fonctionnement :"
   ]
  },
  {
   "cell_type": "code",
   "execution_count": null,
   "metadata": {
    "collapsed": true
   },
   "outputs": [],
   "source": [
    "# Construire un dictionnaire avec {} et : pour signifier une clé et une valeur\n",
    "d = {'cle1':'valeur1','cle2':'valeur2'}"
   ]
  },
  {
   "cell_type": "code",
   "execution_count": null,
   "metadata": {
    "collapsed": true
   },
   "outputs": [],
   "source": [
    "# Appeler les valeurs par leurs clés\n",
    "print(d['cle1'])"
   ]
  },
  {
   "cell_type": "markdown",
   "metadata": {},
   "source": [
    "Il est important de noter que les dictionnaires sont très flexibles dans les types de données qu'ils peuvent contenir. Par exemple :"
   ]
  },
  {
   "cell_type": "code",
   "execution_count": null,
   "metadata": {
    "collapsed": true
   },
   "outputs": [],
   "source": [
    "# Construire un dictionnaire dont ces valeurs sont de types: entier, chaîne de caractères, liste et tuple\n",
    "d = {\n",
    "    'nombre':123,\n",
    "    'string':'123',\n",
    "    'liste':[1,2,3],\n",
    "    'tuple':('item0','item1','item2')\n",
    "}"
   ]
  },
  {
   "cell_type": "code",
   "execution_count": null,
   "metadata": {
    "collapsed": true
   },
   "outputs": [],
   "source": [
    "# Appeler les éléments du dictionnaire\n",
    "print(d['liste'])"
   ]
  },
  {
   "cell_type": "code",
   "execution_count": null,
   "metadata": {
    "collapsed": true
   },
   "outputs": [],
   "source": [
    "# Appeler un élément de cette liste\n",
    "print(d['liste'][1])"
   ]
  },
  {
   "cell_type": "code",
   "execution_count": null,
   "metadata": {},
   "outputs": [],
   "source": [
    "# si la clé que vous demandez n'existe pas, vous obtiendrez une erreur.\n",
    "print(d[\"set\"])"
   ]
  },
  {
   "cell_type": "markdown",
   "metadata": {},
   "source": [
    "Nous pouvons également modifier les valeurs d'une clé. Par exemple :"
   ]
  },
  {
   "cell_type": "code",
   "execution_count": null,
   "metadata": {
    "collapsed": true
   },
   "outputs": [],
   "source": [
    "print(d['nombre'])"
   ]
  },
  {
   "cell_type": "code",
   "execution_count": null,
   "metadata": {
    "collapsed": true
   },
   "outputs": [],
   "source": [
    "# Changer la valeur du clé \"nombre\"\n",
    "d['nombre'] = 100"
   ]
  },
  {
   "cell_type": "code",
   "execution_count": null,
   "metadata": {
    "collapsed": true
   },
   "outputs": [],
   "source": [
    "# Verifier\n",
    "print(d['nombre'])"
   ]
  },
  {
   "cell_type": "markdown",
   "metadata": {},
   "source": [
    "Lorsque vous n'avez plus besoin d'un élément d'information stocké dans un dictionnaire, vous pouvez utiliser l'instruction del pour supprimer complètement une paire clé-valeur. Par exemple, supprimons la clé *\"tuple\"* du dictionnaire *d* ainsi que sa valeur :"
   ]
  },
  {
   "cell_type": "code",
   "execution_count": null,
   "metadata": {
    "collapsed": true
   },
   "outputs": [],
   "source": [
    "# Supprimer la  clé \"tuple\" et sa valeur\n",
    "del d['tuple']"
   ]
  },
  {
   "cell_type": "code",
   "execution_count": null,
   "metadata": {
    "collapsed": true
   },
   "outputs": [],
   "source": [
    "# Verifier\n",
    "print(d)"
   ]
  },
  {
   "cell_type": "markdown",
   "metadata": {},
   "source": [
    "Nous pouvons également créer des clés par affectation. Par exemple, si nous avons commencé avec un dictionnaire vide, nous pourrions continuellement y ajouter des nouveaux valeurs :"
   ]
  },
  {
   "cell_type": "code",
   "execution_count": null,
   "metadata": {
    "collapsed": true
   },
   "outputs": [],
   "source": [
    "# Créer un nouveau dictionnaire vide\n",
    "d = {}"
   ]
  },
  {
   "cell_type": "code",
   "execution_count": null,
   "metadata": {
    "collapsed": true
   },
   "outputs": [],
   "source": [
    "# Créer une nouvelle clé par une simple affectation\n",
    "d['langage'] = 'Python'"
   ]
  },
  {
   "cell_type": "code",
   "execution_count": null,
   "metadata": {
    "collapsed": true
   },
   "outputs": [],
   "source": [
    "# Vous pouvez faire une affectation dont la clé est la valeur sont de n'importe quel type\n",
    "d[1] = 3.6\n",
    "\n",
    "# Utiliser une clé de type chaîne de caractéres est plus approprié"
   ]
  },
  {
   "cell_type": "code",
   "execution_count": null,
   "metadata": {
    "collapsed": true
   },
   "outputs": [],
   "source": [
    "# Afficher\n",
    "print(d)"
   ]
  },
  {
   "cell_type": "markdown",
   "metadata": {},
   "source": [
    "#### Dictionnaires imbriqués\n",
    "\n",
    "Espérons que vous commencez à voir à quel point Python est puissant avec sa flexibilité d'**imbrication** d'objets et d'appel de méthodes sur eux. Voyons voir un dictionnaire imbriqué à l'intérieur d'un dictionnaire :"
   ]
  },
  {
   "cell_type": "code",
   "execution_count": null,
   "metadata": {
    "collapsed": true
   },
   "outputs": [],
   "source": [
    "# Dictionnaire imbriqué à l'intérieur d'un dictionnaire imbriqué à l'intérieur d'un dictionnaire\n",
    "d = {'cle1':{'cle_inter1':{'cle_inter_inter1':'valeur'}}}"
   ]
  },
  {
   "cell_type": "markdown",
   "metadata": {},
   "source": [
    "Voyons comment nous pouvons récupérer cette valeur :"
   ]
  },
  {
   "cell_type": "code",
   "execution_count": null,
   "metadata": {
    "collapsed": true
   },
   "outputs": [],
   "source": [
    "# Continuez d'appeler les clés\n",
    "print(d['cle1']['cle_inter1']['cle_inter_inter1'])"
   ]
  },
  {
   "cell_type": "markdown",
   "metadata": {},
   "source": [
    "#### Quelques méthodes de dictionnaire\n",
    "\n",
    "Il y a quelques méthodes que l'on peut appeler pour un dictionnaire. Faisons une brève présentation de quelques-unes d'entre elles :"
   ]
  },
  {
   "cell_type": "code",
   "execution_count": null,
   "metadata": {
    "collapsed": true
   },
   "outputs": [],
   "source": [
    "# Créer un dictionnaire typique\n",
    "d = {'cle1':1,'cle2':2,'cle3':3}"
   ]
  },
  {
   "cell_type": "code",
   "execution_count": null,
   "metadata": {},
   "outputs": [],
   "source": [
    "'''\n",
    "La méthode \"get() définit une valeur par défaut qui sera renvoyée\n",
    "si la clé demandée n'existe pas\n",
    "'''\n",
    "val_cle0 = d.get('cle0', \"cle0 n'existe pas\")\n",
    "val_cle1 = d.get('cle1', \"cle1 n'existe pas\")\n",
    "print(val_cle0)\n",
    "print(val_cle1)"
   ]
  },
  {
   "cell_type": "code",
   "execution_count": null,
   "metadata": {},
   "outputs": [],
   "source": [
    "'''\n",
    "Si vous omettez le deuxième argument de get() \n",
    "et que la clé n'existe pas, Python retournera la valeur None.\n",
    "'''\n",
    "val_cle0 = d.get('cle0')\n",
    "print(val_cle0)"
   ]
  },
  {
   "cell_type": "code",
   "execution_count": null,
   "metadata": {
    "collapsed": true
   },
   "outputs": [],
   "source": [
    "'''\n",
    "La méthode \"keys()\" retourne un objet de type \"dict_keys\"\n",
    "contient une liste des clés\n",
    "'''\n",
    "print(d.keys())\n"
   ]
  },
  {
   "cell_type": "code",
   "execution_count": null,
   "metadata": {
    "collapsed": true
   },
   "outputs": [],
   "source": [
    "'''\n",
    "La méthode \"values()\" retourne un objet de type \"dict_values\"\n",
    "contient une liste des valeurs\n",
    "'''\n",
    "print(d.values())\n"
   ]
  },
  {
   "cell_type": "code",
   "execution_count": null,
   "metadata": {
    "collapsed": true
   },
   "outputs": [],
   "source": [
    "'''\n",
    "La méthode \"items()\" retourne un objet de type \"dict_items\"\n",
    "contient une liste des tuples (clé, valeur)\n",
    "'''\n",
    "print(d.items())"
   ]
  },
  {
   "cell_type": "markdown",
   "metadata": {},
   "source": [
    "### Ensembles et Booléens\n",
    "\n",
    "Il y a deux autres types d'objets en Python que nous devrions rapidement couvrir. Les ensembles et les booléens. \n",
    "\n",
    "#### Ensembles\n",
    "\n",
    "Les ensembles sont une collection non ordonnée d'éléments **uniques**. Nous pouvons les construire en utilisant la fonction <font color='blue'>**set()**</font>. Allons de l'avant et faisons un ensemble pour voir comment ça marche."
   ]
  },
  {
   "cell_type": "code",
   "execution_count": null,
   "metadata": {
    "collapsed": true
   },
   "outputs": [],
   "source": [
    "# Créer un ensemble\n",
    "x = set()"
   ]
  },
  {
   "cell_type": "code",
   "execution_count": null,
   "metadata": {
    "collapsed": true
   },
   "outputs": [],
   "source": [
    "# Ajouter aux ensembles avec la méthode \"add()\"\n",
    "x.add(1)"
   ]
  },
  {
   "cell_type": "code",
   "execution_count": null,
   "metadata": {
    "collapsed": true
   },
   "outputs": [],
   "source": [
    "# Afficher\n",
    "print(x)"
   ]
  },
  {
   "cell_type": "markdown",
   "metadata": {},
   "source": [
    "Notez que les crochets **{}** n'indique pas un dictionnaire.\n",
    "\n",
    "Nous savons qu'un ensemble n'a que des entrées uniques. Que se passe-t-il lorsque nous essayons d'ajouter quelque chose qui se trouve déjà dans un ensemble ?"
   ]
  },
  {
   "cell_type": "code",
   "execution_count": null,
   "metadata": {
    "collapsed": true
   },
   "outputs": [],
   "source": [
    "# Ajouter le même élément\n",
    "x.add(1)"
   ]
  },
  {
   "cell_type": "code",
   "execution_count": null,
   "metadata": {
    "collapsed": true
   },
   "outputs": [],
   "source": [
    "# Afficher\n",
    "print(x)"
   ]
  },
  {
   "cell_type": "markdown",
   "metadata": {},
   "source": [
    "Remarquez qu'il ne placera pas un autre 1 là. C'est parce qu'un ensemble n'est concerné que par des éléments uniques ! Nous pouvons mouler une liste d'éléments répétitifs multiples dans un ensemble pour obtenir les éléments uniques. Par exemple :"
   ]
  },
  {
   "cell_type": "code",
   "execution_count": null,
   "metadata": {
    "collapsed": true
   },
   "outputs": [],
   "source": [
    "# Créer une liste avec des répétitions\n",
    "l = [1,1,2,2,3,4,5,6,1,1]"
   ]
  },
  {
   "cell_type": "code",
   "execution_count": null,
   "metadata": {
    "collapsed": true
   },
   "outputs": [],
   "source": [
    "# Transformer une liste à un ensemble pour obtenir les éléments uniques\n",
    "print(set(l))"
   ]
  },
  {
   "cell_type": "markdown",
   "metadata": {},
   "source": [
    "Vous pouvez construire un ensemble directement en utilisant des accolades et en séparant les éléments par des virgules. Par exemple :"
   ]
  },
  {
   "cell_type": "code",
   "execution_count": null,
   "metadata": {},
   "outputs": [],
   "source": [
    "s = {1, 2, 3, 4}\n",
    "print(s)"
   ]
  },
  {
   "cell_type": "markdown",
   "metadata": {},
   "source": [
    "Il est facile de confondre les ensembles et les dictionnaires, car ils sont tous deux entourés d'accolades. Si vous voyez des accolades mais pas de paires clé-valeur, vous êtes probablement en présence d'un ensemble. Contrairement aux listes et aux dictionnaires, les ensembles ne conservent pas les éléments dans un ordre spécifique."
   ]
  },
  {
   "cell_type": "markdown",
   "metadata": {},
   "source": [
    "#### Booléen\n",
    "\n",
    "Python est venu avec le type booléen, qui peut être soit vrai (*True*) ou faux (*False*) (ces deux valeurs ne sont fondamentalement que les entiers 1 et 0). Passons vers quelques exemples rapides des booléens :"
   ]
  },
  {
   "cell_type": "code",
   "execution_count": null,
   "metadata": {
    "collapsed": true
   },
   "outputs": [],
   "source": [
    "# Définir un objet comme étant un booléen\n",
    "b = True\n",
    "c = False"
   ]
  },
  {
   "cell_type": "code",
   "execution_count": null,
   "metadata": {},
   "outputs": [],
   "source": [
    "# Afficher\n",
    "print(b)\n",
    "print(c)"
   ]
  },
  {
   "cell_type": "markdown",
   "metadata": {},
   "source": [
    "##### Opérateurs relationnels"
   ]
  },
  {
   "cell_type": "markdown",
   "metadata": {},
   "source": [
    "Nous pouvons également utiliser des **opérateurs relationnels** (opérateurs de comparaison) pour créer des booléens. Ces opérateurs nous permettront de comparer des variables et d'obtenir une valeur booléenne (*Vrai* ou *Faux*).\n",
    "\n",
    "Nous présenterons d'abord un tableau des opérateurs de comparaison, puis nous travaillerons sur quelques exemples :\n",
    "\n",
    "<table class=\"table table-bordered\">\n",
    "<tr>\n",
    "<th style=\"width:10%\">Opérateur</th><th style=\"width:45%\">Description</th><th>Exemple</th>\n",
    "</tr>\n",
    "<tr>\n",
    "<td>==</td>\n",
    "<td>Si les valeurs de deux opérandes sont égales, alors la condition devient vraie (*True*)</td>\n",
    "<td>a == b</td>\n",
    "</tr>\n",
    "<tr>\n",
    "<td>!=</td>\n",
    "<td>Si les valeurs de deux opérandes ne sont pas égales, alors la condition devient vraie (*True*)</td>\n",
    "<td>a != b</td>\n",
    "</tr>\n",
    "<tr>\n",
    "<td>&gt;</td>\n",
    "<td>Si la valeur de l'opérande gauche est supérieure à la valeur de l'opérande droite, alors la condition devient vraie (*True*)</td>\n",
    "<td> a &gt; b</td>\n",
    "</tr>\n",
    "<tr>\n",
    "<td>&lt;</td>\n",
    "<td>Si la valeur de l'opérande gauche est inférieure à la valeur de l'opérande droite, alors la condition devient vraie (*True*)</td>\n",
    "<td> a &lt; b</td>\n",
    "</tr>\n",
    "<tr>\n",
    "<td>&gt;=</td>\n",
    "<td>Si la valeur de l'opérande gauche est supérieure ou égale à la valeur de l'opérande droite, alors la condition devient vraie (*True*)</td>\n",
    "<td> a &gt;= b </td>\n",
    "</tr>\n",
    "<tr>\n",
    "<td>&lt;=</td>\n",
    "<td>Si la valeur de l'opérande gauche est inférieure ou égale à la valeur de l'opérande droite, alors la condition devient vraie (*True*)</td>\n",
    "<td> a &lt;= b </td>\n",
    "</tr>\n",
    "</table>"
   ]
  },
  {
   "cell_type": "markdown",
   "metadata": {},
   "source": [
    "Voyons maintenant quelques exemples sur ces opérateurs :"
   ]
  },
  {
   "cell_type": "code",
   "execution_count": null,
   "metadata": {},
   "outputs": [],
   "source": [
    "# Egalité\n",
    "1 == 1"
   ]
  },
  {
   "cell_type": "markdown",
   "metadata": {},
   "source": [
    "Une erreur courante est d'utiliser un seul signe égal (=) au lieu d'un double signe égal (==). Rappelez-vous que = est un **opérateur d'assignation** et == est un **opérateur relationnels**."
   ]
  },
  {
   "cell_type": "code",
   "execution_count": null,
   "metadata": {},
   "outputs": [],
   "source": [
    "# Inégalité\n",
    "1 != 1"
   ]
  },
  {
   "cell_type": "code",
   "execution_count": null,
   "metadata": {},
   "outputs": [],
   "source": [
    "# Supérieur ou égal\n",
    "1 >= 2"
   ]
  },
  {
   "cell_type": "markdown",
   "metadata": {},
   "source": [
    "##### Opérateurs logiques\n",
    "Une caractéristique intéressante de Python est la possibilité de **chaîner** plusieurs comparaisons pour effectuer un test plus complexe. \n",
    "\n",
    "Voyons quelques exemples d'utilisation de chaînes :"
   ]
  },
  {
   "cell_type": "code",
   "execution_count": null,
   "metadata": {},
   "outputs": [],
   "source": [
    "# Calculons\n",
    "1 < 2 < 3"
   ]
  },
  {
   "cell_type": "markdown",
   "metadata": {},
   "source": [
    "Dans cet exemple nous avons vérifié si 1 était inférieur à 2 **et** si 2 était inférieur à 3. Nous aurions pu écrire ceci en utilisant l'**opérateur logique _and_** en Python :"
   ]
  },
  {
   "cell_type": "code",
   "execution_count": null,
   "metadata": {},
   "outputs": [],
   "source": [
    "# Calculons\n",
    "1 < 2 and 2 < 3"
   ]
  },
  {
   "cell_type": "code",
   "execution_count": null,
   "metadata": {},
   "outputs": [],
   "source": [
    "# Calculons\n",
    "1 < 3 > 2 != 2"
   ]
  },
  {
   "cell_type": "code",
   "execution_count": null,
   "metadata": {},
   "outputs": [],
   "source": [
    "# En utilisant \"and\"\n",
    "1 < 3 and 3 > 2 and 2 != 2"
   ]
  },
  {
   "cell_type": "markdown",
   "metadata": {},
   "source": [
    "Nous pouvons aussi utiliser **or** pour écrire des comparaisons en Python. Par exemple :"
   ]
  },
  {
   "cell_type": "code",
   "execution_count": null,
   "metadata": {},
   "outputs": [],
   "source": [
    "1 == 2 or 2 > 1"
   ]
  },
  {
   "cell_type": "markdown",
   "metadata": {},
   "source": [
    "Notez que c'était vrai, c'est parce qu'avec l'**opérateur logique _or_**, il suffit que *1 == 2* ou *2 > 1* soit vrai.\n",
    "\n",
    "Finalement il nous reste l'**opérateur logique _not_**. l'opérateur **not** inverse une expression booléenne, donc :"
   ]
  },
  {
   "cell_type": "code",
   "execution_count": null,
   "metadata": {},
   "outputs": [],
   "source": [
    "not True"
   ]
  },
  {
   "cell_type": "code",
   "execution_count": null,
   "metadata": {},
   "outputs": [],
   "source": [
    "# Et\n",
    "not False"
   ]
  },
  {
   "cell_type": "code",
   "execution_count": null,
   "metadata": {},
   "outputs": [],
   "source": [
    "# Reprenons une expression précédente (1 < 3 > 2 != 2), et qui nous a donné False\n",
    "not 1 < 3 > 2 != 2"
   ]
  },
  {
   "cell_type": "markdown",
   "metadata": {},
   "source": [
    "### None"
   ]
  },
  {
   "cell_type": "markdown",
   "metadata": {},
   "source": [
    "*None* est un objet que nous pouvons l'utiliser comme **caractère de remplacement** pour un objet que nous ne voulons pas encore assigner:"
   ]
  },
  {
   "cell_type": "code",
   "execution_count": null,
   "metadata": {
    "collapsed": true
   },
   "outputs": [],
   "source": [
    "# Utiliser \"None\"\n",
    "b = None"
   ]
  },
  {
   "cell_type": "markdown",
   "metadata": {},
   "source": [
    "### Conversion de type (casting)"
   ]
  },
  {
   "cell_type": "markdown",
   "metadata": {},
   "source": [
    "#### Fonction type()\n",
    "Si vous êtes encore des confusions et vous ne pouvez parfois pas déterminer le type d'une valeur, vous pouvez toujours utiliser la fonction <font color='blue'>**type()**</font> :"
   ]
  },
  {
   "cell_type": "code",
   "execution_count": null,
   "metadata": {},
   "outputs": [],
   "source": [
    "# Un entier\n",
    "type(8)"
   ]
  },
  {
   "cell_type": "code",
   "execution_count": null,
   "metadata": {},
   "outputs": [],
   "source": [
    "# Une chaine de caractères\n",
    "type('Bonjour tout le monde')"
   ]
  },
  {
   "cell_type": "markdown",
   "metadata": {},
   "source": [
    "#### Fonctions de conversion de type\n",
    "Python fournit des fonctions qui convertissent les valeurs d'un type à un autre. Par exmple la fonction <font color='blue'>**float()**</font> que nous avons l'utilisé précédemment, prend une valeur et la convertit, si elle le peut, en nombre flottant.\n",
    "Il y a d'autres fonctions de ce genre :\n",
    "<table class=\"table table-bordered\">\n",
    "<tr>\n",
    "<th style=\"width:10%\">Fonction</th><th style=\"width:45%\">Description</th><th>Exemple</th>\n",
    "</tr>\n",
    "<tr>\n",
    "<td>int()</td>\n",
    "<td>Convertit en un nombre entier</td>\n",
    "<td>int(flottant), int(\"entier_chaine\")</td>\n",
    "</tr>\n",
    "\n",
    "<tr>\n",
    "<td>bin()</td>\n",
    "<td>Convertit un nombre entier en binaire préfixée par \"0b\" sous forme d'une chaîne de caractères</td>\n",
    "<td>bin(entier)</td>\n",
    "</tr>\n",
    "\n",
    "<tr>\n",
    "<td>hex()</td>\n",
    "<td>Convertit un entier en hexadécimal sous forme d'une chaîne de caractères</td>\n",
    "<td>hex(entier)</td>\n",
    "</tr>\n",
    "\n",
    "<tr>\n",
    "<td>oct()</td>\n",
    "<td>Convertit un entier en octal sous forme d'une chaîne de caractères</td>\n",
    "<td>oct(entier)</td>\n",
    "</tr>\n",
    "\n",
    "<tr>\n",
    "<td>float()</td>\n",
    "<td>Convertit en un nombre flottant</td>\n",
    "<td>float(entier), float(\"flottant_chaine\")</td>\n",
    "</tr>\n",
    "\n",
    "<tr>\n",
    "<td>str()</td>\n",
    "<td>Convertit en une chaîne de caractères</td>\n",
    "<td>str(entier), str(flottant), str([l,i,s,t,e]) ...</td>\n",
    "</tr>\n",
    "\n",
    "<tr>\n",
    "<td>list()</td>\n",
    "<td>Convertit en une liste</td>\n",
    "<td>list(\"chaine\"), list((t,u,p,l,e)) ...</td>\n",
    "</tr>\n",
    "\n",
    "<tr>\n",
    "<td>tuple()</td>\n",
    "<td>Convertit en un tuple</td>\n",
    "<td>tuple(\"chaine\"), tuple([l,i,s,t,e]) ...</td>\n",
    "</tr>\n",
    "\n",
    "<tr>\n",
    "<td>dict()</td>\n",
    "<td>Convertit en un dictionnaire, l'entrée doit être une séquence de tuples (clé, valeur).</td>\n",
    "<td>dict([(cle1,valeur1),(cle2,valeur2)]) ...</td>\n",
    "</tr>\n",
    "\n",
    "<tr>\n",
    "<td>set()</td>\n",
    "<td>Convertit en une ensmble</td>\n",
    "<td>set(\"chaine\"), set([l,i,s,t,e]) ...</td>\n",
    "</tr>\n",
    "</table>"
   ]
  },
  {
   "cell_type": "markdown",
   "metadata": {},
   "source": [
    "Prenons quelques exemples :"
   ]
  },
  {
   "cell_type": "code",
   "execution_count": null,
   "metadata": {},
   "outputs": [],
   "source": [
    "# Convertir 3.14 en un entier\n",
    "int(3.14)"
   ]
  },
  {
   "cell_type": "code",
   "execution_count": null,
   "metadata": {},
   "outputs": [],
   "source": [
    "# Convertir \"3\" en un entier\n",
    "int(\"3\")"
   ]
  },
  {
   "cell_type": "code",
   "execution_count": null,
   "metadata": {},
   "outputs": [],
   "source": [
    "# Convertir 1011 en un entier en spécifiant la base dans laquelle la chaîne de caractères est.\n",
    "print(int(\"1011\",2))\n",
    "# 1011 est en binaire\n",
    "print(int(\"1011\",10))\n",
    "# 1011 est en décimale\n",
    "print(int(\"0x3f3\",16))\n",
    "# 3f3 est en hexadécimale, 0x est pour indiqué qu'il est de type hexadécimale"
   ]
  },
  {
   "cell_type": "code",
   "execution_count": null,
   "metadata": {},
   "outputs": [],
   "source": [
    "# Convertir 1011 en hexadécimale, c'est l'opération inverse de celle précédente\n",
    "hex(1011)"
   ]
  },
  {
   "cell_type": "code",
   "execution_count": null,
   "metadata": {},
   "outputs": [],
   "source": [
    "# Convertir une liste en une chaîne de caractère\n",
    "str([1,2,3])"
   ]
  },
  {
   "cell_type": "code",
   "execution_count": null,
   "metadata": {},
   "outputs": [],
   "source": [
    "# Convertir une chaîne de caractère en une liste\n",
    "list(\"liste\")"
   ]
  },
  {
   "cell_type": "code",
   "execution_count": null,
   "metadata": {},
   "outputs": [],
   "source": [
    "# Convertir une liste de tuples (clé, valeur) en un dictionnaire\n",
    "dict([('langage','Python'), ('version',3.6)])"
   ]
  },
  {
   "cell_type": "code",
   "execution_count": null,
   "metadata": {},
   "outputs": [],
   "source": [
    "# Convertir un tuple en un ensemble\n",
    "set((1,1,1,1,1))"
   ]
  },
  {
   "cell_type": "markdown",
   "metadata": {},
   "source": [
    "Vous devriez maintenant avoir une compréhension de base des objets Python et des types de structure de données."
   ]
  },
  {
   "cell_type": "markdown",
   "metadata": {},
   "source": [
    "### Parcourir une série d'éléments\n",
    "Vous voudrez souvent parcourir toutes les entrées pour les types de données composés de plusieurs éléments comme les listes, tuples ..., en effectuant la même tâche avec chaque élément. Par exemple, dans une liste de nombres, vous pouvez vouloir effectuer la même opération statistique sur chaque élément. Lorsque vous voulez effectuer la même action pour chaque élément des types de données mentionnés, vous pouvez utiliser la boucle *for* de Python.\n",
    "\n",
    "#### Parcourir une liste"
   ]
  },
  {
   "cell_type": "code",
   "execution_count": null,
   "metadata": {},
   "outputs": [],
   "source": [
    "# Parcourir une liste des noms\n",
    "list_noms = [\"Aziz\", \"Meriem\", \"Ahmed\"]\n",
    "for nom in list_noms:\n",
    "    print(f\"Bonjour {nom}\")\n"
   ]
  },
  {
   "cell_type": "markdown",
   "metadata": {},
   "source": [
    "##### la fonction range() et les listes\n",
    "La fonction *range()* de Python permet de générer facilement une série de nombres. Par exemple, vous pouvez utiliser la fonction *range()* pour imprimer une série de nombres comme ceci :"
   ]
  },
  {
   "cell_type": "code",
   "execution_count": null,
   "metadata": {},
   "outputs": [],
   "source": [
    "# itérer de 0 à 4 avec un pas de 1\n",
    "for value in range(5):\n",
    "    print(value)"
   ]
  },
  {
   "cell_type": "code",
   "execution_count": null,
   "metadata": {},
   "outputs": [],
   "source": [
    "# itérer de 1 à 4 avec un pas de 1\n",
    "for value in range(1, 5):\n",
    "    print(value)"
   ]
  },
  {
   "cell_type": "code",
   "execution_count": null,
   "metadata": {},
   "outputs": [],
   "source": [
    "# itérer de 1 à 4 avec un pas de 2\n",
    "for value in range(1,5,2):\n",
    "    print(value)"
   ]
  },
  {
   "cell_type": "markdown",
   "metadata": {},
   "source": [
    "##### Utiliser range() pour créer une liste de nombres\n",
    "Si vous souhaitez créer une liste de nombres, vous pouvez convertir les résultats de range() en une liste à l'aide de la fonction list()."
   ]
  },
  {
   "cell_type": "code",
   "execution_count": null,
   "metadata": {},
   "outputs": [],
   "source": [
    "even_numbers = list(range(2, 10, 2))\n",
    "print(even_numbers)"
   ]
  },
  {
   "cell_type": "markdown",
   "metadata": {},
   "source": [
    "#### Parcourir un tuple"
   ]
  },
  {
   "cell_type": "code",
   "execution_count": null,
   "metadata": {},
   "outputs": [],
   "source": [
    "# Parcourir un tuple des noms\n",
    "tuple_noms = (\"Aziz\", \"Meriem\", \"Ahmed\")\n",
    "for nom in tuple_noms:\n",
    "    print(f\"Bonjour {nom}\")"
   ]
  },
  {
   "cell_type": "markdown",
   "metadata": {},
   "source": [
    "#### Parcourir un dictionnaire\n",
    "À partir de Python 3.7, parcourir un dictionnaire avec une boucle retourne les éléments dans dans l'ordre dans lequel ils ont été insérés."
   ]
  },
  {
   "cell_type": "code",
   "execution_count": null,
   "metadata": {},
   "outputs": [],
   "source": [
    "# Parcourir un dictionnaire des ages\n",
    "dic_ages = {'Aziz': 25, 'Meriem': 31, \"Ahmed\": 40}\n",
    "for nom in dic_ages:\n",
    "    print(f\"Bonjour {nom}, vous avez {dic_ages[nom]} ans\")\n"
   ]
  },
  {
   "cell_type": "code",
   "execution_count": null,
   "metadata": {},
   "outputs": [],
   "source": [
    "# Parcourir un dictionnaire des ages\n",
    "for nom in dic_ages.keys():\n",
    "    print(f\"Bonjour {nom}, vous avez {dic_ages[nom]} ans\")\n"
   ]
  },
  {
   "cell_type": "markdown",
   "metadata": {},
   "source": [
    "Vous pouvez choisir d'utiliser explicitement la méthode *keys()* si cela rend votre code plus facile à lire, ou vous pouvez l'omettre si vous le souhaitez. "
   ]
  },
  {
   "cell_type": "code",
   "execution_count": null,
   "metadata": {},
   "outputs": [],
   "source": [
    "# Parcourir les valeurs d'un dictionnaire des ages\n",
    "for age in dic_ages.values():\n",
    "    print(f\"Vous avez {age} ans\")"
   ]
  },
  {
   "cell_type": "code",
   "execution_count": null,
   "metadata": {},
   "outputs": [],
   "source": [
    "# Parcourir les couples clé/valeur d'un dictionnaire des ages\n",
    "for nom, age in dic_ages.items():\n",
    "    print(f\"Bonjour {nom}, vous avez {age} ans\")"
   ]
  },
  {
   "cell_type": "markdown",
   "metadata": {},
   "source": [
    "#### Parcourir un ensemble"
   ]
  },
  {
   "cell_type": "code",
   "execution_count": null,
   "metadata": {},
   "outputs": [],
   "source": [
    "# Parcourir un ensemble des noms\n",
    "set_noms = {'Aziz', 'Meriem', \"Ahmed\"}\n",
    "for nom in set_noms:\n",
    "    print(f\"Bonjour {nom}\")\n"
   ]
  },
  {
   "cell_type": "markdown",
   "metadata": {},
   "source": [
    "### Liste en compréhension (List Comprehensions)\n",
    "Vous pourriez calculer, par exemple, les carrés des 10 premiers chiffres et les mettre dans une liste."
   ]
  },
  {
   "cell_type": "code",
   "execution_count": null,
   "metadata": {},
   "outputs": [],
   "source": [
    "# carré des valeurs entre 1 et 10 par boucle for\n",
    "carres = []\n",
    "for valeur in range(1, 11):\n",
    "    carre = valeur ** 2\n",
    "    carres.append(carre)\n",
    "print(carres)"
   ]
  },
  {
   "cell_type": "markdown",
   "metadata": {},
   "source": [
    "Une liste en compréhension vous permet de générer cette même liste en une seule ligne de code. Une liste de compréhension combine la boucle *for* et la création de nouveaux éléments en une seule ligne, et ajoute automatiquement chaque nouvel élément."
   ]
  },
  {
   "cell_type": "code",
   "execution_count": null,
   "metadata": {},
   "outputs": [],
   "source": [
    "# carré des valeurs entre 1 et 10 par liste en compréhension\n",
    "carres = [value**2 for value in range(1, 11)]\n",
    "print(carres)\n"
   ]
  },
  {
   "cell_type": "markdown",
   "metadata": {},
   "source": [
    "Pour utiliser cette syntaxe, commencez par donner un nom descriptif à la liste, par exemple \"carres\". Ensuite, ouvrez un ensemble de crochets et définissez l'expression des valeurs que vous souhaitez stocker dans la nouvelle liste. Dans cet exemple, l'expression est *value\\*\\*2*, qui calcule le carré de la valeur. Ensuite, écrivez une boucle *for* pour générer les nombres que vous souhaitez injecter dans l'expression, puis fermez les crochets. Dans cet exemple, la boucle *for* est *for value in range(1, 10)*, qui introduit les valeurs 1 à 9 dans l'expression *value\\*\\*2*. Notez qu'aucun deux-points n'est utilisé à la fin de l'instruction *for*.\n",
    "\n",
    "#### Exercice Simple\n",
    "Définissez une liste des puissances de 3 des nombres de 3 à 31. Utilisez une liste en compréhension pour simplifer les choses.\n",
    "\n",
    "```python\n",
    "cubes = [expression for val in range(arguments)]\n",
    "print(cubes)\n",
    "```"
   ]
  },
  {
   "cell_type": "markdown",
   "metadata": {},
   "source": [
    "## Conditions"
   ]
  },
  {
   "cell_type": "code",
   "execution_count": null,
   "metadata": {},
   "outputs": [],
   "source": [
    "note = float(input(\"Quelle est votre note? \"))\n",
    "if 0 <= note < 10:\n",
    "    print(\"Vous avez échoué\")\n",
    "elif 10 <= note < 12:\n",
    "    print(\"Mention passable\")\n",
    "elif 12 <= note < 14:\n",
    "    print(\"Mention assez bien\")\n",
    "elif 14 <= note < 16:\n",
    "    print(\"Mention bien\")\n",
    "elif 16 <= note <= 20:\n",
    "    print(\"Mention très bien\")\n",
    "else:\n",
    "    print(\"La note n'est pas valide\")"
   ]
  },
  {
   "cell_type": "markdown",
   "metadata": {},
   "source": [
    "#### Vérifier si une valeur se trouve dans une liste\n",
    "Pour savoir si une valeur particulière se trouve dans une liste, utilisez le mot clé *in*."
   ]
  },
  {
   "cell_type": "code",
   "execution_count": null,
   "metadata": {},
   "outputs": [],
   "source": [
    "list_noms = [\"Aziz\", \"Meriem\", \"Ahmed\"]\n",
    "\n",
    "if \"Aziz\" in list_noms:\n",
    "    print(\"Aziz est dans la list\")"
   ]
  },
  {
   "cell_type": "markdown",
   "metadata": {},
   "source": [
    "Parfois, il est important de savoir si une valeur n'apparaît pas à une liste. Vous pouvez utiliser le mot clé *not* dans cette situation"
   ]
  },
  {
   "cell_type": "code",
   "execution_count": null,
   "metadata": {},
   "outputs": [],
   "source": [
    "list_noms = [\"Aziz\", \"Meriem\", \"Ahmed\"]\n",
    "\n",
    "if \"Hamza\" not in list_noms:\n",
    "    print(\"Hamza n'est pas dans la list\")\n"
   ]
  },
  {
   "cell_type": "markdown",
   "metadata": {},
   "source": [
    "#### Vérifier qu'une liste n'est pas vide\n",
    "Lorsque le nom d'une liste est utilisé dans une instruction *if*, Python renvoie *True* si la liste contient au moins un élément. Une liste vide est évaluée à *False*."
   ]
  },
  {
   "cell_type": "code",
   "execution_count": null,
   "metadata": {},
   "outputs": [],
   "source": [
    "l = []\n",
    "if l:\n",
    "    print(\"la liste n'est pas vide\")\n",
    "else:\n",
    "    print(\"la list est vide\")"
   ]
  },
  {
   "cell_type": "markdown",
   "metadata": {},
   "source": [
    "## Boucles\n",
    "La boucle for prend une série d'éléments et exécute un bloc de code une fois pour chaque élément de la série. En revanche, la boucle while s'exécute tant que, une certaine condition est vraie."
   ]
  },
  {
   "cell_type": "code",
   "execution_count": null,
   "metadata": {},
   "outputs": [],
   "source": [
    "# Utilisez une condition \"i < 4\" pour arrêter la boucle while\n",
    "i = 0\n",
    "while i < 4:\n",
    "    print(i)\n",
    "    i += 1\n"
   ]
  },
  {
   "cell_type": "code",
   "execution_count": null,
   "metadata": {},
   "outputs": [],
   "source": [
    "# Utilisez une variable booléenne \"stay_in\" pour arrêter la boucle while\n",
    "stay_in = True\n",
    "i = 0\n",
    "while stay_in:\n",
    "    if i >= 4:\n",
    "        stay_in = False\n",
    "    else:\n",
    "        print(i)\n",
    "        i += 1\n"
   ]
  },
  {
   "cell_type": "code",
   "execution_count": null,
   "metadata": {},
   "outputs": [],
   "source": [
    "# Utilisez l'instruction \"break\" pour arrêter la boucle while\n",
    "i = 0\n",
    "while True:\n",
    "    if i >= 4:\n",
    "        break\n",
    "    print(i)\n",
    "    i += 1\n"
   ]
  },
  {
   "cell_type": "markdown",
   "metadata": {},
   "source": [
    "Au lieu de sortir entièrement d'une boucle sans exécuter le reste du code, vous pouvez utiliser l'instruction *continue* pour revenir au début de la boucle en fonction du résultat d'un test conditionnel. Prenons l'exemple d'une boucle qui compte de 1 à 10 mais qui affiche uniquement les nombres impairs de cet intervalle :"
   ]
  },
  {
   "cell_type": "code",
   "execution_count": null,
   "metadata": {},
   "outputs": [],
   "source": [
    "# Utilisez l'instruction \"continue\" pour sauter certains éléments dans la boucle while\n",
    "i = 0\n",
    "while i < 10:\n",
    "    i += 1\n",
    "    if i % 2 == 0:\n",
    "        continue\n",
    "    print(i)\n"
   ]
  },
  {
   "cell_type": "markdown",
   "metadata": {},
   "source": [
    "Vous pouvez utiliser les instructions *break* et *continue* dans toutes les boucles de Python. Par exemple, vous pouvez utiliser *break* pour quitter une boucle for qui parcourt une liste ou un dictionnaire."
   ]
  },
  {
   "cell_type": "code",
   "execution_count": null,
   "metadata": {},
   "outputs": [],
   "source": [
    "# Utilisez l'instruction \"break\" pour arrêter le parcours d'une liste\n",
    "l = list(range(10))\n",
    "for i in l:\n",
    "    if i >= 4:\n",
    "        break\n",
    "    print(i)"
   ]
  },
  {
   "cell_type": "markdown",
   "metadata": {},
   "source": [
    "## Fonctions\n",
    "### Définir une fonction\n",
    "Prenons une fonction simple qui imprime un message de bienvenue :"
   ]
  },
  {
   "cell_type": "code",
   "execution_count": null,
   "metadata": {},
   "outputs": [],
   "source": [
    "def bonjour():\n",
    "    \"\"\"Afficher Bonjour\"\"\"\n",
    "    print(\"Bonjour\")\n",
    "\n",
    "bonjour()\n"
   ]
  },
  {
   "cell_type": "markdown",
   "metadata": {},
   "source": [
    "### Arguments et paramètres"
   ]
  },
  {
   "cell_type": "code",
   "execution_count": null,
   "metadata": {},
   "outputs": [],
   "source": [
    "def bonjourUtilisateur(nom):\n",
    "    \"\"\"Afficher Bonjour\"\"\"\n",
    "    print(f\"Bonjour {nom.title()}\")\n",
    "\n",
    "bonjourUtilisateur('hamza')"
   ]
  },
  {
   "cell_type": "markdown",
   "metadata": {},
   "source": [
    "La variable *nom* dans la définition de *bonjourUtilisateur()* est un exemple de paramètre, un élément d'information dont la fonction a besoin pour faire son travail. La valeur 'hamza' dans *bonjourUtilisateur('hamza')* est un exemple d'argument. Un argument est un élément d'information qui est transmis d'un appel de fonction à une fonction. Lorsque nous appelons la fonction, nous plaçons entre parenthèses la valeur avec laquelle nous voulons que la fonction travaille. Dans ce cas, l'argument 'hamza' a été transmis à la fonction *bonjourUtilisateur()*, et la valeur a été attribuée au paramètre *nom*.\n",
    "\n",
    "Vous pouvez obtenir des résultats inattendus si vous mélangez l'ordre des arguments dans un appel de fonction lorsque vous utilisez des arguments positionnels."
   ]
  },
  {
   "cell_type": "code",
   "execution_count": null,
   "metadata": {},
   "outputs": [],
   "source": [
    "def bonjourUtilisateur(nom, age):\n",
    "    \"\"\"Afficher Bonjour\"\"\"\n",
    "    print(f\"Bonjour {nom}, vous êtes {age} ans\")\n",
    "\n",
    "\n",
    "bonjourUtilisateur('hamza', 25)\n",
    "bonjourUtilisateur(25, 'hamza')\n"
   ]
  },
  {
   "cell_type": "markdown",
   "metadata": {},
   "source": [
    "### Arguments par mot clé\n",
    "Un argument par mot-clé est une paire nom-valeur que vous passez à une fonction. Vous associez directement le nom et la valeur dans l'argument, de sorte que lorsque vous passez l'argument à la fonction, il n'y a pas de confusion. Les arguments par mot-clé vous évitent d'avoir à vous soucier de l'ordre correct de vos arguments dans l'appel de fonction, et ils clarifient le rôle de chaque valeur dans l'appel de fonction."
   ]
  },
  {
   "cell_type": "code",
   "execution_count": null,
   "metadata": {},
   "outputs": [],
   "source": [
    "def bonjourUtilisateur(nom, age):\n",
    "    \"\"\"Afficher Bonjour\"\"\"\n",
    "    print(f\"Bonjour {nom}, vous êtes {age} ans\")\n",
    "\n",
    "\n",
    "bonjourUtilisateur(nom='hamza', age=25)"
   ]
  },
  {
   "cell_type": "markdown",
   "metadata": {},
   "source": [
    "L'ordre des arguments par mot-clé n'a pas d'importance car Python sait où chaque valeur doit aller. Les deux appels de fonction suivants sont équivalents :"
   ]
  },
  {
   "cell_type": "code",
   "execution_count": null,
   "metadata": {},
   "outputs": [],
   "source": [
    "bonjourUtilisateur(nom='hamza', age=25)\n",
    "bonjourUtilisateur(age=25, nom='hamza')"
   ]
  },
  {
   "cell_type": "markdown",
   "metadata": {},
   "source": [
    "### Valeurs par défaut\n",
    "Lorsque vous écrivez une fonction, vous pouvez définir une valeur par défaut pour chaque paramètre. Si un argument pour un paramètre est fourni dans l'appel de fonction, Python utilise la valeur de l'argument. Dans le cas contraire, il utilise la valeur par défaut du paramètre."
   ]
  },
  {
   "cell_type": "code",
   "execution_count": null,
   "metadata": {},
   "outputs": [],
   "source": [
    "def bonjourUtilisateur(nom, age=10):\n",
    "    \"\"\"Afficher Bonjour\"\"\"\n",
    "    print(f\"Bonjour {nom}, vous êtes {age} ans\")\n",
    "\n",
    "\n",
    "bonjourUtilisateur(\"karim\")\n",
    "# ou\n",
    "bonjourUtilisateur(nom = \"karim\")"
   ]
  },
  {
   "cell_type": "markdown",
   "metadata": {},
   "source": [
    "Lorsque vous utilisez des valeurs par défaut, tout paramètre ayant une valeur par défaut doit être listé après tous les paramètres qui n'ont pas de valeur par défaut. Cela permet à Python de continuer à interpréter correctement les arguments positionnels.\n",
    "\n",
    "### Valeurs de retour"
   ]
  },
  {
   "cell_type": "code",
   "execution_count": null,
   "metadata": {},
   "outputs": [],
   "source": [
    "def nomCompletFormate(prenom, nom):\n",
    "    \"\"\"Retournez un nom complet, proprement formaté\"\"\"\n",
    "    nom_complet = f\"{prenom} {nom}\"\n",
    "    return nom_complet.title()\n",
    "\n",
    "mon_nom = nomCompletFormate('hamza', 'jamal')\n",
    "print(mon_nom)"
   ]
  },
  {
   "cell_type": "markdown",
   "metadata": {},
   "source": [
    "Une fonction peut retourner n'importe quel type de valeur, y compris des structures de données plus complexes comme les listes et les dictionnaires. "
   ]
  },
  {
   "cell_type": "code",
   "execution_count": null,
   "metadata": {},
   "outputs": [],
   "source": [
    "def nomCompletDic(prenom, nom, age):\n",
    "    \"\"\"Renvoie un dictionnaire d'informations sur une personne\"\"\"\n",
    "    personne = {'prenom': prenom, 'nom': nom, 'age':age}\n",
    "    return personne\n",
    "mes_info = nomCompletDic('hamza', 'jamal', 25)\n",
    "print(mes_info)"
   ]
  },
  {
   "cell_type": "markdown",
   "metadata": {},
   "source": [
    "### Argument de type liste\n",
    "Vous trouverez souvent utile de passer une liste à une fonction, qu'il s'agisse d'une liste de noms, de nombres ou d'objets plus complexes, tels que des dictionnaires. Lorsque vous passez une liste à une fonction, la fonction a un accès direct au contenu de la liste."
   ]
  },
  {
   "cell_type": "code",
   "execution_count": null,
   "metadata": {},
   "outputs": [],
   "source": [
    "def bonjourUtilisateurs(noms):\n",
    "    \"\"\"Afficher bonjour à chaque utilisateur de la liste\"\"\"\n",
    "    for nom in noms:\n",
    "        msg = f\"Bonjour {nom.title()}\"\n",
    "        print(msg)\n",
    "\n",
    "\n",
    "noms_utilisateurs = ['karim', 'fatima', 'hamza']\n",
    "bonjourUtilisateurs(noms_utilisateurs)"
   ]
  },
  {
   "cell_type": "markdown",
   "metadata": {},
   "source": [
    "Lorsque vous passez une liste à une fonction, la fonction peut modifier la liste. Toute modification apportée à la liste dans le corps de la fonction est permanente, ce qui vous permet de travailler efficacement, même lorsque vous traitez de grandes quantités de données.\n",
    "\n",
    "Parfois, vous voudrez empêcher une fonction de modifier une liste. Dans ce cas, vous pouvez résoudre ce problème en transmettant à la fonction une copie de la liste, et non l'original. Toute modification apportée à la liste par la fonction n'affectera que la copie, laissant la liste originale inchangée. Vous pouvez envoyer une copie d'une liste à une fonction comme ceci :"
   ]
  },
  {
   "cell_type": "code",
   "execution_count": null,
   "metadata": {},
   "outputs": [],
   "source": [
    "def bonjourUtilisateurs(noms):\n",
    "    \"\"\"Afficher bonjour à chaque utilisateur de la liste\"\"\"\n",
    "    for i in range(len(noms)):\n",
    "        noms[i] = noms[i].title()\n",
    "        msg = f\"Bonjour {noms[i]}\"\n",
    "        print(msg)\n",
    "\n",
    "noms_utilisateurs = ['karim', 'fatima', 'hamza']\n",
    "bonjourUtilisateurs(noms_utilisateurs[:])\n",
    "print(noms_utilisateurs)\n",
    "print(\"==========\")\n",
    "bonjourUtilisateurs(noms_utilisateurs)\n",
    "print(noms_utilisateurs)"
   ]
  },
  {
   "cell_type": "markdown",
   "metadata": {},
   "source": [
    "La notation des tranches [:] permet de faire une copie de la liste à envoyer à la fonction.\n",
    "\n",
    "Même si vous pouvez préserver le contenu d'une liste en n'en transmettant qu'une copie à vos fonctions, vous devez transmettre la liste originale aux fonctions, sauf si vous avez une raison spécifique de transmettre une copie.  Il est plus efficace pour une fonction de travailler avec une liste existante pour éviter d'utiliser le temps et la mémoire nécessaires pour faire une copie séparée, en particulier lorsque vous travaillez avec de grandes listes.\n",
    "\n",
    "### Passage d'un nombre arbitraire d'arguments\n",
    "Parfois, vous ne saurez pas à l'avance combien d'arguments une fonction doit accepter. Heureusement, Python permet à une fonction de collecter un nombre arbitraire d'arguments à partir de l'instruction d'appel."
   ]
  },
  {
   "cell_type": "code",
   "execution_count": null,
   "metadata": {},
   "outputs": [],
   "source": [
    "def afficherUtilisateurs(*noms):\n",
    "    \"\"\"Afficher les utilisateurs passés comme arguments à la fonction\"\"\"\n",
    "    print(noms)\n",
    "\n",
    "afficherUtilisateurs('hamza')\n",
    "afficherUtilisateurs('karim', 'fatima', 'hamza')"
   ]
  },
  {
   "cell_type": "markdown",
   "metadata": {},
   "source": [
    "Si vous souhaitez qu'une fonction accepte plusieurs types d'arguments différents, le paramètre qui accepte un nombre arbitraire d'arguments doit être placé en dernier dans la définition de la fonction. Python fait d'abord correspondre les arguments positionnels et les arguments par mot-clé, puis rassemble tous les arguments restants dans le paramètre final."
   ]
  },
  {
   "cell_type": "code",
   "execution_count": null,
   "metadata": {},
   "outputs": [],
   "source": [
    "def saluerUtilisateurs(salutation, *noms):\n",
    "    \"\"\"Saluer chaque utilisateur passé comme argument à la fonction\"\"\"\n",
    "    for nom in noms:\n",
    "        msg = f\"{salutation.upper()} {nom.title()}\"\n",
    "        print(msg)\n",
    "\n",
    "saluerUtilisateurs('bonjour', 'hamza')\n",
    "print(\"==========\")\n",
    "saluerUtilisateurs('bonsoir', 'karim', 'fatima', 'hamza')\n"
   ]
  },
  {
   "cell_type": "markdown",
   "metadata": {},
   "source": [
    "Vous verrez souvent le nom de paramètre générique *args, qui rassemble des arguments positionnels arbitraires.\n",
    "\n",
    "Parfois, vous voudrez accepter un nombre arbitraire d'arguments, mais vous ne saurez pas à l'avance quel type d'information sera transmis à la fonction. Dans ce cas, vous pouvez écrire des fonctions qui acceptent autant de paires clé-valeur que l'instruction d'appel en fournit."
   ]
  },
  {
   "cell_type": "code",
   "execution_count": null,
   "metadata": {},
   "outputs": [],
   "source": [
    "def construireProfil(prenom, nom, **utilisateur_info):\n",
    "    \"\"\"Construire un dictionnaire contenant toutes les informations sur un utilisateur\"\"\"\n",
    "    utilisateur_info['prenom'] = prenom\n",
    "    utilisateur_info['nom'] = nom\n",
    "    return utilisateur_info\n",
    "\n",
    "\n",
    "utilisateur_profil = construireProfil('hamza', 'jamal',\n",
    "                                      metier='enseignant',\n",
    "                                      domaine='informatique')\n",
    "print(utilisateur_profil)\n"
   ]
  },
  {
   "cell_type": "markdown",
   "metadata": {},
   "source": [
    "Vous pouvez mélanger des valeurs positionnelles, des mots-clés et des valeurs arbitraires de nombreuses manières différentes lorsque vous écrivez vos propres fonctions. Il est utile de savoir que tous ces types d'arguments existent car vous les verrez souvent lorsque vous commencerez à lire le code d'autres personnes. Il faut de la pratique pour apprendre à utiliser correctement les différents types et savoir quand utiliser chaque type. Pour l'instant, n'oubliez pas d'utiliser l'approche la plus simple qui permet de faire le travail. Au fur et à mesure que vous progresserez, vous apprendrez à utiliser l'approche la plus efficace à chaque fois.\n",
    "\n",
    "Vous verrez souvent le nom de paramètre **kwargs utilisé pour rassembler des arguments par mot-clé non spécifiques."
   ]
  },
  {
   "cell_type": "markdown",
   "metadata": {},
   "source": [
    "## Programmation orientée objet\n",
    "Dans la programmation orientée objet, vous écrivez des classes qui représentent des choses et des situations du monde réel, et vous créez des objets basés sur ces classes. Lorsque vous écrivez une classe, vous définissez le comportement général que peut avoir une catégorie entière d'objets. Lorsque vous créez des objets à partir de la classe, chaque objet est automatiquement équipé du comportement général, vous pouvez ensuite donner à chaque objet les caractéristiques uniques que vous souhaitez. La création d'un objet à partir d'une classe est appelée instanciation, et vous travaillez avec des instances d'une classe.\n",
    "\n",
    "### Création et utilisation d'une classe\n",
    "Commençons par écrire une classe simple, *Dog*, qui représente un chien - pas un chien en particulier, mais n'importe quel chien. Par convention, les noms en majuscules font référence aux classes en Python. Une fois notre classe écrite, nous l'utiliserons pour créer des instances individuelles, chacune d'entre elles représentant un chien spécifique."
   ]
  },
  {
   "cell_type": "code",
   "execution_count": 8,
   "metadata": {},
   "outputs": [],
   "source": [
    "class Dog:\n",
    "    def __init__(self, a_name, age):\n",
    "        self.name = a_name\n",
    "        self.age = age\n",
    "\n",
    "    def sit(self):\n",
    "        print(f\"{self.name} is now sitting.\")\n",
    "    def roll_over(self):\n",
    "        print(f\"{self.name} rolled over!\")"
   ]
  },
  {
   "cell_type": "markdown",
   "metadata": {},
   "source": [
    "Une fonction qui fait partie d'une classe est une méthode. Tout ce que vous avez appris sur les fonctions s'applique également aux méthodes, la seule différence pratique pour l'instant est la manière dont nous appellerons les méthodes. La méthode *\\_\\_init\\_\\_()* est une méthode spéciale que Python exécute automatiquement lorsque nous créons une nouvelle instance basée sur la classe *Dog*. Cette méthode possède deux traits de soulignement en tête et deux en queue, une convention qui permet d'éviter que les noms de méthodes par défaut de Python n'entrent en conflit avec vos noms de méthodes.\n",
    "\n",
    "Nous définissons la méthode *\\_\\_init\\_\\_()* comme ayant trois paramètres : *self*, *a_name* et *age*. Le paramètre *self* est obligatoire dans la définition de la méthode, et il doit être placé avant les autres paramètres. Il doit être inclus dans la définition car lorsque Python appelle cette méthode ultérieurement (pour créer une instance de *Dog*), l'appel de la méthode passe automatiquement l'argument *self*. Chaque appel de méthode associé à une instance passe automatiquement *self*, qui est une référence à l'instance elle-même.\n",
    "\n",
    "Toute variable préfixée par *self* est disponible pour chaque méthode de la classe, et nous serons également capables d'accéder à ces variables à travers toute instance créée à partir de la classe. La ligne *self.name = a_name* prend la valeur associée au nom du paramètre *a_name* et l'assigne à la variable *name*, qui est ensuite attachée à l'instance en cours de création. Le même processus se produit avec *self.age = age*. Les variables qui sont accessibles à travers des instances comme celle-ci sont appelées attributs.\n",
    "\n",
    "Considérez une classe comme un ensemble d'instructions sur comment créer une instance. La classe *Dog* est un ensemble d'instructions qui indique à Python comment créer des instances individuelles représentant des chiens spécifiques, et vous pouvez créer autant d'instances que vous le souhaitez à partir d'une classe."
   ]
  },
  {
   "cell_type": "code",
   "execution_count": 10,
   "metadata": {},
   "outputs": [
    {
     "name": "stdout",
     "output_type": "stream",
     "text": [
      "My dog's name is Willie\n",
      "My dog is 6 years old.\n"
     ]
    }
   ],
   "source": [
    "my_dog = Dog('Willie', 6)\n",
    "print(f\"My dog's name is {my_dog.name}\")\n",
    "print(f\"My dog is {my_dog.age} years old.\")"
   ]
  },
  {
   "cell_type": "markdown",
   "metadata": {},
   "source": [
    "Lorsque Python lit la première ligne, il appelle la méthode *\\_\\_init\\_\\_()* dans *Dog* avec les arguments 'Willie' et 6. La méthode *\\_\\_init\\_\\_()* crée une instance représentant ce chien particulier et définit les attributs *name* et *age* à l'aide des valeurs que nous avons fournies. Python renvoie ensuite une instance représentant ce chien. Nous affectons cette instance à la variable my_dog.\n",
    "\n",
    "Pour accéder aux attributs d'une instance, vous utilisez la notation par points comme nous l'avons fait à la deuxième ligne. Nous pouvons également utiliser la notation par points pour appeler toute méthode définie dans *Dog*."
   ]
  },
  {
   "cell_type": "code",
   "execution_count": 11,
   "metadata": {},
   "outputs": [
    {
     "name": "stdout",
     "output_type": "stream",
     "text": [
      "Willie is now sitting.\n",
      "Willie rolled over!\n"
     ]
    }
   ],
   "source": [
    "my_dog.sit()\n",
    "my_dog.roll_over()"
   ]
  },
  {
   "cell_type": "markdown",
   "metadata": {},
   "source": [
    "#### Définition d'une valeur par défaut pour un attribut\n",
    "Écrivons une nouvelle classe représentant une voiture. Notre classe stockera des informations sur le type de voiture avec lequel nous travaillons."
   ]
  },
  {
   "cell_type": "code",
   "execution_count": 33,
   "metadata": {},
   "outputs": [
    {
     "name": "stdout",
     "output_type": "stream",
     "text": [
      "2019 Audi A4\n",
      "This car has 0 kilometers on it.\n"
     ]
    }
   ],
   "source": [
    "class Car:\n",
    "    def __init__(self, make, model, year):\n",
    "        self.make = make\n",
    "        self.model = model\n",
    "        self.year = year\n",
    "        self.odometer_reading = 0\n",
    "\n",
    "    def get_descriptive_name(self):\n",
    "        long_name = f\"{self.year} {self.make} {self.model}\"\n",
    "        return long_name.title()\n",
    "    \n",
    "    def read_odometer(self):\n",
    "        print(f\"This car has {self.odometer_reading} kilometers on it.\")\n",
    "\n",
    "my_new_car = Car('audi', 'a4', 2019)\n",
    "print(my_new_car.get_descriptive_name())\n",
    "my_new_car.read_odometer()\n"
   ]
  },
  {
   "cell_type": "markdown",
   "metadata": {},
   "source": [
    "Lorsqu'une instance est créée, des attributs peuvent être définis sans être passés en paramètre. Ces attributs peuvent être définis dans la méthode *\\_\\_init\\_\\_()*, où une valeur par défaut leur est attribuée, comme c'est le cas pour l'attribut *odometer_reading*.\n",
    "\n",
    "#### Modification de la valeur des attributs\n",
    "Vous pouvez modifier la valeur d'un attribut de deux façons : vous pouvez modifier la valeur directement à travers une instance ou définir la valeur à travers une méthode."
   ]
  },
  {
   "cell_type": "code",
   "execution_count": 34,
   "metadata": {},
   "outputs": [
    {
     "name": "stdout",
     "output_type": "stream",
     "text": [
      "This car has 23 kilometers on it.\n"
     ]
    }
   ],
   "source": [
    "my_new_car.odometer_reading = 23\n",
    "my_new_car.read_odometer()"
   ]
  },
  {
   "cell_type": "code",
   "execution_count": 35,
   "metadata": {},
   "outputs": [
    {
     "name": "stdout",
     "output_type": "stream",
     "text": [
      "This car has 23 kilometer on it.\n"
     ]
    }
   ],
   "source": [
    "class Car:\n",
    "    def __init__(self, make, model, year):\n",
    "        self.make = make\n",
    "        self.model = model\n",
    "        self.year = year\n",
    "        self.odometer_reading = 0\n",
    "\n",
    "    def get_descriptive_name(self):\n",
    "        long_name = f\"{self.year} {self.make} {self.model}\"\n",
    "        return long_name.title()\n",
    "\n",
    "    def read_odometer(self):\n",
    "        print(f\"This car has {self.odometer_reading} kilometer on it.\")\n",
    "\n",
    "\n",
    "    def update_odometer(self, kilometer):\n",
    "        self.odometer_reading = kilometer\n",
    "        \n",
    "my_new_car = Car('audi', 'a4', 2019)\n",
    "my_new_car.update_odometer(23)\n",
    "my_new_car.read_odometer()\n"
   ]
  },
  {
   "cell_type": "markdown",
   "metadata": {},
   "source": [
    "### L'héritage (inheritance)\n",
    "Il n'est pas toujours nécessaire de partir de zéro pour écrire une classe. Si la classe que vous écrivez est une version spécialisée d'une autre classe que vous avez créée, vous pouvez utiliser l'héritage. Lorsqu'une classe hérite d'une autre, elle reprend les attributs et les méthodes de la première classe. La classe d'origine est appelée classe mère, et la nouvelle classe est la classe fille. La classe fille peut hériter d'une partie ou de la totalité des attributs et des méthodes de sa classe parent, mais elle est également libre de définir ses propres attributs et méthodes.\n",
    "\n",
    "Lorsque vous écrivez une nouvelle classe basée sur une classe existante, vous voudrez souvent appeler la méthode *\\_\\_init\\_\\_()* de la classe mère. Cela permet d'initialiser tous les attributs définis dans la méthode *\\_\\_init\\_\\_()* parent et de les rendre disponibles dans la classe fille. À titre d'exemple, modélisons une voiture électrique. Une voiture électrique n'est qu'un type spécifique de voiture, nous pouvons donc baser notre nouvelle classe *ElectricCar* sur la classe *Car* que nous avons créée précédemment. Nous n'aurons alors à écrire du code que pour les attributs et le comportement spécifiques aux voitures électriques."
   ]
  },
  {
   "cell_type": "code",
   "execution_count": 36,
   "metadata": {},
   "outputs": [
    {
     "name": "stdout",
     "output_type": "stream",
     "text": [
      "2019 Tesla Model S\n",
      "This car has a 75-kWh battery.\n"
     ]
    }
   ],
   "source": [
    "class ElectricCar(Car):\n",
    "\n",
    "    def __init__(self, make, model, year, battery_size):\n",
    "        super().__init__(make, model, year)\n",
    "        self.battery_size = battery_size\n",
    "    \n",
    "    def describe_battery(self):\n",
    "        print(f\"This car has a {self.battery_size}-kWh battery.\")\n",
    "\n",
    "my_tesla = ElectricCar('tesla', 'model s', 2019, 75)\n",
    "print(my_tesla.get_descriptive_name())\n",
    "my_tesla.describe_battery()"
   ]
  },
  {
   "cell_type": "markdown",
   "metadata": {},
   "source": [
    "Lorsque vous créez une classe fille, la classe mère doit faire partie du fichier actuel et doit apparaître avant la classe fille dans le fichier.\n",
    "\n",
    "La fonction *super()* est une fonction spéciale qui vous permet d'appeler une méthode de la classe mère. Nous avons demandé à Python d'appeler la méthode *\\_\\_init\\_\\_()* de *Car*, ce qui donne à une instance de *ElectricCar* tous les attributs définis dans cette méthode. Le nom *super* provient d'une convention qui consiste à appeler la classe mère une *superclass* et la classe fille une *subclass*.\n",
    "\n",
    "Une fois que vous avez une classe fille qui hérite d'une classe mère, vous pouvez ajouter tous les nouveaux attributs et méthodes nécessaires pour différencier la classe fille de la classe mère.\n",
    "\n",
    "#### Surcharge des méthodes de la classe mère\n",
    "Vous pouvez surcharger n'importe quelle méthode de la classe mère, qui ne correspond pas à ce que ce que vous essayez de modéliser avec la classe fille. Pour ce faire, vous définissez une méthode dans la classe fille avec le même nom que la méthode que vous souhaitez remplacer dans la classe mère. Python ne tiendra pas compte de la méthode de la classe mère et ne prêtera attention qu'à la méthode définie dans la classe enfant. Supposons que la classe *Car* possède une méthode appelée *fill_gas_tank()*. Cette méthode n'a pas de sens pour un véhicule entièrement électrique, vous pouvez donc surcharger cette méthode"
   ]
  },
  {
   "cell_type": "code",
   "execution_count": null,
   "metadata": {},
   "outputs": [],
   "source": [
    "class ElectricCar(Car):\n",
    "    def __init__(self, make, model, year, battery_size):\n",
    "        super().__init__(make, model, year)\n",
    "        self.battery_size = battery_size\n",
    "\n",
    "    def describe_battery(self):\n",
    "        print(\n",
    "            f\"This car has a {self.battery_size}-kWh battery.\")\n",
    "\n",
    "    def fill_gas_tank(self):\n",
    "        print(\"This car doesn't need a gas tank!\")\n",
    "\n",
    "\n",
    "my_tesla = ElectricCar('tesla', 'model s', 2019, 75)\n",
    "print(my_tesla.get_descriptive_name())\n",
    "my_tesla.describe_battery()\n"
   ]
  },
  {
   "cell_type": "markdown",
   "metadata": {},
   "source": [
    "### Exercices\n",
    "1. Dans cet exercice, vous allez définir une classe, *Scoop*, qui représente une seule boule de crème glacée. Chaque boule doit avoir un seul attribut, *flavor*, une chaîne de caractère que vous pouvez initialiser lorsque vous créez l'instance de *Scoop*. Une fois votre classe créée, écrivez une fonction *create_scoops* qui crée instances de la classe *Scoop* à l'aide d'une liste passée en paramètre, chacune ayant un goût différent. Placez ces instances dans une liste appelée *scoops* puis retournez la liste. Enfin, appelez la fonction *create_scoops* et itérez sur la liste retournée, en imprimant le goût de chaque boule de glace que vous avez créée."
   ]
  },
  {
   "cell_type": "code",
   "execution_count": 1,
   "metadata": {},
   "outputs": [
    {
     "name": "stdout",
     "output_type": "stream",
     "text": [
      "chocolate\n",
      "vanilla\n",
      "strawberry\n"
     ]
    }
   ],
   "source": [
    "class Scoop:\n",
    "    def __init__(self, flavor):\n",
    "        self.flavor = flavor\n",
    "\n",
    "def create_scoops(flavors):\n",
    "    scoops = []\n",
    "    for flavor in flavors:\n",
    "        scoop  = Scoop(flavor)\n",
    "        scoops.append(scoop)\n",
    "    return scoops\n",
    "\n",
    "flavors = ['chocolate', 'vanilla', 'strawberry']\n",
    "scoops = create_scoops(flavors)\n",
    "\n",
    "for scoop in scoops:\n",
    "    print(scoop.flavor)"
   ]
  },
  {
   "cell_type": "code",
   "execution_count": 4,
   "metadata": {},
   "outputs": [
    {
     "name": "stdout",
     "output_type": "stream",
     "text": [
      "chocolate\n",
      "vanilla\n",
      "strawberry\n"
     ]
    }
   ],
   "source": [
    "class Scoop:\n",
    "    def __init__(self, flavor):\n",
    "        self.flavor = flavor\n",
    "\n",
    "def create_scoops(flavors):\n",
    "    return [Scoop(flavor) for flavor in flavors]\n",
    "\n",
    "flavors = ['chocolate', 'vanilla', 'strawberry']\n",
    "scoops = create_scoops(flavors)\n",
    "\n",
    "for scoop in scoops:\n",
    "    print(scoop.flavor)\n"
   ]
  },
  {
   "cell_type": "markdown",
   "metadata": {},
   "source": [
    "2. Dans l'exercice précédent, nous avons créé une classe *Scoop* qui représente une boule de glace. Cependant, si nous voulons vraiment modéliser le monde réel, nous devons disposer d'un autre objet dans lequel nous pouvons placer les boules de glace. Créez une classe *Bowl*, représentant un bol dans lequel nous pouvons mettre notre crème glacée. Par exemple:\n",
    "\n",
    "```python\n",
    "    s1 = Scoop('chocolate')\n",
    "    s2 = Scoop('vanilla')\n",
    "    s3 = Scoop('strawberry')\n",
    "    b = Bowl()\n",
    "    b.add_scoops(s1, s2)\n",
    "    b.add_scoops(s3)\n",
    "    print(b)\n",
    "```\n",
    "\n",
    "Notez qu'il devrait être possible d'ajouter un nombre quelconque de boules au bol en utilisant *Bowl.add_scoops*. Pour imprimer les goûts des boules, nous appelons simplement *print(b)*. Cela a pour effet d'appeler la méthode \\_\\_repr\\_\\_ sur notre objet, en supposant qu'elle soit définie."
   ]
  },
  {
   "cell_type": "code",
   "execution_count": 8,
   "metadata": {},
   "outputs": [
    {
     "name": "stdout",
     "output_type": "stream",
     "text": [
      "chocolate-vanilla-strawberry\n"
     ]
    }
   ],
   "source": [
    "class Bowl:\n",
    "    def __init__(self):\n",
    "        self.scoops = []\n",
    "    def add_scoops(self, *scoops):\n",
    "        for scoop in scoops:\n",
    "            self.scoops.append(scoop)\n",
    "    def __repr__(self):\n",
    "        s = \"\"\n",
    "        for scoop in self.scoops:\n",
    "            s += scoop.flavor + '-'\n",
    "        return s[:-1]\n",
    "\n",
    "s1 = Scoop('chocolate')\n",
    "s2 = Scoop('vanilla')\n",
    "s3 = Scoop('strawberry')\n",
    "b = Bowl()\n",
    "b.add_scoops(s1, s2)\n",
    "b.add_scoops(s3)\n",
    "print(b)"
   ]
  },
  {
   "cell_type": "code",
   "execution_count": 7,
   "metadata": {},
   "outputs": [
    {
     "name": "stdout",
     "output_type": "stream",
     "text": [
      "chocolate-vanilla-strawberry\n"
     ]
    }
   ],
   "source": [
    "class Bowl:\n",
    "    def __init__(self):\n",
    "        self.scoops = []\n",
    "    def add_scoops(self, *scoops):\n",
    "        self.scoops.extend(scoops)\n",
    "    def __repr__(self):\n",
    "        return \"-\".join([scoop.flavor for scoop in self.scoops])\n",
    "\n",
    "s1 = Scoop('chocolate')\n",
    "s2 = Scoop('vanilla')\n",
    "s3 = Scoop('strawberry')\n",
    "b = Bowl()\n",
    "b.add_scoops(s1, s2)\n",
    "b.add_scoops(s3)\n",
    "print(b)"
   ]
  },
  {
   "cell_type": "markdown",
   "metadata": {},
   "source": [
    "Essayez de limiter à trois le nombre de boules dans un bol. En d'autres termes, vous pouvez ajouter autant de boules que vous le souhaitez dans chaque appel à *Bowl.add_scoops*, et vous pouvez appeler cette méthode autant de fois que vous le souhaitez, mais seules les trois premières boules seront réellement ajoutées. Toutes les autres boules seront ignorées."
   ]
  },
  {
   "cell_type": "code",
   "execution_count": 13,
   "metadata": {},
   "outputs": [
    {
     "name": "stdout",
     "output_type": "stream",
     "text": [
      "chocolate-vanilla-strawberry\n"
     ]
    }
   ],
   "source": [
    "class Bowl:\n",
    "    max_scoops = 3\n",
    "    def __init__(self):\n",
    "        self.scoops = []\n",
    "    def add_scoops(self, *scoops):\n",
    "        for scoop in scoops:\n",
    "            if len(self.scoops) >=3:\n",
    "                break\n",
    "            self.scoops.append(scoop)\n",
    "    def __repr__(self):\n",
    "        return \"-\".join([scoop.flavor for scoop in self.scoops])\n",
    "\n",
    "s1 = Scoop('chocolate')\n",
    "s2 = Scoop('vanilla')\n",
    "s3 = Scoop('strawberry')\n",
    "s4 = Scoop('blueberry')\n",
    "b = Bowl()\n",
    "b.add_scoops(s1, s2)\n",
    "b.add_scoops(s3)\n",
    "b.add_scoops(s1, s4)\n",
    "print(b)\n"
   ]
  },
  {
   "cell_type": "markdown",
   "metadata": {},
   "source": [
    "## Exercises\n",
    "### Récupérer et calculer"
   ]
  },
  {
   "cell_type": "markdown",
   "metadata": {},
   "source": [
    "\n",
    "1. Écrivez un programme qui demande à l'utilisateur d'entrer la largeur et la longueur d'une chambre. Une fois ces valeurs lues, votre programme doit calculer et afficher la surface de cette chambre. La longueur et la largeur seront saisies sous forme de nombres à virgule flottante. Incluez les unités dans votre message de demande et de sortie."
   ]
  },
  {
   "cell_type": "code",
   "execution_count": null,
   "metadata": {},
   "outputs": [],
   "source": [
    "largeur = float(input(\"largeur: \"))\n",
    "longueur = float(input(\"longueur: \"))\n",
    "\n",
    "surface = largeur * longueur\n",
    "\n",
    "print(f\"la surface de la chambre {largeur}x{longueur} est {surface} m²\")\n"
   ]
  },
  {
   "cell_type": "markdown",
   "metadata": {},
   "source": [
    "\n",
    "2. Dans de nombreuses provinces à l'étranger, une petite consigne est ajoutée aux contenants de boissons pour encourager les gens à les recycler. Dans une province, les contenants de boissons d'un litre ou moins sont soumis à une consigne de 0,10\\$ et les contenants de boissons de plus d'un litre sont soumis à une consigne de 0,25\\$. Écrivez un programme qui lit le nombre de contenants de chaque taille auprès de l'utilisateur. Votre programme doit ensuite calculer et afficher le remboursement qui sera reçu pour le retour de ces récipients. Formatez la sortie de manière à ce qu'elle affiche deux chiffres à droite de la virgule décimale.\n"
   ]
  },
  {
   "cell_type": "code",
   "execution_count": null,
   "metadata": {},
   "outputs": [],
   "source": [
    "nb_moins_l = float(input(\"nb_moins_l: \"))\n",
    "nb_plus_l = float(input(\"nb_plus_l: \"))\n",
    "\n",
    "total = nb_moins_l * 0.1 + nb_plus_l * 0.25\n",
    "\n",
    "print(f\"la somme total est {total:.2f}$\")\n"
   ]
  },
  {
   "cell_type": "markdown",
   "metadata": {},
   "source": [
    "### Conditions"
   ]
  },
  {
   "cell_type": "markdown",
   "metadata": {},
   "source": [
    "\n",
    "3. Un triangle peut être classé en fonction de la longueur de ses côtés : équilatéral, isocèle ou scalène. Les trois côtés d'un triangle équilatéral ont la même longueur. Un triangle isocèle a deux côtés qui ont la même longueur et un troisième qui a une longueur différente. Si tous les côtés ont des longueurs différentes, le triangle est scalène. Écrivez un programme qui lit les longueurs des trois côtés d'un triangle à partir de l'utilisateur. Affichez ensuite un message indiquant le type du triangle.\n"
   ]
  },
  {
   "cell_type": "code",
   "execution_count": null,
   "metadata": {},
   "outputs": [],
   "source": [
    "cote_1 = input(\"Entrez cote 1\")\n",
    "cote_2 = input(\"Entrez cote 2\")\n",
    "cote_3 = input(\"Entrez cote 3\")\n",
    "\n",
    "if cote_1 == cote_2 == cote_3:\n",
    "    print(\"Triangle equilateral\")\n",
    "elif cote_1 == cote_2 or cote_1 == cote_3 or cote_2 == cote_3:\n",
    "    print(\"Triangle isocele\")\n",
    "else:\n",
    "    print(\"Triangle scalene\")"
   ]
  },
  {
   "cell_type": "markdown",
   "metadata": {},
   "source": [
    "### Boucles"
   ]
  },
  {
   "cell_type": "markdown",
   "metadata": {},
   "source": [
    "4. Dans cet exercice, vous allez créer un programme qui calcule la moyenne d'une collection de valeurs entrées par l'utilisateur. L'utilisateur entrera 0 comme valeur limite pour indiquer qu'aucune autre valeur ne sera fournie. Votre programme doit afficher un message d'erreur approprié si la première valeur saisie par l'utilisateur est 0.\n"
   ]
  },
  {
   "cell_type": "code",
   "execution_count": null,
   "metadata": {},
   "outputs": [],
   "source": [
    "m = 0\n",
    "n = 0\n",
    "x = int(input(\"Entrez une valeur\"))\n",
    "if x == 0:\n",
    "    print(\"Vous ne devez pas entrer 0 au debut\")\n",
    "else:\n",
    "    while x != 0:\n",
    "        m += x\n",
    "        n += 1\n",
    "        x = int(input(\"Entrez une valeur\"))\n",
    "    print(f\"la moyenne est {m/n}\")"
   ]
  },
  {
   "cell_type": "code",
   "execution_count": null,
   "metadata": {},
   "outputs": [],
   "source": [
    "m = n = 0\n",
    "while True:\n",
    "    x = int(input(\"Entrez une valeur\"))\n",
    "    if x == 0:\n",
    "        if n == 0:\n",
    "            print(\"Vous ne devez pas entrer 0 au debut\")\n",
    "        else:\n",
    "            print(f\"la moyenne est {m/n}\")\n",
    "        break\n",
    "    m += x\n",
    "    n += 1"
   ]
  },
  {
   "cell_type": "markdown",
   "metadata": {},
   "source": [
    "5. Écrivez un programme qui affiche une table de conversion des températures en degrés Celsius et en degrés Fahrenheit. Le tableau doit inclure des lignes pour toutes les températures comprises entre 0 et 100 degrés Celsius qui sont des multiples de 10 degrés Celsius. Ajoutez les titres appropriés à vos colonnes. La formule de conversion entre les degrés Celsius et les degrés Fahrenheit peut être trouvée sur Internet.\n"
   ]
  },
  {
   "cell_type": "markdown",
   "metadata": {},
   "source": [
    "\n",
    "6. L'un des premiers exemples connus de cryptage a été utilisé par Jules César. César devait fournir des instructions écrites à ses généraux, mais il ne voulait pas que ses ennemis apprennent ses plans si le message tombait entre leurs mains. Il a donc développé ce que l'on a appelé plus tard le chiffre de César.\n",
    "\n",
    "    Le principe de ce chiffrement est simple (et en tant que tel, il n'offre aucune protection contre les techniques modernes de décryptage). Chaque lettre du message original est décalée de 3 places. Par conséquent, A devient D, B devient E, C devient F, D devient G, etc.\n",
    "\n",
    "    Les trois dernières lettres de l'alphabet sont ramenées au début : X devient A, Y devient B et Z devient C. Les caractères non alphabétiques ne sont pas modifiés par le chiffrement.\n",
    "\n",
    "    Écrivez un programme qui met en œuvre un chiffrement de type César. Permettez à l'utilisateur de fournir le message et la quantité de décalage, puis affichez le message décalé. Assurez-vous que votre programme code les lettres majuscules et minuscules. Votre programme doit également prendre en charge les valeurs de décalage négatives afin qu'il puisse être utilisé à la fois pour coder et décoder des messages.\n"
   ]
  },
  {
   "cell_type": "code",
   "execution_count": null,
   "metadata": {},
   "outputs": [],
   "source": [
    "# Solution\n",
    "import string; print(input(\"Entrez un message: \").translate(str.maketrans(string.ascii_letters,\n",
    "(lambda rot:string.ascii_lowercase[rot:]+string.ascii_lowercase[:rot]+\n",
    "string.ascii_uppercase[rot:]+string.ascii_uppercase[:rot])(int(input(\"Rotations: \"))))))"
   ]
  },
  {
   "cell_type": "code",
   "execution_count": null,
   "metadata": {},
   "outputs": [],
   "source": [
    "(lambda rot: print(\"\".join([(lambda a: chr((ord(l)+rot - ord(a)) % 26 + ord(a)))((lambda: 'a' if l.islower()\n",
    "                                                                                  else 'A')()) if l.isalpha() else l for l in input(\"Entrez un message: \")])))(int(input(\"Rotations: \")))\n"
   ]
  },
  {
   "cell_type": "markdown",
   "metadata": {},
   "source": [
    "\n",
    "7. Écrivez un programme qui convertit un nombre binaire (base 2) en décimal (base 10). Votre programme doit commencer par lire le nombre binaire de l'utilisateur sous forme de chaîne de caractères. Il doit ensuite calculer le nombre décimal équivalent en traitant chaque chiffre du nombre binaire. Enfin, votre programme doit afficher le nombre décimal équivalent avec un message approprié.\n"
   ]
  },
  {
   "cell_type": "markdown",
   "metadata": {},
   "source": [
    "\n",
    "8. Écrivez un programme qui convertit un nombre décimal (base 10) en binaire (base 2). Lisez le nombre décimal de l'utilisateur sous la forme d'un nombre entier, puis utilisez l'algorithme de division illustré ci-dessous pour effectuer la conversion. Lorsque l'algorithme est terminé, le résultat contient la représentation binaire du nombre. Affichez le résultat, accompagné d'un message approprié.\n",
    "\n",
    "    ```\n",
    "    Soit le résultat une chaîne de caractères vide\n",
    "    Soit q représentant le nombre à convertir\n",
    "    Répétez:\n",
    "        Fixer r égal au reste lorsque q est divisé par 2\n",
    "        Convertissez r en une chaîne de caractères et ajoutez-la au début du résultat.\n",
    "        Divisez q par 2, en éliminant le reste, et enregistrez le résultat dans q\n",
    "    jusqu'à ce que q soit égal à 0\n",
    "    ```"
   ]
  },
  {
   "cell_type": "code",
   "execution_count": null,
   "metadata": {},
   "outputs": [],
   "source": [
    "# Binary <-> decimal exercises solution by Yahya-rabii\n",
    "def bin_to_dec():\n",
    "    print(\"you're now in [bin -> dec] function\")\n",
    "    print(\"print help to get it \\n\")\n",
    "\n",
    "    while True:\n",
    "        binary = input(\"> \")\n",
    "        decimal = 0\n",
    "        if binary.lower() == \"quit\":\n",
    "            break\n",
    "        elif binary.lower() == \"help\":\n",
    "            print(\"enter a binary value \")\n",
    "            print(\"enter quit to exit\")\n",
    "            print(\"enter help to see this guidances again \\n\")\n",
    "\n",
    "        else:\n",
    "            for i in range(1, len(binary) + 1):\n",
    "                if binary[-i] != \"1\" and binary[-i] != \"0\":\n",
    "                    print(f\"bin = {binary} is not in the (/2) form\")\n",
    "                    print(\"try again\\n\")\n",
    "                    break\n",
    "                decimal = decimal + int(binary[-i]) * (2 ** (i-1))\n",
    "            print(\"\\t\")\n",
    "            print(f\"| bin = {binary} (/2) | -> | dec = {decimal} (/10)\\n\")\n",
    "\n",
    "\n",
    "def dec_to_bin():\n",
    "    list_num = [\"1\", \"2\", \"3\", \"4\", \"5\", \"6\", \"7\", \"8\", \"9\", \"0\"]\n",
    "\n",
    "    print(\"you're now in [dec -> bin] function\")\n",
    "    print(\"print help to get it \\n\")\n",
    "    while True:\n",
    "        decimal = input(\"> \")\n",
    "        if decimal.lower() == \"quit\":\n",
    "            break\n",
    "        elif decimal.lower() == \"help\":\n",
    "            print(\"enter a decimal value \")\n",
    "            print(\"enter quit to exit\")\n",
    "            print(\"enter help to see this guidances again \\n\")\n",
    "\n",
    "        else:\n",
    "            binary = \"\"\n",
    "            is_decimal = True\n",
    "            for i in decimal:\n",
    "                if i not in list_num:\n",
    "                    is_decimal = False\n",
    "                    break\n",
    "\n",
    "            if not is_decimal:\n",
    "                print(f\"dec = {decimal} is not in the right form\")\n",
    "                print(\"try again\\n\")\n",
    "                break\n",
    "\n",
    "            dec = int(decimal)\n",
    "            if dec == 0:\n",
    "                binary = \"0\"\n",
    "\n",
    "            while dec > 0:\n",
    "                binary = str(dec % 2) + binary\n",
    "                dec = dec // 2\n",
    "\n",
    "            print(\"\\t\")\n",
    "            print(f\"| dec = {decimal} (/10) | -> | bin = {binary} (/2)\\n\")\n",
    "\n",
    "\n",
    "say_welcom = True\n",
    "while True:\n",
    "    if say_welcom:\n",
    "        print(\"welcom to bin -> dec // dec -> bin convertor\")\n",
    "        print(\"print help to get it \\n\")\n",
    "        say_welcom = False\n",
    "    choice = input(\"> \")\n",
    "\n",
    "    if choice.lower() == \"quit\":\n",
    "        break\n",
    "\n",
    "    elif choice.lower() == \"help\":\n",
    "        print(\"enter 1 to convert bin -> dec\")\n",
    "        print(\"enter 2 to convert dec -> bin\")\n",
    "        print(\"enter quit to leave the programme \\n\")\n",
    "\n",
    "    elif choice == \"1\":\n",
    "        bin_to_dec()\n",
    "        say_welcom = True\n",
    "\n",
    "    elif choice == \"2\":\n",
    "        dec_to_bin()\n",
    "        say_welcom = True\n",
    "\n",
    "    else:\n",
    "        print(\"invalid value\")\n"
   ]
  },
  {
   "cell_type": "markdown",
   "metadata": {},
   "source": [
    "### Listes\n",
    "9. Dans cet exercice, vous allez créer un programme qui lit les mots de l'utilisateur jusqu'à ce que ce dernier entre un mot vide. Après, votre programme doit afficher chaque mot saisi par l'utilisateur exactement une fois. Les mots doivent être affichés dans l'ordre dans lequel ils ont été saisis. Par exemple, si l'utilisateur saisit :\n",
    "\n",
    "    ```raw\n",
    "    un\n",
    "    deux\n",
    "    un\n",
    "    trois\n",
    "    deux\n",
    "    ```\n",
    "\n",
    "    alors votre programme devrait s'afficher :\n",
    "    ```raw\n",
    "    un\n",
    "    deux\n",
    "    trois\n",
    "    ```"
   ]
  },
  {
   "cell_type": "code",
   "execution_count": null,
   "metadata": {},
   "outputs": [],
   "source": [
    "liste_mots = []\n",
    "liste_mots_non_repetes = []\n",
    "mot = input(\"Entrez un mot\")\n",
    "\n",
    "while mot != \"\":\n",
    "    liste_mots.append(mot)\n",
    "    mot = input(\"Entrez un mot\")\n",
    "\n",
    "for mot_indice in range(len(liste_mots)):\n",
    "    if liste_mots[mot_indice] not in liste_mots[:mot_indice]:\n",
    "        liste_mots_non_repetes.append(liste_mots[mot_indice])\n",
    "\n",
    "for mot in liste_mots_non_repetes:\n",
    "    print(mot)\n"
   ]
  },
  {
   "cell_type": "code",
   "execution_count": null,
   "metadata": {},
   "outputs": [],
   "source": [
    "liste_mots = []\n",
    "\n",
    "while True:\n",
    "    mot = input(\"Entrez un mot\")\n",
    "    if mot == \"\":\n",
    "        break\n",
    "    if mot in liste_mots:\n",
    "        continue\n",
    "    liste_mots.append(mot)\n",
    "\n",
    "for mot in liste_mots:\n",
    "    print(mot)"
   ]
  },
  {
   "cell_type": "markdown",
   "metadata": {},
   "source": [
    "10. Créez un programme qui lit les nombres entiers de l'utilisateur jusqu'à ce qu'un mot vide soit saisie. Une fois que tous les nombres entiers ont été lus, votre programme doit afficher tous les nombres négatifs, suivis de tous les zéros, puis de tous les nombres positifs. Dans chaque groupe, les nombres doivent être affichés dans l'ordre où ils ont été saisis par l'utilisateur. Par exemple, si l'utilisateur entre les valeurs 3, -4, 1, 0, -1, 0 et -2, votre programme doit afficher les valeurs -4, -1, -2, 0, 0, 3 et 1. Votre programme doit afficher chaque valeur sur sa propre ligne."
   ]
  },
  {
   "cell_type": "code",
   "execution_count": 27,
   "metadata": {},
   "outputs": [],
   "source": [
    "liste_pos = []\n",
    "liste_zer = []\n",
    "liste_neg = []\n",
    "liste_nombres_ord = []\n",
    "val = input(\"Entrez une valeur\")\n",
    "\n",
    "while val != \"\":\n",
    "    val = int(val)\n",
    "    if val > 0 :\n",
    "        liste_pos.append(val)\n",
    "    elif val < 0 :\n",
    "        liste_neg.append(val)\n",
    "    else:\n",
    "        liste_zer.append(val)\n",
    "    val = input(\"Entrez une val\")\n",
    "\n",
    "liste_nombres_ord.extend(liste_neg)\n",
    "liste_nombres_ord.extend(liste_zer)\n",
    "liste_nombres_ord.extend(liste_pos)\n",
    "\n",
    "for val in liste_nombres_ord:\n",
    "    print(val)"
   ]
  },
  {
   "cell_type": "code",
   "execution_count": null,
   "metadata": {},
   "outputs": [],
   "source": [
    "liste_nombres_ord = []\n",
    "neg_index = 0\n",
    "\n",
    "while True:\n",
    "    val = input(\"Entrez une val\")\n",
    "    if val == \"\":\n",
    "        break\n",
    "    val = int(val)\n",
    "    if val > 0:\n",
    "        liste_nombres_ord.append(val)\n",
    "    elif val < 0:\n",
    "        liste_nombres_ord.insert(neg_index, val)\n",
    "        neg_index += 1\n",
    "    else:\n",
    "        liste_nombres_ord.insert(neg_index, val)\n",
    "\n",
    "for val in liste_nombres_ord:\n",
    "    print(val)"
   ]
  },
  {
   "cell_type": "markdown",
   "metadata": {},
   "source": [
    "11. Une sous-liste est une liste qui fait partie d'une liste plus grande. Une sous-liste peut être une liste contenant un seul élément, plusieurs éléments ou même aucun élément. Par exemple, [1], [2], [3] et [4] sont toutes des sous-listes de [1, 2, 3, 4]. La liste [2, 3] est également une sous-liste de [1, 2, 3, 4], mais [2, 4] n'est pas une sous-liste de [1, 2, 3, 4] car les éléments 2 et 4 ne sont pas adjacents dans la liste la plus longue. La liste vide est une sous-liste de toute liste. Par conséquent, [] est une sous-liste de [1, 2, 3, 4]. Une liste est une sous-liste d'elle-même, ce qui signifie que [1, 2, 3, 4] est également une sous-liste de [1, 2, 3, 4].\n",
    "\n",
    "Dans cet exercice, vous allez créer une fonction, *estSousListe*, qui détermine si une liste est ou non une sous-liste d'une autre. Votre fonction doit prendre deux listes, la plus grande (*sous_list*) et la plus petite (*super_list*), comme seuls paramètres. Elle doit retourner *True* si et seulement si *sous_list* est une sous-liste de *super_list*. Écrivez un programme qui démontre votre fonction en affichant la relation d'appartenance de plusieurs listes différentes."
   ]
  },
  {
   "cell_type": "markdown",
   "metadata": {},
   "source": [
    "12. En utilisant la définition d'une sous-liste de l'exercice précédent, écrivez une fonction qui retourne une série contenant toutes les sous-listes possibles d'une liste. Par exemple, les sous-listes de [1, 2, 3] sont [], [1], [2], [3], [1, 2], [2, 3] et [1, 2, 3]. Notez que votre fonction retournera toujours une liste contenant au moins la liste vide, car la liste vide est une sous-liste de chaque liste. Incluez un programme qui démontre votre fonction en affichant toutes les sous-listes de plusieurs listes différentes."
   ]
  },
  {
   "cell_type": "markdown",
   "metadata": {},
   "source": [
    "### Dictionnaires\n",
    "13. Écrivez une fonction nommée *inverseRelation* qui trouve toutes les clés d'un dictionnaire qui correspondent à une valeur spécifique. La fonction prendra le dictionnaire et la valeur à rechercher comme seuls paramètres. Elle renvoie une liste (probablement vide) de clés du dictionnaire qui correspondent à la valeur fournie. Incluez un programme qui démontre la fonction *inverseRelation* dans votre solution à cet exercice. Votre programme doit créer un dictionnaire et montrer que la fonction *inverseRelation* fonctionne correctement lorsqu'elle renvoie plusieurs clés, une seule clé et aucune clé."
   ]
  },
  {
   "cell_type": "markdown",
   "metadata": {},
   "source": [
    "14. Sur certains téléphones cellulaires classiques, les messages texte peuvent être envoyés à l'aide du clavier numérique. Comme chaque touche est associée à plusieurs lettres, il faut appuyer plusieurs fois sur la touche pour la plupart des lettres. Appuyer une fois sur un chiffre génère le premier caractère associé à cette touche. En appuyant 2, 3, 4 ou 5 fois sur le chiffre, on obtient le deuxième, troisième, quatrième ou cinquième caractère.\n",
    "\n",
    "    <table border=\"1\">\n",
    "    <thead>\n",
    "    <tr><th>Touche</th><th>Caractère</th></tr>\n",
    "    </thead>\n",
    "    <tbody>\n",
    "    <tr><td>1</td><td>.,?!:</td></tr>\n",
    "    <tr><td>2</td><td>ABC</td></tr>\n",
    "    <tr><td>3</td><td>DEF</td></tr>\n",
    "    <tr><td>4</td><td>GHI</td></tr>\n",
    "    <tr><td>5</td><td>JKL</td></tr>\n",
    "    <tr><td>6</td><td>MNO</td></tr>\n",
    "    <tr><td>7</td><td>PQRS</td></tr>\n",
    "    <tr><td>8</td><td>TUV</td></tr>\n",
    "    <tr><td>9</td><td>WXYZ</td></tr>\n",
    "    <tr><td>0</td><td>espace</td></tr>\n",
    "    </tbody>\n",
    "    </table>\n",
    "\n",
    "    Écrivez un programme qui affiche les pressions de touche nécessaires pour un message saisi par l'utilisateur. Construisez un dictionnaire qui associe chaque lettre ou symbole aux pressions de touche nécessaires pour le générer. Utilisez ensuite le dictionnaire pour créer et afficher les pressions nécessaires pour le message de l'utilisateur. Par exemple, si l'utilisateur saisit Hello, World !, votre programme doit afficher 4433555555666110966677755531111. Assurez-vous que votre programme traite les lettres majuscules et minuscules. Ignorez tous les caractères qui ne figurent pas dans le tableau ci-dessus, tels que les points-virgules et les parenthèses."
   ]
  },
  {
   "cell_type": "code",
   "execution_count": null,
   "metadata": {},
   "outputs": [],
   "source": [
    "# Reverse solution (from sequence of number to text) by xenedium\n",
    "DICT = {\n",
    "    \"0\" : [\" \"],\n",
    "    \"1\" : [\".\", \",\", \"?\", \"!\", \":\"],\n",
    "    \"2\" : [\"a\", \"b\", \"c\"],\n",
    "    \"3\" : [\"d\", \"e\", \"f\"],\n",
    "    \"4\" : [\"g\", \"h\", \"i\"],\n",
    "    \"5\" : [\"j\", \"k\", \"l\"],\n",
    "    \"6\" : [\"m\", \"n\", \"o\"],\n",
    "    \"7\" : [\"p\", \"q\", \"r\", \"s\"],\n",
    "    \"8\" : [\"t\", \"u\", \"v\"],\n",
    "    \"9\" : [\"w\", \"x\", \"y\", \"z\"]\n",
    "}\n",
    "str = input(\"Enter a sequence of numbers: \")\n",
    "print(\"\".join([DICT[seq[0]][len(seq) - 1] \n",
    "    if (len(seq) <= len(DICT[seq[0]])) \n",
    "    else (DICT[seq[0]][-1] * (len(seq) // len(DICT[seq[0]]))) \n",
    "    + (DICT[seq[0]][(len(seq) % len(DICT[seq[0]])) - 1] \n",
    "    if (len(seq) % len(DICT[seq[0]])) else \"\") \n",
    "    for seq in str.split(\" \")]))"
   ]
  },
  {
   "cell_type": "markdown",
   "metadata": {},
   "source": [
    "15. Le code Morse est un schéma d'encodage qui utilise des tirets et des points pour représenter les chiffres et les lettres. Dans cet exercice, vous allez écrire un programme qui utilise un dictionnaire pour stocker la correspondance entre ces symboles et le code Morse. La correspondance entre les caractères et les tirets et points est présentée dans le tableau ci-dessous.\n",
    "\n",
    "<table border=\"1\">\n",
    "<thead>\n",
    "<tr><th>Symbole</th><th>Code</th><th>Symbole</th><th>Code</th><th>Symbole</th><th>Code</th><th>Symbole</th><th>Code</th></tr>\n",
    "</thead>\n",
    "<tbody>\n",
    "<tr><td>A</td><td>.-</td><td>J</td><td>.---</td><td>S</td><td>...</td><td>1</td><td>.----</td></tr>\n",
    "<tr><td>B</td><td>-...</td><td>K</td><td>-.-</td><td>T</td><td>-</td><td>2</td><td>..---</td></tr>\n",
    "<tr><td>C</td><td>-.-.</td><td>L</td><td>.-..</td><td>U</td><td>..-</td><td>3</td><td>...--</td></tr>\n",
    "<tr><td>D</td><td>-..</td><td>M</td><td>--</td><td>V</td><td>...-</td><td>4</td><td>....-</td></tr>\n",
    "<tr><td>E</td><td>.</td><td>N</td><td>-.</td><td>W</td><td>.--</td><td>5</td><td>.....</td></tr>\n",
    "<tr><td>F</td><td>..-.</td><td>O</td><td>---</td><td>X</td><td>-..-</td><td>6</td><td>-....</td></tr>\n",
    "<tr><td>G</td><td>--.</td><td>P</td><td>.--.</td><td>Y</td><td>-.--</td><td>7</td><td>--...</td></tr>\n",
    "<tr><td>H</td><td>....</td><td>Q</td><td>--.-</td><td>Z</td><td>--..</td><td>8</td><td>---..</td></tr>\n",
    "<tr><td>I</td><td>..</td><td>R</td><td>.-.</td><td>0</td><td>-----</td><td>9</td><td>----.</td></tr>\n",
    "</tbody>\n",
    "</table>\n",
    "\n",
    "Votre programme doit lire un message de l'utilisateur. Il doit ensuite traduire toutes les lettres et tous les chiffres du message en code Morse, en laissant un espace entre chaque séquence de tirets et de points. Votre programme doit ignorer tous les caractères qui ne figurent pas dans le tableau précédent. Le code morse pour \"Hello, World !\" est présenté ci-dessous :\n",
    "\n",
    "```raw\n",
    ".... . .-.. .-.. --- .-- --- .-. .-.. -..\n",
    "```"
   ]
  },
  {
   "cell_type": "code",
   "execution_count": null,
   "metadata": {},
   "outputs": [],
   "source": [
    "MORSE_CODE_DICT = { 'A':'.-', 'B':'-...',   #Dictionaire de la table de codage morse\n",
    "                    'C':'-.-.', 'D':'-..',\n",
    "                    'E':'.', 'F':'..-.', \n",
    "                    'G':'--.', 'H':'....',\n",
    "                    'I':'..', 'J':'.---', \n",
    "                    'K':'-.-', 'L':'.-..', \n",
    "                    'M':'--', 'N':'-.',\n",
    "                    'O':'---', 'P':'.--.', \n",
    "                    'Q':'--.-', 'R':'.-.', \n",
    "                    'S':'...', 'T':'-',\n",
    "                    'U':'..-', 'V':'...-', \n",
    "                    'W':'.--', 'X':'-..-', \n",
    "                    'Y':'-.--', 'Z':'--..',\n",
    "                    '1':'.----', '2':'..---', \n",
    "                    '3':'...--', '4':'....-', \n",
    "                    '5':'.....', '6':'-....',\n",
    "                    '7':'--...', '8':'---..',\n",
    "                    '9':'----.', '0':'-----'}\n",
    "\n",
    "# Remplacer les lettres par leurs code morse dans un tableau ensuite convertir le tableau en chaine de caractères\n",
    "print(\" \".join([MORSE_CODE_DICT[char] for char in input(\"Entrez une chaine a coder: \").upper() if char in MORSE_CODE_DICT]))\n"
   ]
  }
 ],
 "metadata": {
  "anaconda-cloud": {},
  "kernelspec": {
   "display_name": "Python 3",
   "language": "python",
   "name": "python3"
  },
  "language_info": {
   "codemirror_mode": {
    "name": "ipython",
    "version": 3
   },
   "file_extension": ".py",
   "mimetype": "text/x-python",
   "name": "python",
   "nbconvert_exporter": "python",
   "pygments_lexer": "ipython3",
   "version": "3.9.2"
  }
 },
 "nbformat": 4,
 "nbformat_minor": 1
}
