{
 "cells": [
  {
   "cell_type": "markdown",
   "metadata": {},
   "source": [
    "# Introduction\n",
    "[Django](https://djangoproject.com/) est un framework web gratuit et open source écrit en langage de programmation Python.\n",
    "\n",
    "Un framework web est un ensemble d'outils modulaires qui supprime une grande partie des difficultés - et des répétitions - associées au développement web. Par exemple, la plupart des sites Web ont besoin des mêmes fonctionnalités de base : la capacité de se connecter à une base de données, de définir des routes URL, d'afficher du contenu sur une page, de gérer correctement la sécurité, etc. Plutôt que de recréer tout cela à partir de zéro, Au cours des années, les programmeurs ont créé des frameworks web dans tous les principaux langages de programmation : Django et Flask en Python, Rails en Ruby, et Express en JavaScript, parmi tant d'autres.\n",
    "\n",
    "Aujourd'hui, la plupart des développeurs se basent sur des frameworks web plutôt que d'essayer de construire un site web à partir de zéro. \n",
    "\n",
    "Django, en particulier, a été publié pour la première fois en 2005 et continue d'être amélioré depuis son lancement. Aujourd'hui, c'est l'un des frameworks web les plus populaires, utilisé par les plus grands sites web du monde comme Instagram, Pinterest, Bitbucket ..., mais aussi suffisamment flexible pour être un bon choix pour les startups en phase de démarrage et le prototypage de projets personnels.\n",
    "\n",
    "Django offre un support les tâches courantes du développement web, notamment :\n",
    "\n",
    "- Authentification des utilisateurs\n",
    "- Tests\n",
    "- Modèles de base de données, formulaires, routes URL et templates\n",
    "- Interface d'administration\n",
    "- Amélioration de la sécurité et performance\n",
    "- Prise en charge de plusieurs types de base de données\n",
    "\n",
    "Cette approche permet aux développeurs web de se concentrer sur ce qui rend une application web unique plutôt que de réinventer la roue à chaque fois pour une fonctionnalité d'application web standard et sécurisée.\n",
    "\n",
    "Par contre, plusieurs frameworks populaires, notamment Flask en Python et Express en JavaScript, adoptent une approche \"microframework\". Ils ne fournissent que le strict minimum requis pour une page Web simple et laissent le choix au développeur d'installer et de configurer des paquets tiers pour reproduire les fonctionnalités de base d'un site Web. Cette approche offre une plus grande flexibilité au développeur, mais offre également plus de possibilités d'erreurs.\n",
    "\n",
    "Django est toujours en développement et chaque année une nouvelle version sort. La communauté Django ajoute constamment de nouvelles fonctionnalités et des améliorations de sécurité. Et surtout, il est écrit en langage Python, à la fois facile à lire et puissant.\n",
    "\n",
    "# Installation\n",
    "## Créer un environnement virtuel\n",
    "Pour travailler avec Django, nous allons d'abord configurer un environnement virtuel. Un environnement virtuel est un endroit sur votre système où vous pouvez installer des paquets dans un endroit isolé pour une application particulière, au lieu de les installer globalement. Séparer les bibliothèques d'un projet d'autres projets est bénéfique et sera nécessaire lorsque nous déploierons notre application sur un serveur.\n",
    "\n",
    "Nous utiliserons [Pipenv](https://pypi.org/project/pipenv/) pour gérer les environnements virtuels. Pipenv est similaire à npm et à yarn de l'écosystème JavaScript/Node : il crée un Pipfile contenant les dépendances logicielles et un Pipfile.lock pour la gestion des environnements virtuels pour assurer des constructions déterministes. Une construction déterministe signifie que chaque fois que vous téléchargez le logiciel dans un nouveau environnement virtuel, vous aurez exactement la même configuration. Pour installer Pipenv, nous pouvons utiliser la commande suivante :"
   ]
  },
  {
   "cell_type": "markdown",
   "metadata": {},
   "source": [
    "```\n",
    "$ python -m pip install pipenv\n",
    "# ou\n",
    "$ py -m pip install pipenv\n",
    "# ou directement\n",
    "$ pip install pipenv\n",
    "```"
   ]
  },
  {
   "cell_type": "markdown",
   "metadata": {},
   "source": [
    "## Installer Django\n",
    "Créez un nouveau dossier pour votre projet appelé **hello**, passez vers ce dossier dans une invite de commande ou un terminal avec *cd*, et entrez la commande suivante pour installer Django :"
   ]
  },
  {
   "cell_type": "markdown",
   "metadata": {},
   "source": [
    "```\n",
    "$ python -m pipenv install django\n",
    "# ou\n",
    "$ py -m pipenv install django\n",
    "# ou directement\n",
    "$ pipenv install django\n",
    "```"
   ]
  },
  {
   "cell_type": "markdown",
   "metadata": {},
   "source": [
    "Si vous consultez le dossier, vous trouverez deux nouveaux fichiers : **Pipfile** et **Pipfile.lock**.\n",
    "\n",
    "```\n",
    ".\n",
    "├── Pipfile\n",
    "└── Pipfile.lock\n",
    "\n",
    "```\n",
    "\n",
    "Nous avons les informations dont nous avons besoin pour un nouveau environnement virtuel mais nous ne l'avons pas encore activé. Nous pouvons activer l'environnement virtuel en utilisant la commande suivante :"
   ]
  },
  {
   "cell_type": "markdown",
   "metadata": {},
   "source": [
    "```\n",
    "$ python -m pipenv shell\n",
    "# ou\n",
    "$ py -m pipenv shell\n",
    "# ou directement\n",
    "$ pipenv shell\n",
    "```"
   ]
  },
  {
   "cell_type": "markdown",
   "metadata": {},
   "source": [
    "Pour vérifier que Django peut être vu par Python, tapez *python* dans votre invite de commande. Puis, à l'invite de commande de Python, essayez d'importer Django :"
   ]
  },
  {
   "cell_type": "markdown",
   "metadata": {},
   "source": [
    "```\n",
    ">>> import django\n",
    ">>> print(django.get_version())\n",
    "```"
   ]
  },
  {
   "cell_type": "markdown",
   "metadata": {},
   "source": [
    "Vous pouvez également vérifier cela en utilisant la commande suivante :"
   ]
  },
  {
   "cell_type": "markdown",
   "metadata": {},
   "source": [
    "```\n",
    "$ python -m django --version\n",
    "```"
   ]
  },
  {
   "cell_type": "markdown",
   "metadata": {},
   "source": [
    "Ensuite, quittez notre environnement virtuel en utilisant la commande *exit*."
   ]
  },
  {
   "cell_type": "markdown",
   "metadata": {},
   "source": [
    "```\n",
    "$ exit\n",
    "```"
   ]
  },
  {
   "cell_type": "markdown",
   "metadata": {},
   "source": [
    "L'environnement deviendra également inactif lorsque vous fermerez l'invite de commande ou le terminal dans lequel il est exécuté. Nous pouvons toujours réactiver l'environnement virtuel à tout moment\n",
    "\n",
    "## Installer Git\n",
    "Git fournit un système de contrôle de version qui peut être considéré comme une version extrêmement puissante du suivi des modifications dans Microsoft Word ou Google Docs. Avec Git, vous pouvez collaborer avec d'autres développeurs, suivre tout votre travail via les commits, et revenir à n'importe quelle version précédente de votre code même si vous supprimez accidentellement quelque chose d'important.\n",
    "\n",
    "Sous Windows, vous devez télécharger Git à partir de [Git for Windows](https://gitforwindows.org/). Cliquez sur le bouton \"Télécharger\" et suivez les instructions d'installation.\n",
    "\n",
    "Une fois installé, nous devons procéder à configurer le système en déclarant le nom et l'adresse électronique que vous souhaitez associer à tous vos commits Git. Dans la console Git Bash, tapez les deux lignes suivantes. Assurez-vous de mettre à jour votre nom et votre adresse e-mail."
   ]
  },
  {
   "cell_type": "markdown",
   "metadata": {},
   "source": [
    "```\n",
    "~ git config --global user.name \"Votre nom\"\n",
    "~ git config --global user.email \"votrenom@email.com\"\n",
    "```"
   ]
  },
  {
   "cell_type": "markdown",
   "metadata": {},
   "source": [
    "Vous pouvez toujours modifier ces configurations ultérieurement si vous le souhaitez en retapant les mêmes commandes avec un nouveau nom ou une nouvelle adresse électronique.\n",
    "\n",
    "# Création d'une application simple avec Django\n",
    "## Créer un projet dans Django\n",
    "La première fois que nous utilisons Django, nous devons effectuer une configuration initiale. En d'autres termes, nous devons générer automatiquement du code qui définit un projet Django - un ensemble de paramètres pour une instance de Django, y compris la configuration de la base de données, les options spécifiques à Django et les paramètres spécifiques à l'application.\n",
    "\n",
    "Pour commencer, naviguez vers le dossier précédemment créé **hello** si vous êtes en dehors de celui-ci, puis activez l'environnement virtuel créé."
   ]
  },
  {
   "cell_type": "markdown",
   "metadata": {},
   "source": [
    "```\n",
    "$ python -m pipenv shell\n",
    "# ou\n",
    "$ py -m pipenv shell\n",
    "# ou directement\n",
    "$ pipenv shell\n",
    "```"
   ]
  },
  {
   "cell_type": "markdown",
   "metadata": {},
   "source": [
    "Créez un nouveau projet Django appelé **config** et assurez-vous d'inclure le point (.) à la fin de la commande."
   ]
  },
  {
   "cell_type": "markdown",
   "metadata": {},
   "source": [
    "```\n",
    "$ django-admin startproject config .\n",
    "```"
   ]
  },
  {
   "cell_type": "markdown",
   "metadata": {},
   "source": [
    "Cela créera un dossier **config** dans votre dossier actuel. Le point à la fin de la commande crée le nouveau projet avec une structure de dossier qui facilitera le déploiement de l'application sur un serveur lorsque nous aurons fini de la développer.\n",
    "\n",
    "N'oubliez pas ce point, ou vous pourriez rencontrer des problèmes de configuration lors du déploiement de l'application. Si vous oubliez ce point, supprimez les fichiers et les dossiers qui ont été créés, puis exécutez à nouveau la commande.\n",
    "\n",
    "Voyons ce que la commande *django-admin startproject* a créé :\n",
    "\n",
    "```\n",
    ".\n",
    "├── config\n",
    "│   ├── asgi.py\n",
    "│   ├── __init__.py\n",
    "│   ├── settings.py\n",
    "│   ├── urls.py\n",
    "│   └── wsgi.py\n",
    "├── manage.py\n",
    "├── Pipfile\n",
    "└── Pipfile.lock\n",
    "```"
   ]
  },
  {
   "cell_type": "markdown",
   "metadata": {},
   "source": [
    "- **manage.py** : un outil de ligne de commande qui vous permet d'interagir avec ce projet Django de diverses manières. Nous l'utiliserons avec certaines commandes pour gérer des tâches, comme le travail avec des bases de données et l'exécution de serveurs.\n",
    "\n",
    "- Le dossier interne *config/* est le paquet Python réel de votre projet. Son nom est le nom du paquet Python que vous devrez utiliser pour importer tout ce qui s'y trouve.\n",
    "\n",
    "- **config/\\_\\_init\\_\\_.py** : un fichier vide qui indique à Python que ce dossier doit être considéré comme un paquet Python.\n",
    "\n",
    "- **config/settings.py** : paramètres/configurations pour ce projet Django.\n",
    "\n",
    "- **config/urls.py** : les déclarations d'URL pour ce projet Django. Elles indiquent à Django les **pages** à construire en réponse aux requêtes du navigateur.\n",
    "\n",
    "- **config/asgi.py** : un point d'accès pour les serveurs web compatibles avec ASGI pour servir votre projet.\n",
    "\n",
    "- **config/wsgi.py** : un point d'accès pour les serveurs Web compatibles WSGI pour servir votre projet.\n",
    "\n",
    "Django est livré avec un serveur web intégré à des fins de développement local que nous pouvons maintenant démarrer avec la commande *runserver*."
   ]
  },
  {
   "cell_type": "markdown",
   "metadata": {},
   "source": [
    "```\n",
    "$ python manage.py runserver\n",
    "# ou\n",
    "$ py manage.py runserver\n",
    "```"
   ]
  },
  {
   "cell_type": "markdown",
   "metadata": {},
   "source": [
    "Le serveur de développement Django est un serveur web léger écrit purement en Python. Nous l'avons inclus avec Django pour que vous puissiez développer rapidement des choses, sans avoir à vous occuper de la configuration d'un serveur de production - tel qu'Apache - jusqu'à ce que vous soyez prêt pour la production.\n",
    "\n",
    "L'URL http://127.0.0.1:8000/ indique que le projet écoute les requêtes sur le port 8000 de votre ordinateur, que l'on appelle un *localhost*. Le terme *localhost* fait référence à un serveur qui traite uniquement les demandes sur votre système, il ne permet à personne d'autre de voir les **pages** que vous développez.\n",
    "\n",
    "Maintenant que le serveur fonctionne, visitez http://localhost:8000/ ou http://127.0.0.1:8000/ avec votre navigateur Web. Vous verrez une page \"Félicitations !\", avec une fusée qui décolle.\n",
    "\n",
    "![Page d'accueil par défaut](screenshots/django_default_homepage.png)\n",
    "\n",
    "Si vous recevez le message d'erreur *That port is already in use* (Ce port est déjà utilisé), dites à Django d'utiliser un autre port en entrant :"
   ]
  },
  {
   "cell_type": "markdown",
   "metadata": {},
   "source": [
    "```\n",
    "$ python manage.py runserver 8001\n",
    "# ou\n",
    "$ py manage.py runserver 8001\n",
    "```"
   ]
  },
  {
   "cell_type": "markdown",
   "metadata": {},
   "source": [
    "Continuez à augmenter la valeur jusqu'à ce que vous trouviez un port ouvert.\n",
    "\n",
    "Le serveur de développement recharge automatiquement le code Python pour chaque demande, selon les besoins. Vous n'avez pas besoin de redémarrer le serveur pour que les modifications du code prennent effet. Cependant, certaines actions, comme l'ajout de fichiers, ne déclenchent pas de redémarrage, vous devrez donc redémarrer le serveur dans ces cas.\n",
    "\n",
    "## Créer une application\n",
    "Django utilise le concept de projets et d'applications pour que le code reste propre et lisible. Un seul projet Django contient une ou plusieurs applications qui fonctionnent toutes ensemble pour alimenter une application Web. C'est pourquoi la commande pour un nouveau projet Django est *startproject*.\n",
    "\n",
    "Par exemple, un site de e-commerce Django peut avoir une application pour l'authentification des utilisateurs, une autre pour les paiements et une troisième pour les détails de la liste des articles, chacune se concentre sur un élément fonctionnel isolé. Il s'agit de trois applications distinctes qui vivent toutes au sein d'un projet de haut niveau.\n",
    "\n",
    "Comment et quand vous divisez les fonctionnalités en applications sont un peu subjectifs, mais en général, chaque application doit avoir une fonctionnalité claire.\n",
    "\n",
    "Créons notre première application. À partir de la ligne de commande, quittez le serveur avec *Ctrl+c*. Ensuite, utilisez la commande *startapp* suivie du nom de notre application, qui sera **pages**."
   ]
  },
  {
   "cell_type": "markdown",
   "metadata": {},
   "source": [
    "```\n",
    "$ python manage.py startapp pages\n",
    "# ou\n",
    "$ py manage.py startapp pages\n",
    "```"
   ]
  },
  {
   "cell_type": "markdown",
   "metadata": {},
   "source": [
    "vous allez constater que Django a créé un dossier **pages** avec les fichiers suivants :\n",
    "\n",
    "```\n",
    ".\n",
    "├── admin.py\n",
    "├── apps.py\n",
    "├── __init__.py\n",
    "├── migrations\n",
    "│   └── __init__.py\n",
    "├── models.py\n",
    "├── tests.py\n",
    "└── views.py\n",
    "```\n",
    "\n",
    "- **admin.py** : un fichier de configuration pour l'application intégrée administrateur de Django (Django Admin)\n",
    "- **apps.py** : un fichier de configuration pour l'application elle-même.\n",
    "- **migrations/** : garde la trace de toutes les modifications apportées à notre fichier **models.py** afin que notre base de données et **models.py** restent synchronisés.\n",
    "- **models.py** : l'endroit où nous définissons nos modèles de base de données que Django traduit automatiquement en tables de base de données.\n",
    "- **tests.py** : pour nos tests spécifiques à l'application\n",
    "- **views.py** : l'endroit où nous gérons la logique de demande/réponse pour notre application Web.\n",
    "\n",
    "Même si notre nouvelle application existe dans le projet Django, Django ne la connaît pas tant que nous ne l'avons pas explicitement ajoutée. Ouvrez le fichier **config/settings.py** et faites défiler vers le bas jusqu'à *INSTALLED_APPS* où vous verrez six applications Django intégrées déjà présentes. Ajoutez notre nouvelle application de **pages** en bas."
   ]
  },
  {
   "cell_type": "code",
   "execution_count": null,
   "metadata": {},
   "outputs": [],
   "source": [
    "# config/settings.py\n",
    "INSTALLED_APPS = [\n",
    "'django.contrib.admin',\n",
    "'django.contrib.auth',\n",
    "'django.contrib.contenttypes',\n",
    "'django.contrib.sessions',\n",
    "'django.contrib.messages',\n",
    "'django.contrib.staticfiles',\n",
    "'pages', # new\n",
    "]"
   ]
  },
  {
   "cell_type": "markdown",
   "metadata": {},
   "source": [
    "## URLs, Vues, Modèles, Gabarits\n",
    "Dans Django, au moins trois (souvent quatre) fichiers distincts sont nécessaires pour alimenter une seule page. Dans une application, il s'agit du fichier **urls.py**, du fichier **views.py**, du fichier **models.py**, et enfin d'un gabarit HTML tel que **index.html**.\n",
    "\n",
    "Lorsque vous saisissez une URL, telle que http://localhost:8000/, la première chose qui se produit dans notre projet Django est la recherche d'un modèle d'URL (URLpattern) correspondant à la page d'accueil. Le modèle d'URL spécifie une vue (view) qui détermine ensuite le contenu de la page (généralement à partir d'un modèle (model) de base de données) et finalement un gabarit (template) pour le style et la logique de base. Le résultat final est renvoyé à l'utilisateur sous forme de réponse HTTP.\n",
    "\n",
    "Le flux complet ressemble à ceci :\n",
    "\n",
    "```\n",
    "URL -> Vue -> Modèle (généralement) -> Gabarit\n",
    "```\n",
    "\n",
    "Un modèle n'est pas toujours nécessaire, dans ce cas, trois fichiers suffisent.\n",
    "\n",
    "Ce qu'il faut retenir ici, c'est que dans Django, les vues (views) déterminent le contenu affiché sur une page donnée, tandis que les configurations d'URL (URLConfs) déterminent la destination de ce contenu. Le modèle contient le contenu de la base de données et le gabarit lui fournit un style.\n",
    "\n",
    "Lorsqu'un utilisateur demande une page spécifique, le fichier **urls.py** utilise une expression régulière pour faire correspondre cette demande à la fonction de vue appropriée qui renvoie alors les bonnes données. En d'autres termes, notre vue produira le texte \"Notre première page\" tandis que notre url garantira que lorsque l'utilisateur visitera la page spécifiée, il sera redirigé vers la bonne vue.\n",
    "\n",
    "Pour voir cela en action, commençons par mettre à jour le fichier **views.py** de notre application **pages** comme suit :"
   ]
  },
  {
   "cell_type": "code",
   "execution_count": null,
   "metadata": {},
   "outputs": [],
   "source": [
    "# pages/views.py\n",
    "from django.http import HttpResponse\n",
    "def firstPageView(request):\n",
    "    return HttpResponse('Notre première page')"
   ]
  },
  {
   "cell_type": "markdown",
   "metadata": {},
   "source": [
    "En gros, nous disons que chaque fois que la fonction de vue *firstPageView* est appelée, elle doit renvoyer le texte \"Notre première page\". Plus précisément, nous avons importé la méthode intégrée *HttpResponse* afin de pouvoir renvoyer un objet de réponse à l'utilisateur. Nous avons créé une fonction appelée *firstPageView* qui accepte l'objet de requête (*request*) et renvoie une réponse avec la chaîne \"Notre première page\".\n",
    "\n",
    "Maintenant, nous devons configurer nos urls. Dans l'application **pages**, créez un nouveau fichier **urls.py**, puis mettez-le à jour avec le code suivant :"
   ]
  },
  {
   "cell_type": "code",
   "execution_count": null,
   "metadata": {},
   "outputs": [],
   "source": [
    "# pages/urls.py\n",
    "from django.urls import path\n",
    "from .views import firstPageView\n",
    "urlpatterns = [\n",
    "    path('first/', firstPageView, name='first_page'),\n",
    "]"
   ]
  },
  {
   "cell_type": "markdown",
   "metadata": {},
   "source": [
    "Sur la première ligne, nous importons *path* de Django pour alimenter notre modèle d'URL et sur la ligne suivante, nous importons nos vues. En faisant référence au fichier **views.py** comme *.views*, nous indiquons à Django de chercher un fichier **views.py** dans le dossier courant et d'importer la vue *firstPageView* à partir de là.\n",
    "\n",
    "Notre modèle d'URL comporte trois parties :\n",
    "\n",
    "- une expression régulière Python pour la chaîne 'first/'.\n",
    "- une référence à la vue appelée *firstPageView*\n",
    "- un motif d'URL nommé facultatif appelé 'first_page'.\n",
    "\n",
    "En d'autres termes, si l'utilisateur demande la page représentée par la chaîne 'first/', Django doit utiliser la vue appelée *firstPageView*.\n",
    "\n",
    "La dernière étape consiste à mettre à jour notre fichier **config/urls.py**. Il est courant d'avoir plusieurs applications dans un même projet Django, comme l'application **pages** ici, et elles ont chacune besoin de leur propre chemin URL dédié."
   ]
  },
  {
   "cell_type": "code",
   "execution_count": null,
   "metadata": {},
   "outputs": [],
   "source": [
    "# config/urls.py\n",
    "from django.contrib import admin\n",
    "from django.urls import path, include  # new\n",
    "urlpatterns = [\n",
    "    path('admin/', admin.site.urls),\n",
    "    path('our-pages/', include('pages.urls')),  # new\n",
    "]"
   ]
  },
  {
   "cell_type": "markdown",
   "metadata": {},
   "source": [
    "Nous avons importé *include* sur la deuxième ligne à côté de *path* et nous avons créé un nouveau modèle d'URL pour notre application **pages**. Maintenant, lorsqu'un utilisateur visite notre page créée, il sera d'abord dirigé vers l'application **pages** et ensuite vers la vue *firstPageView* définie dans le fichier **pages/urls.py**.\n",
    "\n",
    "Si vous rafraîchissez le navigateur pour http://127.0.0.1:8000/our-pages/first/, il affiche maintenant le texte \"Notre première page\".\n",
    "\n",
    "![Notre première page](screenshots/django_our_homepage.png)"
   ]
  },
  {
   "cell_type": "markdown",
   "metadata": {},
   "source": [
    "# Utilisation de Git\n",
    "La première étape consiste à initialiser (ou ajouter) Git à notre dépôt. Ouvrez **Git Bash** et assurez-vous que vous êtes dans le dossier **hello**, puis exécutez la commande *git init*.\n",
    "\n",
    "```\n",
    "~ git init\n",
    "```\n",
    "\n",
    "Si vous tapez ensuite *git status*, vous verrez une liste de changements depuis le dernier commit Git. Puisqu'il s'agit de notre premier commit, cette liste contient tous nos changements jusqu'à présent. Nous voulons ensuite ajouter tous les changements en utilisant la commande *add -A* et ensuite commiter les changements avec un message, (-m), décrivant ce que nous avons changé.\n",
    "\n",
    "```\n",
    "~ git add -A\n",
    "~ git commit -m \"initial commit\"\n",
    "```\n",
    "\n",
    "## GitHub\n",
    "C'est une bonne habitude de créer un dépôt distant de votre code pour chaque projet. De cette manière, vous disposez d'une sauvegarde au cas où quelque chose arriverait à votre ordinateur et, plus important encore, cela permet de collaborer avec d'autres développeurs. Les choix les plus courants sont GitHub , Bitbucket et GitLab. Lorsque vous apprenez le développement Web, il est préférable de choisir des dépôts privés plutôt que publics afin de ne pas mettre en ligne par accident des informations critiques telles que des mots de passe. Nous utiliserons GitHub dans ce module, mais les trois services offrent des fonctionnalités similaires pour les nouveaux arrivants.\n",
    "\n",
    "Créez un compte gratuit sur la page d'accueil de GitHub et vérifiez votre adresse électronique. Naviguez ensuite vers la page \"Créer un nouveau dépôt\" située à l'adresse https://github.com/new. Une autre méthode pour créer un nouveau dépôt consiste à cliquer simplement sur le bouton \"Nouveau\" sur la page d'accueil.\n",
    "\n",
    "Entrez le nom du dépôt **hello** et cliquez sur le radio bouton à côté de \"Privé\" plutôt que \"Public\". Ensuite, cliquez sur le bouton en bas de la page pour \"Créer un dépôt\".\n",
    "\n",
    "![Créer un dépôt](screenshots/create_private_repo.png)\n",
    "\n",
    "Dans votre machine locale, ouvrez **Git Bash** et assurez-vous que vous êtes dans le dossier **hello**, puis exécutez les commandes suivantes :\n",
    "\n",
    "```\n",
    "~ git remote add origin https://github.com/user_name/hello.git\n",
    "~ git push -u origin master\n",
    "```\n",
    "\n",
    "Assurez-vous de mettre à jour *user_name* en utilisant votre nom d'utilisateur GitHub.\n",
    "\n",
    "Cela synchronise le dépôt local sur notre ordinateur avec le dépôt distant sur le site web de GitHub."
   ]
  },
  {
   "cell_type": "markdown",
   "metadata": {},
   "source": [
    "# URLs et Vues de Django\n",
    "Lorsqu'une application Django reçoit une requête web, c'est au fichier **urls.py** (URLconf attribuée au paramètre ROOT_URLCONF) de déterminer ce qu'il faut faire de cette requête. C'est ce qu'on appelle le routage dans une application web. Vous pouvez donc avoir des URLs configurées dans votre projet comme */contact*, */stats*, */about-us* - la partie de l'URL après le nom de domaine - et ainsi de suite. Chacune de ces routes va déclencher une fonction (ou une méthode dans le cas des vues basées sur des classes) différente dans le fichier **views.py**. Chaque fonction (méthode) différente effectuera une opération différente en fonction de la route que l'utilisateur a choisie via le navigateur web.\n",
    "\n",
    "![Urls et Vues](screenshots/urls&vues.png)\n",
    "\n",
    "## Passer des données à la vue\n",
    "Pour capturer une valeur contenue dans l'URL, utilisez des chevrons *\\<name\\>*.\n",
    "\n",
    "Les valeurs capturées peuvent inclure un convertisseur de type. Par exemple, *\\<int:id\\>* va capturer un paramètre nombre entier, et il ne correspondra qu'à l'url dont l'*id* est de type int. Si aucun convertisseur n'est donné, l'expression capture n'importe quelle chaîne de caractères, à l'exception du caractère /.\n",
    "\n",
    "Prenons l'exemple d'URLconf suivant :"
   ]
  },
  {
   "cell_type": "code",
   "execution_count": null,
   "metadata": {},
   "outputs": [],
   "source": [
    "from django.urls import path\n",
    "\n",
    "from . import views\n",
    "\n",
    "urlpatterns = [\n",
    "    path('products/2020/', views.products_year_2020),\n",
    "    path('products/<int:year>/', views.products_year),\n",
    "    path('products/<int:year>/<int:month>/', views.products_month),\n",
    "    path('products/<int:year>/<int:month>/<slug:text>/', views.product_details),\n",
    "]"
   ]
  },
  {
   "cell_type": "markdown",
   "metadata": {},
   "source": [
    "Une requête vers */products/2022/03/* correspondrait à la troisième entrée dans la liste. Django appellerait la fonction *views.products_month(request, year=2022, month=3)*.\n",
    "\n",
    "*/products/2020/* correspondrait au premier motif de la liste, et non le deuxième, car les motifs sont évalués dans l'ordre, et le premier est le premier à correspondre. Libre à vous d'utiliser l'ordre de définition pour traiter des cas spéciaux comme ici. Ici, Django appellerait la fonction *views.products_year_2020(request)*.\n",
    "\n",
    "*/products/2020* ne correspondrait à aucun motif, car chaque motif nécessite que l'URL se termine par une barre oblique.\n",
    "\n",
    "*/products/2022/03/construire-un-site-django/* correspondrait au dernier motif. Django appellerait la fonction *views.product_details(request, year=2022, month=3, text=\"construire-un-site-django\")*.\n",
    "\n",
    "Les convertisseurs de chemin suivants sont disponibles par défaut :\n",
    "\n",
    "- *str* : correspond à n'importe quelle chaîne non vide, à l'exception du séparateur de chemin, '/'. C'est ce qui est utilisé par défaut si aucun convertisseur n'est indiqué dans l'expression.\n",
    "\n",
    "- *int* : correspond à zéro ou un autre nombre entier positif. Renvoie le type int.\n",
    "\n",
    "- *slug* : correspond à toute chaîne composée de lettres ou chiffres ASCII, du trait d'union ou du caractère soulignement. Par exemple, construire-votre-1er-site-django.\n",
    "\n",
    "- *uuid* : correspond à un identifiant UUID. Pour empêcher plusieurs URL de correspondre à une même page, les tirets doivent être inclus et les lettres doivent être en minuscules. Par exemple, 075194d3-6885-417e-a8a8-6c931e272f00. Renvoie une instance UUID.\n",
    "\n",
    "- *path* : correspond à n'importe quelle chaîne non vide, y compris le séparateur de chemin, '/'. Cela permet de correspondre à un chemin d'URL complet au lieu d'un segment de chemin d'URL comme avec str.\n",
    "\n",
    "Pour des scénarios de correspondance plus complexes, vous pouvez définir vos [propres convertisseurs de chemin](https://docs.djangoproject.com/fr/4.0/topics/http/urls/#registering-custom-path-converters-1).\n",
    "\n",
    "### Transmission de paramètres supplémentaires à une vue\n",
    "Les configurations d'URL ont un point d'entrée qui permet de passer des paramètres supplémentaires à vos vues, via un dictionnaire Python.\n",
    "\n",
    "La fonction *django.urls.path()* accepte un troisième paramètre facultatif qui doit correspondre à un dictionnaire de paramètres nommés supplémentaires à transmettre à la fonction de vue."
   ]
  },
  {
   "cell_type": "code",
   "execution_count": null,
   "metadata": {},
   "outputs": [],
   "source": [
    "from django.urls import path\n",
    "from . import views\n",
    "\n",
    "urlpatterns = [\n",
    "    path('products/<int:year>/', views.products_year, {'brand': 'apple'}),\n",
    "]\n"
   ]
  },
  {
   "cell_type": "markdown",
   "metadata": {},
   "source": [
    "Dans cet exemple, si une requête demande */products/2022/*, Django appelle *views.products_year(request, year=2022, brand='apple')*."
   ]
  },
  {
   "cell_type": "markdown",
   "metadata": {},
   "source": [
    "## Exercice\n",
    "Comme pour le projet précédent (**hello**), notre configuration initiale comprend les étapes suivantes :\n",
    "1. Créer un dossier pour notre code\n",
    "2. Installer Django dans un nouveau environnement virtuel\n",
    "3. Créer un nouveau projet Django\n",
    "4. Créer une nouvelle application\n",
    "5. Mettre à jour **config/settings.py**\n",
    "\n",
    "Vous pouvez télécharger le projet précédent **hello** à partir Github et simplement exécuter la commande suivante :"
   ]
  },
  {
   "cell_type": "markdown",
   "metadata": {},
   "source": [
    "```\n",
    "$ python -m pipenv sync\n",
    "# ou\n",
    "$ py -m pipenv sync\n",
    "# ou directement\n",
    "$ pipenv sync\n",
    "```"
   ]
  },
  {
   "cell_type": "markdown",
   "metadata": {},
   "source": [
    "Pour cet exercice, vous devez créer 3 applications nommées *users*, *products* et *payment*. Pour chaque application, ajoutez les routes et les vues nécessaires pour afficher les pages suivantes :\n",
    "\n",
    "1. Application des utilisateurs (users)\n",
    "\n",
    "/users/register/\n",
    "![Registration Page](screenshots/users_registration_page.png)\n",
    "\n",
    "/users/login/\n",
    "![Login Page](screenshots/users_login_page.png)\n",
    "\n",
    "/users/change-password/\n",
    "![Change Password Page](screenshots/users_change_password_page.png)\n",
    "\n",
    "/users/hello/\n",
    "![Hello Page](screenshots/users_hello_page.png)\n",
    "\n",
    "/users/hello/Hamza/\n",
    "![Hello Name Page](screenshots/users_hello_name_page.png)\n",
    "\n",
    "/users/hello/Hamza/26/\n",
    "![Hello Name and Age Page](screenshots/users_hello_name_age_page.png)\n",
    "\n",
    "2. Application des produits (products)\n",
    "\n",
    "Utiliser la liste suivante d'objets de type Product :"
   ]
  },
  {
   "cell_type": "markdown",
   "metadata": {},
   "source": [
    "```\n",
    "products = []\n",
    "products.append(Product('Macbook Air', 'Apple', 2021))\n",
    "products.append(Product('Macbook Air', 'Apple', 2020))\n",
    "products.append(Product('Macbook Pro', 'Apple', 2021))\n",
    "products.append(Product('Macbook Pro', 'Apple', 2020))\n",
    "products.append(Product('Thinkpad X', 'Lenovo', 2018))\n",
    "products.append(Product('EliteBook', 'Hp', 2018))\n",
    "products.append(Product('Airpods Pro', 'Apple', 2020))\n",
    "```"
   ]
  },
  {
   "cell_type": "markdown",
   "metadata": {},
   "source": [
    "\n",
    "\n",
    "/products/\n",
    "![Products List Page](screenshots/products_list_page.png)\n",
    "\n",
    "/products/2020/\n",
    "![Products List Filtered by Year Page](screenshots/products_list_year_2020_page.png)\n",
    "\n",
    "/products/macbook_air\n",
    "![Products List Filtered by Name Page](screenshots/products_list_name_page.png)\n",
    "\n",
    "\n",
    "3. Application de paiement (payment)\n",
    "\n",
    "/payment/\n",
    "![Payment Page](screenshots/payment_page.png)\n"
   ]
  },
  {
   "cell_type": "markdown",
   "metadata": {},
   "source": [
    "\n",
    "## La fonction render\n",
    "Cette fonction combine un gabarit (template) donné avec un dictionnaire contexte donné et renvoie un objet HttpResponse avec le texte résultant.\n"
   ]
  },
  {
   "cell_type": "code",
   "execution_count": null,
   "metadata": {},
   "outputs": [],
   "source": [
    "from django.shortcuts import render\n",
    "\n",
    "def my_view(request):\n",
    "    return render(request, 'myapp/index.html', {'foo': 'bar'})\n"
   ]
  },
  {
   "cell_type": "markdown",
   "metadata": {},
   "source": [
    "# Gabarits (Templates)\n",
    "Chaque framework web a besoin d'un moyen pratique pour générer des fichiers HTML et, dans Django, l'approche consiste à utiliser des gabarits : des fichiers HTML individuels qui peuvent être reliés entre eux, vous permettent d'accéder à toutes les données fournies par la vue et incluent également une logique de base. En principe, un gabarit Django est un mélange de balises HTML statiques ainsi qu'une certaine syntaxe particulière définissant comment insérer le contenu dynamique. \n",
    "\n",
    "Rappelez-vous que précédemment, dans notre projet **hello**, les phrases étaient codée en dur dans un fichier **views.py** sous forme de chaînes de caractères. Cela fonctionne techniquement mais n'est pas très extensible ! Une meilleure approche consiste à lier une vue à un gabarit, séparant ainsi les informations contenues dans chacun.\n",
    "\n",
    "La première considération est de savoir où placer les gabarits dans un projet Django. Il existe deux options :\n",
    "\n",
    "Par défaut, le chargeur de gabarits (template loader) de Django cherche les gabarits associés dans chaque application. Cependant, la structure est un peu compliquée : chaque application nécessite un nouveau dossier de gabarits, un autre dossier portant le même nom que l'application, puis le fichier de gabarit. Par conséquent, dans notre application **pages**, Django s'attendrait à la disposition suivante :\n",
    "\n",
    "```\n",
    ".\n",
    "├── pages\n",
    "│   └── templates\n",
    "│       └── pages\n",
    "│           └── first\n",
    "```\n",
    "\n",
    "Cela signifie que nous devrions créer un nouveau dossier de gabarits, un nouveau dossier avec le nom de l'application, **pages**, et enfin notre gabarit lui-même qui est **first.html**. Pourquoi cette approche apparemment répétitive ? La réponse courte est que le chargeur de gabarits de Django veut être vraiment sûr de trouver le bon gabarit ! Que se passe-t-il s'il y a des fichiers **first.html** dans deux applications distinctes ? Cette structure permet de s'assurer qu'il n'y a pas de tels conflits.\n",
    "\n",
    "Il existe cependant une autre approche qui consiste à créer un seul dossier de gabarits au niveau du projet et à y placer tous les gabarits. En apportant une petite modification à notre fichier **config/settings.py**, nous pouvons indiquer à Django de chercher également les gabarits dans ce dossier.\n",
    "\n",
    "Nous devons créer un dossier appelé **templates** et un fichier HTML appelé **first.html**, puis nous devons mettre à jour la configuration **settings.py** pour indiquer à Django l'emplacement de notre nouveau dossier **templates**. Il s'agit d'une modification d'une ligne du paramètre *DIRS* sous *TEMPLATES*."
   ]
  },
  {
   "cell_type": "code",
   "execution_count": null,
   "metadata": {},
   "outputs": [],
   "source": [
    "# config/settings.py\n",
    "TEMPLATES = [\n",
    "    {\n",
    "        #...\n",
    "        'DIRS': [str(BASE_DIR.joinpath('templates'))],  # new\n",
    "        #...\n",
    "    },\n",
    "]"
   ]
  },
  {
   "cell_type": "markdown",
   "metadata": {},
   "source": [
    "## La syntaxe du langage de gabarit de Django\n",
    "La syntaxe du langage de gabarit de Django implique quatre structures.\n",
    "\n",
    "### Variables\n",
    "Une variable affiche une valeur à partir du contexte. Nous définissons un contexte que nous allons envoyer au gabarit. Un contexte est un dictionnaire appelé *context* dans lequel les clés sont des noms que nous utiliserons dans le gabarit pour accéder aux données, et les valeurs sont les données que nous devons envoyer au gabarit.\n",
    "\n",
    "Les variables sont entourées par *{{* et *}}* comme ceci :\n",
    "\n",
    "```\n",
    "My first name is {{ first_name }}. My last name is {{ last_name }}.\n",
    "```\n",
    "\n",
    "Avec un contexte *{'first_name': 'Hamza', 'last_name': 'Jamal'}*, ce gabarit produit :\n",
    "\n",
    "```\n",
    "My first name is Hamza. My last name is Jamal.\n",
    "```\n",
    "\n",
    "La consultation de dictionnaire, d'attribut et d'indice de liste est implémentée par une notation pointée :\n",
    "\n",
    "```\n",
    "{{ my_dict.key }}\n",
    "{{ my_object.attribute }}\n",
    "{{ my_list.0 }}\n",
    "```\n",
    "\n",
    "Si vous appelez une variable qui n'existe pas, le système des gabarits insère la valeur de l'option *string_if_invalid*, qui vaut '' (chaîne vide) par défaut.\n",
    "\n",
    "Si le contenu d'une variable s'avère être un objet exécutable, le système de gabarit l'appelle sans paramètre et utilise son résultat à la place de l'objet exécutable.\n",
    "\n",
    "### Filtres\n",
    "Les filtres transforment les valeurs de variables et les paramètres de balises. Les filtres ressemblent à ceci : *{{ nom|lower }}*. Ceci affiche la valeur de la variable *{{ nom }}* après avoir été filtrée par le filtre *lower* qui convertit le texte en minuscules. Utilisez la barre verticale (|) pour appliquer un filtre.\n",
    "\n",
    "Prenons ceci :\n",
    "\n",
    "```\n",
    "{{ django|title }}\n",
    "```\n",
    "\n",
    "Avec un contexte :\n",
    "\n",
    "```\n",
    "{'django': 'DJANGO Web Framework'}\n",
    "```\n",
    "\n",
    "ce gabarit produit le résultat suivant :\n",
    "\n",
    "```\n",
    "Django Web Framework\n",
    "```\n",
    "\n",
    "Les filtres peuvent s'enchaîner. Le résultat d'un filtre est appliqué au suivant. *{{ text|escape|linebreaks }}* est un idiome courant pour échapper du contenu textuel, puis convertir les sauts de ligne en balises *<p>*.\n",
    "\n",
    "Certains filtres acceptent un paramètre :\n",
    "\n",
    "```\n",
    "{{ my_date|date:\"Y-m-d\" }}\n",
    "```\n",
    "\n",
    "Les paramètres de filtre contenant des espaces doivent être placés entre guillemets. Par exemple, pour concaténer une liste en utilisant une virgule et une espace, il faudrait écrire *{{ liste|join:\", \" }}*.\n",
    "\n",
    "Les filtres présentés ne sont que des exemples, voir la [référence des filtres intégrés](https://docs.djangoproject.com/fr/4.0/ref/templates/builtins/#ref-templates-builtins-filters) pour une liste complète.\n",
    "\n",
    "### Balises\n",
    "Les balises (tags en anglais) sont plus complexes que les variables : certaines produisent du texte, d'autres contrôlent le flux en effectuant des boucles ou de la logique, et d'autres encore chargent des informations externes dans les gabarits pour que des variables puissent les utiliser ensuite.\n",
    "\n",
    "Les balises sont entourées par *{%* et *%}*, comme ceci :\n",
    "\n",
    "```\n",
    "{% tag %}\n",
    "```\n",
    "\n",
    "La plupart des balises acceptent des paramètres :\n",
    "\n",
    "```\n",
    "{% tag parm1 param2 %}\n",
    "```\n",
    "\n",
    "Certains balises nécessitent une balise ouvrante et une balise fermante :\n",
    "\n",
    "```\n",
    "{% tag %} ... contenu de la balise ... {% endtag %}\n",
    "```\n",
    "\n",
    "\n",
    "Django fournit une vingtaine de balises de gabarit intégrées. Elles sont toutes documentées dans la [référence des balises intégrés](https://docs.djangoproject.com/fr/4.0/ref/templates/builtins/#ref-templates-builtins-tags). Pour vous donner une idée de ce qui est disponible, voici quelques-unes des balises de gabarit les plus utilisées :\n",
    "\n",
    "- *for*\n",
    "\n",
    "Boucle sur chaque élément d'une séquence. Par exemple, pour afficher la liste des produits contenus dans la liste *products*:\n",
    "\n",
    "```\n",
    "<ul>\n",
    "{% for product in products %}\n",
    "    <li>{{ product }}</li>\n",
    "{% endfor %}\n",
    "</ul>\n",
    "```\n",
    "\n",
    "La balise for accepte une clause facultative *{% empty %}* dont le contenu est affiché si la liste en paramètre est vide ou est introuvable :\n",
    "\n",
    "```\n",
    "<ul>\n",
    "{% for product in products %}\n",
    "    <li>{{ product }}</li>\n",
    "{% empty %}\n",
    "    <li>No product found</li>\n",
    "{% endfor %}\n",
    "</ul>\n",
    "```\n",
    "\n",
    "Python utilise l'indentation pour indiquer quelles lignes d'une instruction *for* font partie d'une boucle. Dans un gabarit, chaque boucle *for* a besoin d'une balise *{% endfor %}* explicite indiquant où se trouve la fin de la boucle\n",
    "\n",
    "- *if*, *elif* et *else*\n",
    "\n",
    "Évalue une variable, et si cette variable vaut *True*, le contenu du bloc est affiché :\n",
    "\n",
    "```\n",
    "{% if products_apple %}\n",
    "    There is {{ products_apple|length }} apple products.\n",
    "{% elif products_hp %}\n",
    "    No apple products but there is {{ products_hp|length }} hp products.\n",
    "{% else %}\n",
    "    No available products.\n",
    "{% endif %}\n",
    "```\n",
    "\n",
    "Dans l'exemple ci-dessus, si *products_apple* n'est pas vide, le nombre des produits apple est affiché par la variable *{{ products_apple|length }}*. Sinon, dans le cas où *products_hp* n'est pas vide, le nombre des produits hp est affiché par *{{ products_hp|length }}*. Si les deux listes sont vides, c'est \"No available products.\" qui sera affiché.\n",
    "\n",
    "- *block* et *extends*\n",
    "\n",
    "Définit l'héritage de gabarits, une manière puissante d'éliminer les contenus redondants au niveau des gabarits.\n",
    "\n",
    "### Commentaires\n",
    "Les commentaires ressemblent à ceci :\n",
    "\n",
    "```\n",
    "{# this won't be rendered #}\n",
    "```\n",
    "\n",
    "Une balise *{% comment %}* autorise des commentaires sur plusieurs lignes. Django ignore tout ce qui se trouve entre {% comment %} et {% endcomment %}. Une note facultative peut être insérée dans la première balise. Par exemple, cela peut être utile pour donner les raisons d'un bout de code que l'on place en commentaire :\n",
    "\n",
    "```\n",
    "{% comment \"Optional note\" %}\n",
    "    <h1>{{ a_title|title }}</h1>\n",
    "    <p>Commented out this text</p>\n",
    "{% endcomment %}\n",
    "```"
   ]
  }
 ],
 "metadata": {
  "interpreter": {
   "hash": "af3e840ad029f810976cb678bd284953b6040323d93f0a3a89d72c6b45958501"
  },
  "kernelspec": {
   "display_name": "Python 3.9.2 ('phd')",
   "language": "python",
   "name": "python3"
  },
  "language_info": {
   "name": "python",
   "version": "3.10.4"
  },
  "orig_nbformat": 4
 },
 "nbformat": 4,
 "nbformat_minor": 2
}
