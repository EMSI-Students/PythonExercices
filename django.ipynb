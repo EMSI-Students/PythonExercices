{
 "cells": [
  {
   "cell_type": "markdown",
   "metadata": {},
   "source": [
    "# Introduction\n",
    "[Django](https://djangoproject.com/) est un framework web gratuit et open source écrit en langage de programmation Python.\n",
    "\n",
    "Un framework web est un ensemble d'outils modulaires qui supprime une grande partie des difficultés - et des répétitions - associées au développement web. Par exemple, la plupart des sites Web ont besoin des mêmes fonctionnalités de base : la capacité de se connecter à une base de données, de définir des routes URL, d'afficher du contenu sur une page, de gérer correctement la sécurité, etc. Plutôt que de recréer tout cela à partir de zéro, Au cours des années, les programmeurs ont créé des frameworks web dans tous les principaux langages de programmation : Django et Flask en Python, Rails en Ruby, et Express en JavaScript, parmi tant d'autres.\n",
    "\n",
    "Aujourd'hui, la plupart des développeurs se basent sur des frameworks web plutôt que d'essayer de construire un site web à partir de zéro. \n",
    "\n",
    "Django, en particulier, a été publié pour la première fois en 2005 et continue d'être amélioré depuis son lancement. Aujourd'hui, c'est l'un des frameworks web les plus populaires, utilisé par les plus grands sites web du monde comme Instagram, Pinterest, Bitbucket ..., mais aussi suffisamment flexible pour être un bon choix pour les startups en phase de démarrage et le prototypage de projets personnels.\n",
    "\n",
    "Django offre un support les tâches courantes du développement web, notamment :\n",
    "\n",
    "- Authentification des utilisateurs\n",
    "- Tests\n",
    "- Modèles de base de données, formulaires, routes URL et templates\n",
    "- Interface d'administration\n",
    "- Amélioration de la sécurité et performance\n",
    "- Prise en charge de plusieurs types de base de données\n",
    "\n",
    "Cette approche permet aux développeurs web de se concentrer sur ce qui rend une application web unique plutôt que de réinventer la roue à chaque fois pour une fonctionnalité d'application web standard et sécurisée.\n",
    "\n",
    "Par contre, plusieurs frameworks populaires, notamment Flask en Python et Express en JavaScript, adoptent une approche \"microframework\". Ils ne fournissent que le strict minimum requis pour une page Web simple et laissent le choix au développeur d'installer et de configurer des paquets tiers pour reproduire les fonctionnalités de base d'un site Web. Cette approche offre une plus grande flexibilité au développeur, mais offre également plus de possibilités d'erreurs.\n",
    "\n",
    "Django est toujours en développement et chaque année une nouvelle version sort. La communauté Django ajoute constamment de nouvelles fonctionnalités et des améliorations de sécurité. Et surtout, il est écrit en langage Python, à la fois facile à lire et puissant.\n",
    "\n",
    "# Installation\n",
    "## Créer un environnement virtuel\n",
    "Pour travailler avec Django, nous allons d'abord configurer un environnement virtuel. Un environnement virtuel est un endroit sur votre système où vous pouvez installer des paquets dans un endroit isolé pour une application particulière, au lieu de les installer globalement. Séparer les bibliothèques d'un projet d'autres projets est bénéfique et sera nécessaire lorsque nous déploierons notre application sur un serveur.\n",
    "\n",
    "Nous utiliserons Pipenv pour gérer les environnements virtuels. Pipenv est similaire à npm et à yarn de l'écosystème JavaScript/Node : il crée un Pipfile contenant les dépendances logicielles et un Pipfile.lock pour la gestion des environnements virtuels pour assurer des constructions déterministes. Un construction déterministe signifie que chaque fois que vous téléchargez le logiciel dans un nouveau environnement virtuel, vous aurez exactement la même configuration. Pour installer Pipenv, nous pouvons utiliser la commande suivante :"
   ]
  },
  {
   "cell_type": "markdown",
   "metadata": {},
   "source": [
    "```\n",
    "$ python -m pip install pipenv\n",
    "# ou\n",
    "$ py -m pip install pipenv\n",
    "# ou directement\n",
    "$ pip install pipenv\n",
    "```"
   ]
  },
  {
   "cell_type": "markdown",
   "metadata": {},
   "source": [
    "## Installer Django\n",
    "Créez un nouveau dossier pour votre projet appelé **hello**, passez vers ce dossier dans une invite de commande ou un terminal avec *cd*, et entrez la commande suivante pour installer Django :"
   ]
  },
  {
   "cell_type": "markdown",
   "metadata": {},
   "source": [
    "```\n",
    "$ python -m pipenv install django\n",
    "# ou\n",
    "$ py -m pipenv install django\n",
    "# ou directement\n",
    "$ pipenv install django\n",
    "```"
   ]
  },
  {
   "cell_type": "markdown",
   "metadata": {},
   "source": [
    "Si vous consultez le dossier, vous trouverez deux nouveaux fichiers : **Pipfile** et **Pipfile.lock**.\n",
    "\n",
    "```\n",
    ".\n",
    "├── Pipfile\n",
    "└── Pipfile.lock\n",
    "\n",
    "```\n",
    "\n",
    "Nous avons les informations dont nous avons besoin pour un nouveau environnement virtuel mais nous ne l'avons pas encore activé. Nous pouvons activer l'environnement virtuel en utilisant la commande suivante :"
   ]
  },
  {
   "cell_type": "markdown",
   "metadata": {},
   "source": [
    "```\n",
    "$ python -m pipenv shell\n",
    "# ou\n",
    "$ py -m pipenv shell\n",
    "# ou directement\n",
    "$ pipenv shell\n",
    "```"
   ]
  },
  {
   "cell_type": "markdown",
   "metadata": {},
   "source": [
    "Pour vérifier que Django peut être vu par Python, tapez *python* dans votre invite de commande. Puis, à l'invite de commande de Python, essayez d'importer Django :\n",
    "\n",
    "```\n",
    ">>> import django\n",
    ">>> print(django.get_version())\n",
    "```"
   ]
  },
  {
   "cell_type": "markdown",
   "metadata": {},
   "source": [
    "Ensuite, quittez notre environnement virtuel en utilisant la commande *exit*."
   ]
  },
  {
   "cell_type": "markdown",
   "metadata": {},
   "source": [
    "```\n",
    "$ exit\n",
    "```"
   ]
  },
  {
   "cell_type": "markdown",
   "metadata": {},
   "source": [
    "L'environnement deviendra également inactif lorsque vous fermerez l'invite de commande ou le terminal dans lequel il est exécuté. Nous pouvons toujours réactiver l'environnement virtuel à tout moment\n",
    "\n",
    "## Installer Git\n",
    "Git fournit un système de contrôle de version qui peut être considéré comme une version extrêmement puissante du suivi des modifications dans Microsoft Word ou Google Docs. Avec Git, vous pouvez collaborer avec d'autres développeurs, suivre tout votre travail via les commits, et revenir à n'importe quelle version précédente de votre code même si vous supprimez accidentellement quelque chose d'important.\n",
    "\n",
    "Sous Windows, vous devez télécharger Git à partir de [Git for Windows](https://gitforwindows.org/). Cliquez sur le bouton \"Télécharger\" et suivez les instructions d'installation.\n",
    "\n",
    "Une fois installé, nous devons procéder à configurer le système en déclarant le nom et l'adresse électronique que vous souhaitez associer à tous vos commits Git. Dans la console Git Bash, tapez les deux lignes suivantes. Assurez-vous de mettre à jour votre nom et votre adresse e-mail."
   ]
  },
  {
   "cell_type": "markdown",
   "metadata": {},
   "source": [
    "```\n",
    "~ git config --global user.name \"Votre nom\"\n",
    "~ git config --global user.email \"votrenom@email.com\"\n",
    "```"
   ]
  },
  {
   "cell_type": "markdown",
   "metadata": {},
   "source": [
    "Vous pouvez toujours modifier ces configurations ultérieurement si vous le souhaitez en retapant les mêmes commandes avec un nouveau nom ou une nouvelle adresse électronique.\n",
    "\n",
    "# Création d'une application simple avec Django\n",
    "## Créer un projet dans Django\n",
    "La première fois que nous utilisons Django, nous devons effectuer une configuration initiale. En d'autres termes, nous devons générer automatiquement du code qui définit un projet Django - un ensemble de paramètres pour une instance de Django, y compris la configuration de la base de données, les options spécifiques à Django et les paramètres spécifiques à l'application.\n",
    "\n",
    "Pour commencer, naviguez vers le dossier précédemment créé **hello** si vous êtes en dehors de celui-ci, puis activez l'environnement virtuel créé."
   ]
  },
  {
   "cell_type": "markdown",
   "metadata": {},
   "source": [
    "```\n",
    "$ python -m pipenv shell\n",
    "# ou\n",
    "$ py -m pipenv shell\n",
    "# ou directement\n",
    "$ pipenv shell\n",
    "```"
   ]
  },
  {
   "cell_type": "markdown",
   "metadata": {},
   "source": [
    "Créez un nouveau projet Django appelé **config** et assurez-vous d'inclure le point (.) à la fin de la commande."
   ]
  },
  {
   "cell_type": "markdown",
   "metadata": {},
   "source": [
    "```\n",
    "$ django-admin startproject config .\n",
    "```"
   ]
  },
  {
   "cell_type": "markdown",
   "metadata": {},
   "source": [
    "Cela créera un dossier **config** dans votre dossier actuel. Le point à la fin de la commande crée le nouveau projet avec une structure de dossier qui facilitera le déploiement de l'application sur un serveur lorsque nous aurons fini de la développer.\n",
    "\n",
    "N'oubliez pas ce point, ou vous pourriez rencontrer des problèmes de configuration lors du déploiement de l'application. Si vous oubliez ce point, supprimez les fichiers et les dossiers qui ont été créés, puis exécutez à nouveau la commande.\n",
    "\n",
    "Voyons ce que la commande *django-admin startproject* a créé :\n",
    "\n",
    "```\n",
    ".\n",
    "├── config\n",
    "│   ├── asgi.py\n",
    "│   ├── __init__.py\n",
    "│   ├── settings.py\n",
    "│   ├── urls.py\n",
    "│   └── wsgi.py\n",
    "├── manage.py\n",
    "├── Pipfile\n",
    "└── Pipfile.lock\n",
    "```"
   ]
  },
  {
   "cell_type": "markdown",
   "metadata": {},
   "source": [
    "- **manage.py** : un outil de ligne de commande qui vous permet d'interagir avec ce projet Django de diverses manières. Nous l'utiliserons avec certaines commandes pour gérer des tâches, comme le travail avec des bases de données et l'exécution de serveurs.\n",
    "\n",
    "- Le dossier interne *config/* est le paquet Python réel de votre projet. Son nom est le nom du paquet Python que vous devrez utiliser pour importer tout ce qui s'y trouve.\n",
    "\n",
    "- **config/\\_\\_init\\_\\_.py** : un fichier vide qui indique à Python que ce dossier doit être considéré comme un paquet Python.\n",
    "\n",
    "- **config/settings.py** : paramètres/configurations pour ce projet Django.\n",
    "\n",
    "- **config/urls.py** : les déclarations d'URL pour ce projet Django. Elles indiquent à Django les **pages** à construire en réponse aux requêtes du navigateur.\n",
    "\n",
    "- **config/asgi.py** : un point d'accès pour les serveurs web compatibles avec ASGI pour servir votre projet.\n",
    "\n",
    "- **config/wsgi.py** : un point d'accès pour les serveurs Web compatibles WSGI pour servir votre projet.\n",
    "\n",
    "Django est livré avec un serveur web intégré à des fins de développement local que nous pouvons maintenant démarrer avec la commande *runserver*."
   ]
  },
  {
   "cell_type": "markdown",
   "metadata": {},
   "source": [
    "```\n",
    "$ python manage.py runserver\n",
    "# ou\n",
    "$ py manage.py runserver\n",
    "```"
   ]
  },
  {
   "cell_type": "markdown",
   "metadata": {},
   "source": [
    "Le serveur de développement Django est un serveur web léger écrit purement en Python. Nous l'avons inclus avec Django pour que vous puissiez développer rapidement des choses, sans avoir à vous occuper de la configuration d'un serveur de production - tel qu'Apache - jusqu'à ce que vous soyez prêt pour la production.\n",
    "\n",
    "L'URL [http://127.0.0.1:8000/](http://127.0.0.1:8000/) indique que le projet écoute les requêtes sur le port 8000 de votre ordinateur, que l'on appelle un *localhost*. Le terme *localhost* fait référence à un serveur qui traite uniquement les demandes sur votre système, il ne permet à personne d'autre de voir les **pages** que vous développez.\n",
    "\n",
    "Maintenant que le serveur fonctionne, visitez [http://localhost:8000/](http://localhost:8000/) ou [http://127.0.0.1:8000/](http://127.0.0.1:8000/) avec votre navigateur Web. Vous verrez une page \"Félicitations !\", avec une fusée qui décolle.\n",
    "\n",
    "![Page d'accueil par défaut](screenshots/django_default_homepage.png)\n",
    "\n",
    "Si vous recevez le message d'erreur *That port is already in use* (Ce port est déjà utilisé), dites à Django d'utiliser un autre port en entrant :"
   ]
  },
  {
   "cell_type": "markdown",
   "metadata": {},
   "source": [
    "```\n",
    "$ python manage.py runserver 8001\n",
    "# ou\n",
    "$ py manage.py runserver 8001\n",
    "```"
   ]
  },
  {
   "cell_type": "markdown",
   "metadata": {},
   "source": [
    "Continuez à augmenter la valeur jusqu'à ce que vous trouviez un port ouvert.\n",
    "\n",
    "Le serveur de développement recharge automatiquement le code Python pour chaque demande, selon les besoins. Vous n'avez pas besoin de redémarrer le serveur pour que les modifications du code prennent effet. Cependant, certaines actions, comme l'ajout de fichiers, ne déclenchent pas de redémarrage, vous devrez donc redémarrer le serveur dans ces cas.\n",
    "\n",
    "## Créer une application\n",
    "Django utilise le concept de projets et d'applications pour que le code reste propre et lisible. Un seul projet Django contient une ou plusieurs applications qui fonctionnent toutes ensemble pour alimenter une application Web. C'est pourquoi la commande pour un nouveau projet Django est *startproject*.\n",
    "\n",
    "Par exemple, un site de e-commerce Django peut avoir une application pour l'authentification des utilisateurs, une autre pour les paiements et une troisième pour les détails de la liste des articles, chacune se concentre sur un élément fonctionnel isolé. Il s'agit de trois applications distinctes qui vivent toutes au sein d'un projet de haut niveau.\n",
    "\n",
    "Comment et quand vous divisez les fonctionnalités en applications sont un peu subjectifs, mais en général, chaque application doit avoir une fonctionnalité claire.\n",
    "\n",
    "Créons notre première application. À partir de la ligne de commande, quittez le serveur avec *Ctrl+c*. Ensuite, utilisez la commande *startapp* suivie du nom de notre application, qui sera **pages**."
   ]
  },
  {
   "cell_type": "markdown",
   "metadata": {},
   "source": [
    "```\n",
    "$ python manage.py startapp pages\n",
    "# ou\n",
    "$ py manage.py startapp pages\n",
    "```"
   ]
  },
  {
   "cell_type": "markdown",
   "metadata": {},
   "source": [
    "vous allez constater que Django a créé un dossier **pages** avec les fichiers suivants :\n",
    "\n",
    "```\n",
    ".\n",
    "├── admin.py\n",
    "├── apps.py\n",
    "├── __init__.py\n",
    "├── migrations\n",
    "│   └── __init__.py\n",
    "├── models.py\n",
    "├── tests.py\n",
    "└── views.py\n",
    "```\n",
    "\n",
    "- **admin.py** : un fichier de configuration pour l'application intégrée administrateur de Django (Django Admin)\n",
    "- **apps.py** : un fichier de configuration pour l'application elle-même.\n",
    "- **migrations/** : garde la trace de toutes les modifications apportées à notre fichier **models.py** afin que notre base de données et **models.py** restent synchronisés.\n",
    "- **models.py** : l'endroit où nous définissons nos modèles de base de données que Django traduit automatiquement en tables de base de données.\n",
    "- **tests.py** : pour nos tests spécifiques à l'application\n",
    "- **views.py** : l'endroit où nous gérons la logique de demande/réponse pour notre application Web.\n",
    "\n",
    "Même si notre nouvelle application existe dans le projet Django, Django ne la connaît pas tant que nous ne l'avons pas explicitement ajoutée. Ouvrez le fichier **config/settings.py** et faites défiler vers le bas jusqu'à *INSTALLED_APPS* où vous verrez six applications Django intégrées déjà présentes. Ajoutez notre nouvelle application de **pages** en bas."
   ]
  },
  {
   "cell_type": "code",
   "execution_count": null,
   "metadata": {},
   "outputs": [],
   "source": [
    "# config/settings.py\n",
    "INSTALLED_APPS = [\n",
    "'django.contrib.admin',\n",
    "'django.contrib.auth',\n",
    "'django.contrib.contenttypes',\n",
    "'django.contrib.sessions',\n",
    "'django.contrib.messages',\n",
    "'django.contrib.staticfiles',\n",
    "'pages', # new\n",
    "]"
   ]
  },
  {
   "cell_type": "markdown",
   "metadata": {},
   "source": [
    "## URLs, Views, Models, Templates\n",
    "Dans Django, au moins trois (souvent quatre) fichiers distincts sont nécessaires pour alimenter une seule page. Dans une application, il s'agit du fichier **urls.py**, du fichier **views.py**, du fichier **models.py**, et enfin d'un template HTML tel que **index.html**.\n",
    "\n",
    "Lorsque vous saisissez une URL, telle que https://www.djangoproject.com/, la première chose qui se produit dans notre projet Django est la recherche d'un modèle d'URL (URLpattern) correspondant à la page d'accueil. Le modèle d'URL spécifie une vue (view) qui détermine ensuite le contenu de la page (généralement à partir d'un modèle de base de données) et finalement un template pour le style et la logique de base. Le résultat final est renvoyé à l'utilisateur sous forme de réponse HTTP.\n",
    "\n",
    "Le flux complet ressemble à ceci :\n",
    "\n",
    "```\n",
    "URL -> Vue -> Modèle (généralement) -> Template\n",
    "```\n",
    "\n",
    "Un modèle n'est pas toujours nécessaire, dans ce cas, trois fichiers suffisent.\n",
    "\n",
    "Ce qu'il faut retenir ici, c'est que dans Django, les vues (views) déterminent le contenu affiché sur une page donnée, tandis que les configuration d’URL (URLConfs) déterminent la destination de ce contenu. Le modèle contient le contenu de la base de données et le template lui fournit un style.\n",
    "\n",
    "Lorsqu'un utilisateur demande une page spécifique, comme la page d'accueil, le fichier **urls.py** utilise une expression régulière pour faire correspondre cette demande à la fonction de vue appropriée qui renvoie alors les bonnes données. En d'autres termes, notre vue produira le texte \"Notre première page\" tandis que notre url garantira que lorsque l'utilisateur visitera la page d'accueil, il sera redirigé vers la bonne vue.\n",
    "\n",
    "Pour voir cela en action, commençons par mettre à jour le fichier **views.py** de notre application **pages** comme suit :"
   ]
  },
  {
   "cell_type": "code",
   "execution_count": null,
   "metadata": {},
   "outputs": [],
   "source": [
    "# pages/views.py\n",
    "from django.http import HttpResponse\n",
    "def firstPageView(request):\n",
    "    return HttpResponse('Notre première page')"
   ]
  },
  {
   "cell_type": "markdown",
   "metadata": {},
   "source": [
    "En gros, nous disons que chaque fois que la fonction de vue *firstPageView* est appelée, elle doit renvoyer le texte \"Notre première page\". Plus précisément, nous avons importé la méthode intégrée *HttpResponse* afin de pouvoir renvoyer un objet de réponse à l'utilisateur. Nous avons créé une fonction appelée *firstPageView* qui accepte l'objet de requête et renvoie une réponse avec la chaîne \"Notre première page\".\n",
    "\n",
    "Maintenant, nous devons configurer nos urls. Dans l'application **pages**, créez un nouveau fichier **urls.py**, puis mettez-le à jour avec le code suivant :"
   ]
  },
  {
   "cell_type": "code",
   "execution_count": null,
   "metadata": {},
   "outputs": [],
   "source": [
    "# pages/urls.py\n",
    "from django.urls import path\n",
    "from .views import firstPageView\n",
    "urlpatterns = [\n",
    "    path('', firstPageView, name='home'),\n",
    "]"
   ]
  },
  {
   "cell_type": "markdown",
   "metadata": {},
   "source": [
    "Sur la première ligne, nous importons *path* de Django pour alimenter notre modèle d'URL et sur la ligne suivante, nous importons nos vues. En faisant référence au fichier **views.py** comme *.views*, nous indiquons à Django de chercher un fichier **views.py** dans le dossier courant et d'importer la vue *firstPageView* à partir de là.\n",
    "\n",
    "Notre modèle d'URL comporte trois parties :\n",
    "\n",
    "- une expression régulière Python pour la chaîne vide ''.\n",
    "- une référence à la vue appelée *firstPageView*\n",
    "- un motif d'URL nommé facultatif appelé 'home'.\n",
    "\n",
    "En d'autres termes, si l'utilisateur demande la page d'accueil représentée par la chaîne vide '', Django doit utiliser la vue appelée *firstPageView*.\n",
    "\n",
    "La dernière étape consiste à mettre à jour notre fichier **config/urls.py**. Il est courant d'avoir plusieurs applications dans un même projet Django, comme les **pages** ici, et elles ont chacune besoin de leur propre chemin URL dédié."
   ]
  },
  {
   "cell_type": "code",
   "execution_count": null,
   "metadata": {},
   "outputs": [],
   "source": [
    "# config/urls.py\n",
    "from django.contrib import admin\n",
    "from django.urls import path, include  # new\n",
    "urlpatterns = [\n",
    "    path('admin/', admin.site.urls),\n",
    "    path('', include('pages.urls')),  # new\n",
    "]"
   ]
  },
  {
   "cell_type": "markdown",
   "metadata": {},
   "source": [
    "Nous avons importé *include* sur la deuxième ligne à côté de *path* et nous avons créé un nouveau modèle d'URL pour notre application **pages**. Maintenant, lorsqu'un utilisateur visite la page d'accueil, il sera d'abord dirigé vers l'application **pages** et ensuite vers la vue *firstPageView* définie dans le fichier **pages/urls.py**.\n",
    "\n",
    "Si vous rafraîchissez le navigateur pour [http://127.0.0.1:8000/](http://127.0.0.1:8000/), il affiche maintenant le texte \"Notre première page\".\n",
    "\n",
    "![Notre première page](screenshots/django_our_homepage.png)"
   ]
  }
 ],
 "metadata": {
  "interpreter": {
   "hash": "af3e840ad029f810976cb678bd284953b6040323d93f0a3a89d72c6b45958501"
  },
  "kernelspec": {
   "display_name": "Python 3.9.2 ('phd')",
   "language": "python",
   "name": "python3"
  },
  "language_info": {
   "name": "python",
   "version": "3.9.2"
  },
  "orig_nbformat": 4
 },
 "nbformat": 4,
 "nbformat_minor": 2
}
