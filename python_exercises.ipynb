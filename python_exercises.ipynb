{
 "cells": [
  {
   "cell_type": "markdown",
   "metadata": {},
   "source": [
    "# Exercice 1\n",
    "Les codes ASCII des lettres minuscules de l'alphabet vont de 97 (lettre \"a\") à 122 (lettre \"z\"). La fonction *chr* prend en argument un code ASCII sous la forme d'un entier et renvoie le caractère correspondant (sous la forme d'une chaîne de caractères). Ainsi *chr(97)* renvoie \"a\", *chr(98)* renvoie \"b\" et ainsi de suite.\n",
    "\n",
    "Créez la fonction *get_alphabet* qui utilise une boucle et la fonction *chr* et qui renvoie une chaîne de caractères contenant toutes les lettres de l'alphabet.\n",
    "\n",
    "Un [pangramme](https://fr.wikipedia.org/wiki/Pangramme) est une phrase comportant au moins une fois chaque lettre de l'alphabet. Par exemple, \"Voyez ce koala fou qui mange des journaux et des photos dans un bungalow\" est un pangramme.\n",
    "\n",
    "Créez la fonction *is_pangramme* qui utilise la fonction *get_alphabet* précédente, qui prend en argument une chaîne de caractères et qui renvoie *True* est un pangramme si cette chaîne de caractères est un pangramme ou *False* sinon.\n"
   ]
  },
  {
   "cell_type": "code",
   "execution_count": 5,
   "metadata": {},
   "outputs": [
    {
     "data": {
      "text/plain": [
       "False"
      ]
     },
     "execution_count": 5,
     "metadata": {},
     "output_type": "execute_result"
    }
   ],
   "source": [
    "def get_alphabet():\n",
    "        return(\"\".join([chr(97+i) for i in range(26)]))\n",
    "def is_pangramme(L):\n",
    "    for i in get_alphabet():\n",
    "        if i not in L: return(False)\n",
    "    return(True)"
   ]
  },
  {
   "cell_type": "markdown",
   "metadata": {},
   "source": [
    "# Exercice 2\n",
    "Implémentez une fonction qui prend un entier comme argument et affiche un [triangle Pascal](https://fr.wikipedia.org/wiki/Triangle_de_Pascal). Par exemple, prenons la valeur 6 comme argument, la fonction affiche le triangle suivant :\n",
    "\n",
    "```\n",
    "1\n",
    "1 1\n",
    "1 2 1\n",
    "1 3 3 1\n",
    "1 4 6 4 1\n",
    "1 5 10 10 5 1\n",
    "```"
   ]
  },
  {
   "cell_type": "code",
   "execution_count": 5,
   "metadata": {},
   "outputs": [
    {
     "name": "stdout",
     "output_type": "stream",
     "text": [
      "1 \n",
      "1 1 \n",
      "1 2 1 \n",
      "1 3 3 1 \n",
      "1 4 6 4 1 \n",
      "1 5 10 10 5 1 \n"
     ]
    }
   ],
   "source": [
    "def Triange_pascal(n):\n",
    "    from math import comb\n",
    "    for i in range(n):\n",
    "        for j in range(i+1):\n",
    "            print(comb(i,j),end=' ')\n",
    "        print()\n",
    "Triange_pascal(6)"
   ]
  },
  {
   "cell_type": "markdown",
   "metadata": {},
   "source": [
    "# Exercice 3\n",
    "Un bit de parité ([parity bit](https://en.wikipedia.org/wiki/Parity_bit)) est un mécanisme simple de détection des erreurs dans les données transmises sur une connexion non fiable telle qu'une ligne téléphonique. L'idée de base est qu'un bit supplémentaire est transmis après chaque groupe de 7 bits afin de pouvoir détecter une erreur d'un seul bit dans la transmission.\n",
    "\n",
    "Les bits de parité peuvent être calculés pour une parité paire ou impaire. Si la parité paire est sélectionnée, le bit de parité qui est transmis est choisi de manière à ce que le nombre total de bits 1 transmis (7 bits de données plus le bit de parité) soit pair. \n",
    "\n",
    "Lorsque la parité impaire est sélectionnée, le bit de parité est choisi de manière à ce que le nombre total de bits transmis soit impair.\n",
    "\n",
    "Écrivez une fonction qui prend un message en argument, le traduit en code ASCII et le convertit en binaire, puis ajoute le bit de parité pour chaque groupe de 7 bits. La fonction renvoie une série binaire.\n"
   ]
  },
  {
   "cell_type": "markdown",
   "metadata": {},
   "source": [
    "# Exercice 4\n",
    "Une date ordinale ([ordinal date](https://en.wikipedia.org/wiki/Ordinal_date)) se compose d'une année et d'un jour, qui sont tous deux des nombres entiers. L'année peut être n'importe quelle année du calendrier grégorien, tandis que le jour de l'année va de 1, qui représente le 1er janvier, à 365 (ou 366 si l'année est bissextile), qui représente le 31 décembre. Les dates ordinales sont pratiques pour calculer les différences entre des dates qui correspondent à un nombre spécifique de jours (plutôt que de mois). Par exemple, les dates ordinales peuvent être utilisées pour déterminer facilement si un client est dans un délai de remboursement de 90 jours, la date limite de vente d'un produit alimentaire en fonction de sa date de production, et la date d'accouchement d'un bébé.\n",
    "\n",
    "Écrivez une fonction nommée *ordinalDate* qui prend trois entiers comme paramètres.\n",
    "\n",
    "Ces paramètres seront respectivement le jour, le mois et l'année. La fonction doit retourner le jour dans l'année pour cette date comme seul résultat.\n"
   ]
  },
  {
   "cell_type": "markdown",
   "metadata": {},
   "source": [
    "# Exercice 5\n",
    "Créez une fonction qui prend comme paramètres une date ordinale, constituée d'une année et d'un jour de cette année. La fonction renvoie comme résultat le jour et le mois correspondant à cette date ordinale. Assurez-vous que votre fonction traite correctement les années bissextiles.\n",
    "\n",
    "Utilisez votre fonction, ainsi que la fonction *ordinalDate* que vous avez écrit précédemment, pour créer un programme qui lit une date auprès de l'utilisateur. Votre programme doit ensuite fournir une deuxième date qui se produit un certain nombre de jours plus tard. Par exemple, votre programme peut lire la date d'achat d'un produit et indiquer la dernière date à laquelle il peut être retourné (sur la base du délai de retour d'un certain nombre de jours). Assurez-vous que votre programme traite correctement les cas où la date saisie et la date calculée se situent dans des années différentes.\n"
   ]
  },
  {
   "cell_type": "markdown",
   "metadata": {},
   "source": [
    "# Exercice 6\n",
    "Écrivez une fonction qui génère un mot de passe aléatoire. Le mot de passe doit avoir une longueur aléatoire comprise entre 7 et 10 caractères. Chaque caractère doit être choisi au hasard parmi les positions 33 à 126 de la table ASCII. Votre fonction ne prend pas de paramètres.\n"
   ]
  },
  {
   "cell_type": "code",
   "execution_count": 18,
   "metadata": {},
   "outputs": [
    {
     "name": "stdout",
     "output_type": "stream",
     "text": [
      "r_3St6A9xCT"
     ]
    }
   ],
   "source": [
    "def MdP():\n",
    "    from random import randint\n",
    "    i=randint(7,10)\n",
    "    for j in range(i+1):\n",
    "        print(chr(randint(33,126)),end=\"\")\n",
    "MdP()"
   ]
  },
  {
   "cell_type": "markdown",
   "metadata": {},
   "source": [
    "# Exercice 7\n",
    "Dans cet exercice, vous allez écrire une fonction qui détermine si un mot de passe est bon ou non. Nous définirons un bon mot de passe comme étant un mot de passe d'au moins 8 caractères et contenant au moins une lettre majuscule, au moins une lettre minuscule, au un moins caractère spécial, et au moins un chiffre. Votre fonction doit retourner *True* si le mot de passe qui lui est passé comme seul paramètre est bon. Sinon, elle doit renvoyer *False*.\n"
   ]
  },
  {
   "cell_type": "markdown",
   "metadata": {},
   "source": [
    "# Exercice 8\n",
    "En utilisant vos solutions aux exercices précédents, écrivez un programme qui génère un bon mot de passe aléatoire et l'affiche. Comptez et affichez le nombre de tentatives qui ont été nécessaires avant qu'un bon mot de passe soit généré.\n"
   ]
  },
  {
   "cell_type": "markdown",
   "metadata": {},
   "source": [
    "# Exercice 9\n",
    "Écrivez deux fonctions, *hex2int* et *int2hex*, qui convertissent les chiffres hexadécimaux (0, 1, 2, 3, 4, 5, 6, 7, 8, 9, A, B, C, D, E et F) en nombres entiers décimaux (base 10).\n",
    "\n",
    "Chaque fonction prend la valeur à convertir comme seul paramètre et renvoie la valeur convertie comme seul résultat. Assurez-vous que la fonction *hex2int* fonctionne correctement pour les lettres majuscules et minuscules. Vos fonctions doivent afficher un message d'erreur significatif et mettre fin au programme si la valeur du paramètre est en dehors de la plage de valeurs attendues.\n"
   ]
  },
  {
   "cell_type": "markdown",
   "metadata": {},
   "source": [
    "# Exercice 10\n",
    "Écrivez un programme qui permet à l'utilisateur de convertir un nombre d'une base à une autre.\n",
    "\n",
    "Votre programme doit prendre en charge les bases comprises entre 2 et 16, tant pour le nombre d'entrée que pour le nombre de résultat. Si l'utilisateur choisit une base en dehors de cette plage, un message d'erreur approprié doit s'afficher et le programme doit se terminer.\n"
   ]
  },
  {
   "cell_type": "code",
   "execution_count": null,
   "metadata": {},
   "outputs": [],
   "source": [
    "def base(n,b,d=\"\"):\n",
    "    if not 2<=b<=16:\n",
    "        return(\"Eroor\")\n",
    "    while n > 0:\n",
    "        d , n = d+str(n%b) , n//b\n",
    "    return(d[::-1])"
   ]
  },
  {
   "cell_type": "markdown",
   "metadata": {},
   "source": [
    "# Exercice 11\n",
    "Écrivez une fonction qui prend comme seuls paramètres deux entiers positifs représentant le summérateur et le dénominateur d'une fraction. Le corps de la fonction doit réduire la fraction aux termes les plus bas, puis retourner le numérateur et le dénominateur de la fraction réduite comme résultat. Par exemple, si les paramètres transmis à la fonction sont 6 et 63, la fonction doit renvoyer 2 et 21.\n"
   ]
  },
  {
   "cell_type": "code",
   "execution_count": 1,
   "metadata": {},
   "outputs": [
    {
     "data": {
      "text/plain": [
       "'1/0'"
      ]
     },
     "execution_count": 1,
     "metadata": {},
     "output_type": "execute_result"
    }
   ],
   "source": [
    "def red_frac(a,b):\n",
    "    if b==1: return(a)\n",
    "    elif a%b==0: return(b)\n",
    "    d=[a/i for i in range(int(a**(1/2)),0,-1) if (a%(a/i)==0 and b%(a/i)==0) or (a%i==0 and b%i==0)]+[1]\n",
    "    return(f\"{int(a/max(d))}/{int(b/max(d))}\")\n",
    "red_frac(100,16)"
   ]
  },
  {
   "cell_type": "markdown",
   "metadata": {},
   "source": [
    "# Exercice 12\n",
    "Même après la chute de l'empire romain, ses chiffres ont continué à être largement utilisés en Europe jusqu'à la fin du Moyen Âge, et ses chiffres sont encore utilisés dans des circonstances limitées aujourd'hui.\n",
    "\n",
    "Les [chiffres romains](https://fr.wikipedia.org/wiki/Num%C3%A9ration_romaine) sont construits à partir des lettres M, D, C, L, X, V et I qui représentent respectivement 1000, 500, 100, 50, 10, 5 et 1. Les chiffres s'écrivent généralement de la plus grande valeur à la plus petite. Dans ce cas, la valeur du nombre est la somme des valeurs de tous ses chiffres. Si une valeur plus petite précède une valeur plus grande, alors la valeur plus petite est soustraite de la valeur plus grande qu'elle précède immédiatement, et cette différence est ajoutée à la valeur du nombre.\n",
    "\n",
    "Convertit un chiffre romain de l'utilisateur en un nombre entier.\n"
   ]
  },
  {
   "cell_type": "code",
   "execution_count": 33,
   "metadata": {},
   "outputs": [
    {
     "data": {
      "text/plain": [
       "3013"
      ]
     },
     "execution_count": 33,
     "metadata": {},
     "output_type": "execute_result"
    }
   ],
   "source": [
    "def chiff_rom(N,summ=0):\n",
    "    rom={'M':1000,'D':500,'C':100,'L':50,'X':10,'V':5,'I':1}\n",
    "    for i in range(len(N)-1):\n",
    "        if rom[N[i]]>=rom[N[i+1]]:\n",
    "            summ+=rom[N[i]]\n",
    "        else :\n",
    "            summ-=rom[N[i]]\n",
    "    return(summ+rom[N[-1]])\n",
    "\n",
    "def chiff_rom_opt(N,summ=0,i=0):\n",
    "    roman = {'I':1,'V':5,'X':10,'L':50,'C':100,'D':500,'M':1000,'IV':4,'IX':9,'XL':40,'XC':90,'CD':400,'CM':900}\n",
    "    while i < len(N):\n",
    "        if i+1<len(N) and N[i:i+2] in roman:\n",
    "            summ,i=summ+roman[N[i:i+2]],i+2\n",
    "        else:\n",
    "            summ,i=summ+roman[N[i]],i+1\n",
    "    return summ"
   ]
  },
  {
   "cell_type": "markdown",
   "metadata": {},
   "source": [
    "# Exercice 13\n",
    "Chaque [élément chimique](https://fr.wikipedia.org/wiki/Liste_des_%C3%A9l%C3%A9ments_chimiques) a un symbole standard d'une, deux ou trois lettres.\n",
    "\n",
    "Un jeu auquel certaines personnes aiment jouer consiste à déterminer si un mot peut être écrit en utilisant uniquement les symboles des éléments. Par exemple, le \"Silicon\" peut être écrit à l'aide des symboles Si, Li, C, O et N. Par contre, \"Hydrogen\" ne peut être écrit à l'aide d'aucune combinaison de symboles d'éléments. Écrivez une fonction qui détermine si un mot peut être écrit en utilisant uniquement des symboles d'éléments. Votre fonction aura besoin de deux paramètres : le mot que vous essayez d'écrire et une liste des symboles qui peuvent être utilisés. Elle renvoie une chaîne de caractères contenant les symboles utilisés pour écrire le mot, ou une chaîne vide s'il n'existe pas d'orthographe. Les majuscules doivent être ignorées.\n",
    "\n",
    "Créez un programme qui utilise votre fonction pour trouver et afficher tous les noms d'éléments qui peuvent être écrits en utilisant uniquement les symboles d'éléments.\n"
   ]
  },
  {
   "cell_type": "code",
   "execution_count": null,
   "metadata": {},
   "outputs": [],
   "source": [
    "symbols = ['H','He','Li','Be','B','C','N','O','F','Ne',\n",
    "           'Na','Mg','Al','Si','P','S','Cl','Ar','K', 'Ca',\n",
    "           'Sc', 'Ti', 'V','Cr', 'Mn', 'Fe', 'Co', 'Ni',\n",
    "           'Cu', 'Zn', 'Ga', 'Ge', 'As', 'Se', 'Br', 'Kr',\n",
    "           'Rb', 'Sr', 'Y', 'Zr', 'Nb', 'Mo', 'Tc', 'Ru',\n",
    "           'Rh', 'Pd', 'Ag', 'Cd', 'In', 'Sn', 'Sb', 'Te',\n",
    "           'I', 'Xe','Cs', 'Ba','La', 'Ce', 'Pr', 'Nd', 'Pm',\n",
    "           'Sm', 'Eu', 'Gd', 'Tb', 'Dy', 'Ho', 'Er', 'Tm',\n",
    "           'Yb', 'Lu', 'Hf', 'Ta', 'W', 'Re', 'Os', 'Ir',\n",
    "           'Pt', 'Au', 'Hg', 'Tl', 'Pb', 'Bi', 'Po', 'At', 'Rn',\n",
    "           'Fr', 'Ra', 'Ac', 'Th', 'Pa', 'U', 'Np', 'Pu', 'Am',\n",
    "           'Cm', 'Bk', 'Cf', 'Es', 'Fm', 'Md', 'No', 'Lr',\n",
    "           'Rf', 'Db', 'Sg', 'Bh','Hs', 'Mt', 'Ds', 'Rg', 'Cn',\n",
    "           'Nh', 'Fl', 'Mc', 'Lv', 'Ts', 'Og']"
   ]
  },
  {
   "cell_type": "markdown",
   "metadata": {},
   "source": [
    "# Exercice 14\n",
    "Les listes de Python peuvent contenir d'autres listes. Lorsqu'une liste se trouve à l'intérieur d'une autre, on dit que la liste intérieure est imbriquée dans la liste extérieure.\n",
    "\n",
    "Chacune des listes internes imbriquées dans la liste externe peut également contenir des listes imbriquées, et ces listes peuvent contenir des listes imbriquées à n'importe quelle profondeur. Par exemple, la liste suivante comprend des éléments qui sont imbriqués à plusieurs profondeurs différentes :   . Les listes qui contiennent plusieurs niveaux d'imbrication peuvent être utiles pour décrire des relations complexes entre des valeurs, mais ces listes peuvent également rendre difficile l'exécution de certaines opérations sur ces valeurs, car les valeurs sont imbriquées à différents niveaux.\n",
    "\n",
    "Aplatir une liste consiste à convertir une liste qui peut contenir plusieurs niveaux d'imbrication en une liste qui contient tous les mêmes éléments sans imbrication. Par exemple, en aplatissant la liste du paragraphe précédent, on obtient [1, 2, 3, 4, 5, 6, 7, 8, 9, 10]. L'algorithme récursif suivant peut être utilisé pour aplatir une liste nommée *data* :\n",
    "\n",
    "Si *data* est vide, alors\n",
    "    Retourne la liste vide\n",
    "Si le premier élément de *data* est une liste, alors\n",
    "    Définissez *l1* comme le résultat de l'aplatissement du premier élément de *data*.\n",
    "    Définissez *l2* comme le résultat de l'aplatissement de tous les éléments de *data*, sauf le premier.\n",
    "    Retourne la concaténation de *l1* et *l2*.\n",
    "Si le premier élément de *data* n'est pas une liste, alors\n",
    "    Définissez *l1* comme une liste contenant uniquement le premier élément de *data*.\n",
    "    Définissez *l2* comme le résultat de l'aplatissement de tous les éléments de *data*, sauf le premier.\n",
    "    Retournez la concaténation de *l1* et *l2*.\n",
    "\n",
    "Écrivez une fonction qui implémente l'algorithme d'aplatissement récursif décrit précédemment. Votre fonction prendra un argument, qui est la liste à aplatir, et retournera un résultat, qui est la liste aplatie.\n"
   ]
  },
  {
   "cell_type": "code",
   "execution_count": 21,
   "metadata": {},
   "outputs": [
    {
     "name": "stdout",
     "output_type": "stream",
     "text": [
      "[1, 2, 3, 4, 5, 6, 7, 8, 9, 10]\n"
     ]
    }
   ],
   "source": [
    "def aplatir(List,L=[]):\n",
    "    if List==[]: return L\n",
    "    for e in List:\n",
    "        aplatir(e) if type(e) == list else L.append(e)\n",
    "    return(L)"
   ]
  },
  {
   "cell_type": "markdown",
   "metadata": {},
   "source": [
    "# Exercice 15\n",
    "Le [codage par longueur de plage](https://fr.wikipedia.org/wiki/Codage_par_plages#:~:text=Le%20codage%20par%20plages%20ou,valeur%20donn%C3%A9e%20devrait%20%C3%AAtre%20r%C3%A9p%C3%A9t%C3%A9e.) (run-length encoding) est une technique simple de compression des données qui peut être efficace lorsque des valeurs répétées se trouvent à des positions adjacentes dans une liste. La compression est obtenue en remplaçant les groupes de valeurs répétées par une copie de la valeur, suivie du nombre de fois qu'elle doit être répétée. Par exemple, la liste [\"A\", \"A\", \"A\", \"A\", \"A\", \"A\", \"A\", \"A\", \"A\", \"A\", \"A\", \"A\", \"A\", \"B\", \"B\", \"B\", \"B\", \"A\", \"A\", \"A\", \"A\", \"A\", \"A\", \"B\"] serait comprimée sous la forme [\"A\", 12, \"B\", 4, \"A\", 6, \"B\", 1]. La décompression est effectuée en répliquant chaque valeur de la liste le nombre de fois indiqué.\n"
   ]
  },
  {
   "cell_type": "code",
   "execution_count": 11,
   "metadata": {},
   "outputs": [
    {
     "data": {
      "text/plain": [
       "['A', 1, 'B', 1, 'C', 4, 'D', 1]"
      ]
     },
     "execution_count": 11,
     "metadata": {},
     "output_type": "execute_result"
    }
   ],
   "source": [
    "def CpLdP(List):\n",
    "    I,k,R=List[0],0,[]\n",
    "    for i in List:\n",
    "        if I==i : k+=1\n",
    "        else : \n",
    "            R.append(I)\n",
    "            R.append(k)\n",
    "            I,k=i,1 \n",
    "    R.append(I)\n",
    "    R.append(k)\n",
    "    return(R)\n",
    "CpLdP([\"A\",\"B\",\"C\",\"C\",\"C\",\"C\",\"D\"])"
   ]
  },
  {
   "cell_type": "markdown",
   "metadata": {},
   "source": [
    "# Exercice 16\n",
    "Écrivez une fonction récursive qui décompresse une liste codée par longueur de plage. Votre fonction récursive prendra comme seul argument une liste compressée en longueur de plage. Elle retournera la liste décompressée comme seul résultat."
   ]
  },
  {
   "cell_type": "code",
   "execution_count": 17,
   "metadata": {},
   "outputs": [
    {
     "data": {
      "text/plain": [
       "['A', 'A', 'B', 'B', 'B', 'B', 'A', 'A', 'A', 'A', 'A', 'A', 'B']"
      ]
     },
     "execution_count": 17,
     "metadata": {},
     "output_type": "execute_result"
    }
   ],
   "source": [
    "def decode(List):\n",
    "    if List==[]:\n",
    "        return List\n",
    "    else:\n",
    "        I,k=[List[0]],List[1]\n",
    "        return(I*k + decode(List[2:]))"
   ]
  }
 ],
 "metadata": {
  "interpreter": {
   "hash": "af3e840ad029f810976cb678bd284953b6040323d93f0a3a89d72c6b45958501"
  },
  "kernelspec": {
   "display_name": "Python 3.9.2 ('phd')",
   "language": "python",
   "name": "python3"
  },
  "language_info": {
   "codemirror_mode": {
    "name": "ipython",
    "version": 3
   },
   "file_extension": ".py",
   "mimetype": "text/x-python",
   "name": "python",
   "nbconvert_exporter": "python",
   "pygments_lexer": "ipython3",
   "version": "3.10.0"
  },
  "orig_nbformat": 4
 },
 "nbformat": 4,
 "nbformat_minor": 2
}
