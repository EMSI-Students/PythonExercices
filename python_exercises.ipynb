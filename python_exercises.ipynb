{
 "cells": [
  {
   "cell_type": "markdown",
   "metadata": {},
   "source": [
    "# Exercice 1\n",
    "Les codes ASCII des lettres minuscules de l'alphabet vont de 97 (lettre \"a\") à 122 (lettre \"z\"). La fonction *chr* prend en argument un code ASCII sous la forme d'un entier et renvoie le caractère correspondant (sous la forme d'une chaîne de caractères). Ainsi *chr(97)* renvoie \"a\", *chr(98)* renvoie \"b\" et ainsi de suite.\n",
    "\n",
    "Créez la fonction *get_alphabet* qui utilise une boucle et la fonction *chr* et qui renvoie une chaîne de caractères contenant toutes les lettres de l'alphabet.\n",
    "\n",
    "Un [pangramme](https://fr.wikipedia.org/wiki/Pangramme) est une phrase comportant au moins une fois chaque lettre de l'alphabet. Par exemple, \"Voyez ce koala fou qui mange des journaux et des photos dans un bungalow\" est un pangramme.\n",
    "\n",
    "Créez la fonction *is_pangramme* qui utilise la fonction *get_alphabet* précédente, qui prend en argument une chaîne de caractères et qui renvoie *True* est un pangramme si cette chaîne de caractères est un pangramme ou *False* sinon.\n"
   ]
  },
  {
   "cell_type": "code",
   "execution_count": null,
   "metadata": {},
   "outputs": [],
   "source": [
    "def get_alphabet ():\n",
    "    i=97\n",
    "    s=\"\"\n",
    "    while i <= 122:\n",
    "       s=s+chr(i)\n",
    "       i+=1\n",
    "    return  s\n",
    "\n",
    "\n",
    "h=get_alphabet()\n",
    "print(h)\n",
    "\n",
    "def is_pangramme (str):\n",
    "    h = get_alphabet()\n",
    "    j=0\n",
    "    x=False\n",
    "    for i in h:\n",
    "        if i in str:\n",
    "            x =True\n",
    "        else:\n",
    "            x=False\n",
    "            break\n",
    "    return x\n",
    "\n",
    "STR= input(\"sive a string :\")\n",
    "x= is_pangramme(STR)\n",
    "print(x)\n"
   ]
  },
  {
   "cell_type": "markdown",
   "metadata": {},
   "source": [
    "# Exercice 2\n",
    "Implémentez une fonction qui prend un entier comme argument et affiche un [triangle Pascal](https://fr.wikipedia.org/wiki/Triangle_de_Pascal). Par exemple, prenons la valeur 6 comme argument, la fonction affiche le triangle suivant :\n",
    "\n",
    "```\n",
    "1\n",
    "1 1\n",
    "1 2 1\n",
    "1 3 3 1\n",
    "1 4 6 4 1\n",
    "1 5 10 10 5 1\n",
    "```"
   ]
  },
  {
   "cell_type": "code",
   "execution_count": null,
   "metadata": {},
   "outputs": [],
   "source": [
    "def passcal (nbr):\n",
    "     s=\"\"\n",
    "     triangle = [[0] * (nbr ) for p in range(nbr )]\n",
    "     for nbr in range(nbr ):\n",
    "            if nbr == 0:\n",
    "                triangle[nbr][0] = 1\n",
    "\n",
    "            else:\n",
    "                for k in range(nbr + 1):\n",
    "                    if k == 0:\n",
    "                        triangle[nbr][0] = 1\n",
    "\n",
    "                    else:\n",
    "                        triangle[nbr][k] = triangle[nbr - 1][k - 1] + triangle[nbr - 1][k]\n",
    "     for i in triangle:\n",
    "         for j in i:\n",
    "            s=s+str(j)+\"  \"\n",
    "         s=s+\"\\n\"\n",
    "\n",
    "     print(s)\n",
    "\n",
    "rows = int(input(\"give the number of rows :\"))\n",
    "passcal(rows)\n",
    "\n"
   ]
  },
  {
   "cell_type": "markdown",
   "metadata": {},
   "source": [
    "# Exercice 3\n",
    "Un bit de parité ([parity bit](https://en.wikipedia.org/wiki/Parity_bit)) est un mécanisme simple de détection des erreurs dans les données transmises sur une connexion non fiable telle qu'une ligne téléphonique. L'idée de base est qu'un bit supplémentaire est transmis après chaque groupe de 7 bits afin de pouvoir détecter une erreur d'un seul bit dans la transmission.\n",
    "\n",
    "Les bits de parité peuvent être calculés pour une parité paire ou impaire. Si la parité paire est sélectionnée, le bit de parité qui est transmis est choisi de manière à ce que le nombre total de bits 1 transmis (7 bits de données plus le bit de parité) soit pair. \n",
    "\n",
    "Lorsque la parité impaire est sélectionnée, le bit de parité est choisi de manière à ce que le nombre total de bits transmis soit impair.\n",
    "\n",
    "Écrivez une fonction qui prend un message en argument, le traduit en code ASCII et le convertit en binaire, puis ajoute le bit de parité pour chaque groupe de 7 bits. La fonction renvoie une série binaire.\n"
   ]
  },
  {
   "cell_type": "markdown",
   "metadata": {},
   "source": [
    "# Exercice 4\n",
    "Une date ordinale ([ordinal date](https://en.wikipedia.org/wiki/Ordinal_date)) se compose d'une année et d'un jour, qui sont tous deux des nombres entiers. L'année peut être n'importe quelle année du calendrier grégorien, tandis que le jour de l'année va de 1, qui représente le 1er janvier, à 365 (ou 366 si l'année est bissextile), qui représente le 31 décembre. Les dates ordinales sont pratiques pour calculer les différences entre des dates qui correspondent à un nombre spécifique de jours (plutôt que de mois). Par exemple, les dates ordinales peuvent être utilisées pour déterminer facilement si un client est dans un délai de remboursement de 90 jours, la date limite de vente d'un produit alimentaire en fonction de sa date de production, et la date d'accouchement d'un bébé.\n",
    "\n",
    "Écrivez une fonction nommée *ordinalDate* qui prend trois entiers comme paramètres.\n",
    "\n",
    "Ces paramètres seront respectivement le jour, le mois et l'année. La fonction doit retourner le jour dans l'année pour cette date comme seul résultat.\n"
   ]
  },
  {
   "cell_type": "markdown",
   "metadata": {},
   "source": [
    "# Exercice 5\n",
    "Créez une fonction qui prend comme paramètres une date ordinale, constituée d'une année et d'un jour de cette année. La fonction renvoie comme résultat le jour et le mois correspondant à cette date ordinale. Assurez-vous que votre fonction traite correctement les années bissextiles.\n",
    "\n",
    "Utilisez votre fonction, ainsi que la fonction *ordinalDate* que vous avez écrit précédemment, pour créer un programme qui lit une date auprès de l'utilisateur. Votre programme doit ensuite fournir une deuxième date qui se produit un certain nombre de jours plus tard. Par exemple, votre programme peut lire la date d'achat d'un produit et indiquer la dernière date à laquelle il peut être retourné (sur la base du délai de retour d'un certain nombre de jours). Assurez-vous que votre programme traite correctement les cas où la date saisie et la date calculée se situent dans des années différentes.\n"
   ]
  },
  {
   "cell_type": "markdown",
   "metadata": {},
   "source": [
    "# Exercice 6\n",
    "Écrivez une fonction qui génère un mot de passe aléatoire. Le mot de passe doit avoir une longueur aléatoire comprise entre 7 et 10 caractères. Chaque caractère doit être choisi au hasard parmi les positions 33 à 126 de la table ASCII. Votre fonction ne prend pas de paramètres.\n"
   ]
  },
  {
   "cell_type": "markdown",
   "metadata": {},
   "source": [
    "# Exercice 7\n",
    "Dans cet exercice, vous allez écrire une fonction qui détermine si un mot de passe est bon ou non. Nous définirons un bon mot de passe comme étant un mot de passe d'au moins 8 caractères et contenant au moins une lettre majuscule, au moins une lettre minuscule, au un moins caractère spécial, et au moins un chiffre. Votre fonction doit retourner *True* si le mot de passe qui lui est passé comme seul paramètre est bon. Sinon, elle doit renvoyer *False*.\n"
   ]
  },
  {
   "cell_type": "markdown",
   "metadata": {},
   "source": [
    "# Exercice 8\n",
    "En utilisant vos solutions aux exercices précédents, écrivez un programme qui génère un bon mot de passe aléatoire et l'affiche. Comptez et affichez le nombre de tentatives qui ont été nécessaires avant qu'un bon mot de passe soit généré.\n"
   ]
  },
  {
   "cell_type": "markdown",
   "metadata": {},
   "source": [
    "# Exercice 9\n",
    "Écrivez deux fonctions, *hex2int* et *int2hex*, qui convertissent les chiffres hexadécimaux (0, 1, 2, 3, 4, 5, 6, 7, 8, 9, A, B, C, D, E et F) en nombres entiers décimaux (base 10).\n",
    "\n",
    "Chaque fonction prend la valeur à convertir comme seul paramètre et renvoie la valeur convertie comme seul résultat. Assurez-vous que la fonction *hex2int* fonctionne correctement pour les lettres majuscules et minuscules. Vos fonctions doivent afficher un message d'erreur significatif et mettre fin au programme si la valeur du paramètre est en dehors de la plage de valeurs attendues.\n"
   ]
  },
  {
   "cell_type": "markdown",
   "metadata": {},
   "source": [
    "# Exercice 10\n",
    "Écrivez un programme qui permet à l'utilisateur de convertir un nombre d'une base à une autre.\n",
    "\n",
    "Votre programme doit prendre en charge les bases comprises entre 2 et 16, tant pour le nombre d'entrée que pour le nombre de résultat. Si l'utilisateur choisit une base en dehors de cette plage, un message d'erreur approprié doit s'afficher et le programme doit se terminer.\n"
   ]
  },
  {
   "cell_type": "markdown",
   "metadata": {},
   "source": [
    "# Exercice 11\n",
    "Écrivez une fonction qui prend comme seuls paramètres deux entiers positifs représentant le numérateur et le dénominateur d'une fraction. Le corps de la fonction doit réduire la fraction aux termes les plus bas, puis retourner le numérateur et le dénominateur de la fraction réduite comme résultat. Par exemple, si les paramètres transmis à la fonction sont 6 et 63, la fonction doit renvoyer 2 et 21.\n"
   ]
  },
  {
   "cell_type": "markdown",
   "metadata": {},
   "source": [
    "# Exercice 12\n",
    "Même après la chute de l'empire romain, ses chiffres ont continué à être largement utilisés en Europe jusqu'à la fin du Moyen Âge, et ses chiffres sont encore utilisés dans des circonstances limitées aujourd'hui.\n",
    "\n",
    "Les [chiffres romains](https://fr.wikipedia.org/wiki/Num%C3%A9ration_romaine) sont construits à partir des lettres M, D, C, L, X, V et I qui représentent respectivement 1000, 500, 100, 50, 10, 5 et 1. Les chiffres s'écrivent généralement de la plus grande valeur à la plus petite. Dans ce cas, la valeur du nombre est la somme des valeurs de tous ses chiffres. Si une valeur plus petite précède une valeur plus grande, alors la valeur plus petite est soustraite de la valeur plus grande qu'elle précède immédiatement, et cette différence est ajoutée à la valeur du nombre.\n",
    "\n",
    "Convertit un chiffre romain de l'utilisateur en un nombre entier.\n"
   ]
  },
  {
   "cell_type": "markdown",
   "metadata": {},
   "source": [
    "# Exercice 13\n",
    "Chaque [élément chimique](https://fr.wikipedia.org/wiki/Liste_des_%C3%A9l%C3%A9ments_chimiques) a un symbole standard d'une, deux ou trois lettres.\n",
    "\n",
    "Un jeu auquel certaines personnes aiment jouer consiste à déterminer si un mot peut être écrit en utilisant uniquement les symboles des éléments. Par exemple, le \"Silicon\" peut être écrit à l'aide des symboles Si, Li, C, O et N. Par contre, \"Hydrogen\" ne peut être écrit à l'aide d'aucune combinaison de symboles d'éléments. Écrivez une fonction qui détermine si un mot peut être écrit en utilisant uniquement des symboles d'éléments. Votre fonction aura besoin de deux paramètres : le mot que vous essayez d'écrire et une liste des symboles qui peuvent être utilisés. Elle renvoie une chaîne de caractères contenant les symboles utilisés pour écrire le mot, ou une chaîne vide s'il n'existe pas d'orthographe. Les majuscules doivent être ignorées.\n",
    "\n",
    "Créez un programme qui utilise votre fonction pour trouver et afficher tous les noms d'éléments qui peuvent être écrits en utilisant uniquement les symboles d'éléments.\n"
   ]
  },
  {
   "cell_type": "markdown",
   "metadata": {},
   "source": [
    "# Exercice 14\n",
    "Les listes de Python peuvent contenir d'autres listes. Lorsqu'une liste se trouve à l'intérieur d'une autre, on dit que la liste intérieure est imbriquée dans la liste extérieure.\n",
    "\n",
    "Chacune des listes internes imbriquées dans la liste externe peut également contenir des listes imbriquées, et ces listes peuvent contenir des listes imbriquées à n'importe quelle profondeur. Par exemple, la liste suivante comprend des éléments qui sont imbriqués à plusieurs profondeurs différentes : [1, [2, 3], [4, [5, [6, 7]]], [[[8], 9], [10]]]. Les listes qui contiennent plusieurs niveaux d'imbrication peuvent être utiles pour décrire des relations complexes entre des valeurs, mais ces listes peuvent également rendre difficile l'exécution de certaines opérations sur ces valeurs, car les valeurs sont imbriquées à différents niveaux.\n",
    "\n",
    "Aplatir une liste consiste à convertir une liste qui peut contenir plusieurs niveaux d'imbrication en une liste qui contient tous les mêmes éléments sans imbrication. Par exemple, en aplatissant la liste du paragraphe précédent, on obtient [1, 2, 3, 4, 5, 6, 7, 8, 9, 10]. L'algorithme récursif suivant peut être utilisé pour aplatir une liste nommée *data* :\n",
    "\n",
    "Si *data* est vide, alors\n",
    "    Retourne la liste vide\n",
    "Si le premier élément de *data* est une liste, alors\n",
    "    Définissez *l1* comme le résultat de l'aplatissement du premier élément de *data*.\n",
    "    Définissez *l2* comme le résultat de l'aplatissement de tous les éléments de *data*, sauf le premier.\n",
    "    Retourne la concaténation de *l1* et *l2*.\n",
    "Si le premier élément de *data* n'est pas une liste, alors\n",
    "    Définissez *l1* comme une liste contenant uniquement le premier élément de *data*.\n",
    "    Définissez *l2* comme le résultat de l'aplatissement de tous les éléments de *data*, sauf le premier.\n",
    "    Retournez la concaténation de *l1* et *l2*.\n",
    "\n",
    "Écrivez une fonction qui implémente l'algorithme d'aplatissement récursif décrit précédemment. Votre fonction prendra un argument, qui est la liste à aplatir, et retournera un résultat, qui est la liste aplatie.\n"
   ]
  },
  {
   "cell_type": "markdown",
   "metadata": {},
   "source": [
    "# Exercice 15\n",
    "Le [codage par longueur de plage](https://fr.wikipedia.org/wiki/Codage_par_plages#:~:text=Le%20codage%20par%20plages%20ou,valeur%20donn%C3%A9e%20devrait%20%C3%AAtre%20r%C3%A9p%C3%A9t%C3%A9e.) (run-length encoding) est une technique simple de compression des données qui peut être efficace lorsque des valeurs répétées se trouvent à des positions adjacentes dans une liste. La compression est obtenue en remplaçant les groupes de valeurs répétées par une copie de la valeur, suivie du nombre de fois qu'elle doit être répétée. Par exemple, la liste [\"A\", \"A\", \"A\", \"A\", \"A\", \"A\", \"A\", \"A\", \"A\", \"A\", \"A\", \"A\", \"A\", \"B\", \"B\", \"B\", \"B\", \"A\", \"A\", \"A\", \"A\", \"A\", \"A\", \"B\"] serait comprimée sous la forme [\"A\", 12, \"B\", 4, \"A\", 6, \"B\", 1]. La décompression est effectuée en répliquant chaque valeur de la liste le nombre de fois indiqué.\n"
   ]
  },
  {
   "cell_type": "markdown",
   "metadata": {},
   "source": [
    "# Exercice 16\n",
    "Écrivez une fonction récursive qui décompresse une liste codée par longueur de plage. Votre fonction récursive prendra comme seul argument une liste compressée en longueur de plage. Elle retournera la liste décompressée comme seul résultat."
   ]
  }
 ],
 "metadata": {
  "interpreter": {
   "hash": "af3e840ad029f810976cb678bd284953b6040323d93f0a3a89d72c6b45958501"
  },
  "kernelspec": {
   "display_name": "Python 3.9.2 ('phd')",
   "language": "python",
   "name": "python3"
  },
  "language_info": {
   "name": "python",
   "version": "3.9.2"
  },
  "orig_nbformat": 4
 },
 "nbformat": 4,
 "nbformat_minor": 2
}
